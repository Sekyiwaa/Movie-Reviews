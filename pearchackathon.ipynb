{
  "cells": [
    {
      "cell_type": "markdown",
      "metadata": {
        "id": "fE3wW3tWsunO"
      },
      "source": [
        "# Part I: Bag of Words"
      ]
    },
    {
      "cell_type": "code",
      "execution_count": null,
      "metadata": {
        "id": "_wadLfxKsunR"
      },
      "outputs": [],
      "source": []
    },
    {
      "cell_type": "code",
      "execution_count": null,
      "metadata": {
        "pycharm": {
          "is_executing": false
        },
        "id": "3AF9lxFdsunS"
      },
      "outputs": [],
      "source": [
        "#adapted from:\n",
        "#https://github.com/sahilee26/IMDB-Movie-Reviews-Sentiment-Analysis/blob/master/Bag-of-words-random-forest.ipynb\n",
        "#https://github.com/shiaoligreen/practical-data-science/tree/master/Bag%20of%20Words%20Meets%20Bags%20of%20Popcorn\n",
        "\n",
        "# Load packages\n",
        "\n",
        "#Generic tools\n",
        "import re\n",
        "import numpy as np\n",
        "import os\n",
        "\n",
        "#Data pre-preprocessing\n",
        "import pandas as pd\n",
        "from bs4 import BeautifulSoup\n",
        "import nltk\n",
        "from nltk.corpus import stopwords as nltkstopwords\n",
        "import nltk.data\n",
        "\n",
        "#Data split and featurization\n",
        "from sklearn.model_selection import train_test_split\n",
        "from sklearn.feature_extraction.text import CountVectorizer\n",
        "\n",
        "#Random forest classifier and evaluation\n",
        "from sklearn.ensemble import RandomForestClassifier\n",
        "from sklearn.metrics import roc_curve, auc, accuracy_score\n",
        "import matplotlib.pyplot as plt\n",
        "\n",
        "#Random forest visualization\n",
        "import graphviz\n",
        "from sklearn.tree import export_graphviz\n",
        "\n",
        "#Multilayer Perceptron classifier\n",
        "from sklearn.neural_network import MLPClassifier\n",
        "from sklearn.datasets import make_classification\n",
        "\n",
        "\n",
        "\n"
      ]
    },
    {
      "cell_type": "code",
      "execution_count": null,
      "metadata": {
        "id": "3H01Pp4lsunT"
      },
      "outputs": [],
      "source": [
        "# Load data\n",
        "train = pd.read_csv(\"data/labeledTrainData.tsv\",\n",
        "                    header=0, delimiter=\"\\t\",\n",
        "                    quoting=3)\n",
        "\n",
        "test = pd.read_csv(\"data/testData.tsv\",\n",
        "                   header=0, delimiter=\"\\t\",\n",
        "                   quoting=3 )\n",
        "\n",
        "unlabeled_train = pd.read_csv(\"data/unlabeledTrainData.tsv\", header=0,\n",
        "                              delimiter=\"\\t\", quoting=3 )\n",
        "\n",
        "# Split data to train and test partitions\n",
        "X_train, X_test, y_train, y_test = train_test_split(train.drop(columns=['sentiment']),\n",
        "                                                    train.sentiment, test_size=0.2)\n",
        "\n",
        "X_train = X_train.reset_index(drop=True)\n",
        "X_test = X_test.reset_index(drop=True)"
      ]
    },
    {
      "cell_type": "code",
      "execution_count": null,
      "metadata": {
        "pycharm": {
          "is_executing": false
        },
        "scrolled": true,
        "tags": [],
        "colab": {
          "base_uri": "https://localhost:8080/"
        },
        "id": "xdrcgKAFsunT",
        "outputId": "ecc8acd5-e9ca-47e7-cddc-eaee862782fb"
      },
      "outputs": [
        {
          "output_type": "stream",
          "name": "stderr",
          "text": [
            "[nltk_data] Downloading package stopwords to /root/nltk_data...\n",
            "[nltk_data]   Unzipping corpora/stopwords.zip.\n"
          ]
        },
        {
          "output_type": "execute_result",
          "data": {
            "text/plain": [
              "True"
            ]
          },
          "metadata": {},
          "execution_count": 3
        }
      ],
      "source": [
        "# Download text datasets, including stop words\n",
        "nltk.download('stopwords') #Notebook root update"
      ]
    },
    {
      "cell_type": "code",
      "source": [
        "train.head()\n"
      ],
      "metadata": {
        "colab": {
          "base_uri": "https://localhost:8080/",
          "height": 226
        },
        "id": "7nSegtjZMz9G",
        "outputId": "0cbd598e-7482-454e-eeb8-9e966e61c1ab"
      },
      "execution_count": null,
      "outputs": [
        {
          "output_type": "execute_result",
          "data": {
            "text/plain": [
              "         id  sentiment                                             review\n",
              "0  \"5814_8\"          1  \"With all this stuff going down at the moment ...\n",
              "1  \"2381_9\"          1  \"\\\"The Classic War of the Worlds\\\" by Timothy ...\n",
              "2  \"7759_3\"          0  \"The film starts with a manager (Nicholas Bell...\n",
              "3  \"3630_4\"          0  \"It must be assumed that those who praised thi...\n",
              "4  \"9495_8\"          1  \"Superbly trashy and wondrously unpretentious ..."
            ],
            "text/html": [
              "\n",
              "  <div id=\"df-695a47ad-7820-449c-8a46-f52100382af5\" class=\"colab-df-container\">\n",
              "    <div>\n",
              "<style scoped>\n",
              "    .dataframe tbody tr th:only-of-type {\n",
              "        vertical-align: middle;\n",
              "    }\n",
              "\n",
              "    .dataframe tbody tr th {\n",
              "        vertical-align: top;\n",
              "    }\n",
              "\n",
              "    .dataframe thead th {\n",
              "        text-align: right;\n",
              "    }\n",
              "</style>\n",
              "<table border=\"1\" class=\"dataframe\">\n",
              "  <thead>\n",
              "    <tr style=\"text-align: right;\">\n",
              "      <th></th>\n",
              "      <th>id</th>\n",
              "      <th>sentiment</th>\n",
              "      <th>review</th>\n",
              "    </tr>\n",
              "  </thead>\n",
              "  <tbody>\n",
              "    <tr>\n",
              "      <th>0</th>\n",
              "      <td>\"5814_8\"</td>\n",
              "      <td>1</td>\n",
              "      <td>\"With all this stuff going down at the moment ...</td>\n",
              "    </tr>\n",
              "    <tr>\n",
              "      <th>1</th>\n",
              "      <td>\"2381_9\"</td>\n",
              "      <td>1</td>\n",
              "      <td>\"\\\"The Classic War of the Worlds\\\" by Timothy ...</td>\n",
              "    </tr>\n",
              "    <tr>\n",
              "      <th>2</th>\n",
              "      <td>\"7759_3\"</td>\n",
              "      <td>0</td>\n",
              "      <td>\"The film starts with a manager (Nicholas Bell...</td>\n",
              "    </tr>\n",
              "    <tr>\n",
              "      <th>3</th>\n",
              "      <td>\"3630_4\"</td>\n",
              "      <td>0</td>\n",
              "      <td>\"It must be assumed that those who praised thi...</td>\n",
              "    </tr>\n",
              "    <tr>\n",
              "      <th>4</th>\n",
              "      <td>\"9495_8\"</td>\n",
              "      <td>1</td>\n",
              "      <td>\"Superbly trashy and wondrously unpretentious ...</td>\n",
              "    </tr>\n",
              "  </tbody>\n",
              "</table>\n",
              "</div>\n",
              "    <div class=\"colab-df-buttons\">\n",
              "\n",
              "  <div class=\"colab-df-container\">\n",
              "    <button class=\"colab-df-convert\" onclick=\"convertToInteractive('df-695a47ad-7820-449c-8a46-f52100382af5')\"\n",
              "            title=\"Convert this dataframe to an interactive table.\"\n",
              "            style=\"display:none;\">\n",
              "\n",
              "  <svg xmlns=\"http://www.w3.org/2000/svg\" height=\"24px\" viewBox=\"0 -960 960 960\">\n",
              "    <path d=\"M120-120v-720h720v720H120Zm60-500h600v-160H180v160Zm220 220h160v-160H400v160Zm0 220h160v-160H400v160ZM180-400h160v-160H180v160Zm440 0h160v-160H620v160ZM180-180h160v-160H180v160Zm440 0h160v-160H620v160Z\"/>\n",
              "  </svg>\n",
              "    </button>\n",
              "\n",
              "  <style>\n",
              "    .colab-df-container {\n",
              "      display:flex;\n",
              "      gap: 12px;\n",
              "    }\n",
              "\n",
              "    .colab-df-convert {\n",
              "      background-color: #E8F0FE;\n",
              "      border: none;\n",
              "      border-radius: 50%;\n",
              "      cursor: pointer;\n",
              "      display: none;\n",
              "      fill: #1967D2;\n",
              "      height: 32px;\n",
              "      padding: 0 0 0 0;\n",
              "      width: 32px;\n",
              "    }\n",
              "\n",
              "    .colab-df-convert:hover {\n",
              "      background-color: #E2EBFA;\n",
              "      box-shadow: 0px 1px 2px rgba(60, 64, 67, 0.3), 0px 1px 3px 1px rgba(60, 64, 67, 0.15);\n",
              "      fill: #174EA6;\n",
              "    }\n",
              "\n",
              "    .colab-df-buttons div {\n",
              "      margin-bottom: 4px;\n",
              "    }\n",
              "\n",
              "    [theme=dark] .colab-df-convert {\n",
              "      background-color: #3B4455;\n",
              "      fill: #D2E3FC;\n",
              "    }\n",
              "\n",
              "    [theme=dark] .colab-df-convert:hover {\n",
              "      background-color: #434B5C;\n",
              "      box-shadow: 0px 1px 3px 1px rgba(0, 0, 0, 0.15);\n",
              "      filter: drop-shadow(0px 1px 2px rgba(0, 0, 0, 0.3));\n",
              "      fill: #FFFFFF;\n",
              "    }\n",
              "  </style>\n",
              "\n",
              "    <script>\n",
              "      const buttonEl =\n",
              "        document.querySelector('#df-695a47ad-7820-449c-8a46-f52100382af5 button.colab-df-convert');\n",
              "      buttonEl.style.display =\n",
              "        google.colab.kernel.accessAllowed ? 'block' : 'none';\n",
              "\n",
              "      async function convertToInteractive(key) {\n",
              "        const element = document.querySelector('#df-695a47ad-7820-449c-8a46-f52100382af5');\n",
              "        const dataTable =\n",
              "          await google.colab.kernel.invokeFunction('convertToInteractive',\n",
              "                                                    [key], {});\n",
              "        if (!dataTable) return;\n",
              "\n",
              "        const docLinkHtml = 'Like what you see? Visit the ' +\n",
              "          '<a target=\"_blank\" href=https://colab.research.google.com/notebooks/data_table.ipynb>data table notebook</a>'\n",
              "          + ' to learn more about interactive tables.';\n",
              "        element.innerHTML = '';\n",
              "        dataTable['output_type'] = 'display_data';\n",
              "        await google.colab.output.renderOutput(dataTable, element);\n",
              "        const docLink = document.createElement('div');\n",
              "        docLink.innerHTML = docLinkHtml;\n",
              "        element.appendChild(docLink);\n",
              "      }\n",
              "    </script>\n",
              "  </div>\n",
              "\n",
              "\n",
              "<div id=\"df-19f7332e-7ab0-4085-b2c8-c75378d3d110\">\n",
              "  <button class=\"colab-df-quickchart\" onclick=\"quickchart('df-19f7332e-7ab0-4085-b2c8-c75378d3d110')\"\n",
              "            title=\"Suggest charts\"\n",
              "            style=\"display:none;\">\n",
              "\n",
              "<svg xmlns=\"http://www.w3.org/2000/svg\" height=\"24px\"viewBox=\"0 0 24 24\"\n",
              "     width=\"24px\">\n",
              "    <g>\n",
              "        <path d=\"M19 3H5c-1.1 0-2 .9-2 2v14c0 1.1.9 2 2 2h14c1.1 0 2-.9 2-2V5c0-1.1-.9-2-2-2zM9 17H7v-7h2v7zm4 0h-2V7h2v10zm4 0h-2v-4h2v4z\"/>\n",
              "    </g>\n",
              "</svg>\n",
              "  </button>\n",
              "\n",
              "<style>\n",
              "  .colab-df-quickchart {\n",
              "      --bg-color: #E8F0FE;\n",
              "      --fill-color: #1967D2;\n",
              "      --hover-bg-color: #E2EBFA;\n",
              "      --hover-fill-color: #174EA6;\n",
              "      --disabled-fill-color: #AAA;\n",
              "      --disabled-bg-color: #DDD;\n",
              "  }\n",
              "\n",
              "  [theme=dark] .colab-df-quickchart {\n",
              "      --bg-color: #3B4455;\n",
              "      --fill-color: #D2E3FC;\n",
              "      --hover-bg-color: #434B5C;\n",
              "      --hover-fill-color: #FFFFFF;\n",
              "      --disabled-bg-color: #3B4455;\n",
              "      --disabled-fill-color: #666;\n",
              "  }\n",
              "\n",
              "  .colab-df-quickchart {\n",
              "    background-color: var(--bg-color);\n",
              "    border: none;\n",
              "    border-radius: 50%;\n",
              "    cursor: pointer;\n",
              "    display: none;\n",
              "    fill: var(--fill-color);\n",
              "    height: 32px;\n",
              "    padding: 0;\n",
              "    width: 32px;\n",
              "  }\n",
              "\n",
              "  .colab-df-quickchart:hover {\n",
              "    background-color: var(--hover-bg-color);\n",
              "    box-shadow: 0 1px 2px rgba(60, 64, 67, 0.3), 0 1px 3px 1px rgba(60, 64, 67, 0.15);\n",
              "    fill: var(--button-hover-fill-color);\n",
              "  }\n",
              "\n",
              "  .colab-df-quickchart-complete:disabled,\n",
              "  .colab-df-quickchart-complete:disabled:hover {\n",
              "    background-color: var(--disabled-bg-color);\n",
              "    fill: var(--disabled-fill-color);\n",
              "    box-shadow: none;\n",
              "  }\n",
              "\n",
              "  .colab-df-spinner {\n",
              "    border: 2px solid var(--fill-color);\n",
              "    border-color: transparent;\n",
              "    border-bottom-color: var(--fill-color);\n",
              "    animation:\n",
              "      spin 1s steps(1) infinite;\n",
              "  }\n",
              "\n",
              "  @keyframes spin {\n",
              "    0% {\n",
              "      border-color: transparent;\n",
              "      border-bottom-color: var(--fill-color);\n",
              "      border-left-color: var(--fill-color);\n",
              "    }\n",
              "    20% {\n",
              "      border-color: transparent;\n",
              "      border-left-color: var(--fill-color);\n",
              "      border-top-color: var(--fill-color);\n",
              "    }\n",
              "    30% {\n",
              "      border-color: transparent;\n",
              "      border-left-color: var(--fill-color);\n",
              "      border-top-color: var(--fill-color);\n",
              "      border-right-color: var(--fill-color);\n",
              "    }\n",
              "    40% {\n",
              "      border-color: transparent;\n",
              "      border-right-color: var(--fill-color);\n",
              "      border-top-color: var(--fill-color);\n",
              "    }\n",
              "    60% {\n",
              "      border-color: transparent;\n",
              "      border-right-color: var(--fill-color);\n",
              "    }\n",
              "    80% {\n",
              "      border-color: transparent;\n",
              "      border-right-color: var(--fill-color);\n",
              "      border-bottom-color: var(--fill-color);\n",
              "    }\n",
              "    90% {\n",
              "      border-color: transparent;\n",
              "      border-bottom-color: var(--fill-color);\n",
              "    }\n",
              "  }\n",
              "</style>\n",
              "\n",
              "  <script>\n",
              "    async function quickchart(key) {\n",
              "      const quickchartButtonEl =\n",
              "        document.querySelector('#' + key + ' button');\n",
              "      quickchartButtonEl.disabled = true;  // To prevent multiple clicks.\n",
              "      quickchartButtonEl.classList.add('colab-df-spinner');\n",
              "      try {\n",
              "        const charts = await google.colab.kernel.invokeFunction(\n",
              "            'suggestCharts', [key], {});\n",
              "      } catch (error) {\n",
              "        console.error('Error during call to suggestCharts:', error);\n",
              "      }\n",
              "      quickchartButtonEl.classList.remove('colab-df-spinner');\n",
              "      quickchartButtonEl.classList.add('colab-df-quickchart-complete');\n",
              "    }\n",
              "    (() => {\n",
              "      let quickchartButtonEl =\n",
              "        document.querySelector('#df-19f7332e-7ab0-4085-b2c8-c75378d3d110 button');\n",
              "      quickchartButtonEl.style.display =\n",
              "        google.colab.kernel.accessAllowed ? 'block' : 'none';\n",
              "    })();\n",
              "  </script>\n",
              "</div>\n",
              "\n",
              "    </div>\n",
              "  </div>\n"
            ],
            "application/vnd.google.colaboratory.intrinsic+json": {
              "type": "dataframe",
              "variable_name": "train",
              "summary": "{\n  \"name\": \"train\",\n  \"rows\": 25000,\n  \"fields\": [\n    {\n      \"column\": \"id\",\n      \"properties\": {\n        \"dtype\": \"string\",\n        \"num_unique_values\": 25000,\n        \"samples\": [\n          \"\\\"2570_3\\\"\",\n          \"\\\"4897_8\\\"\",\n          \"\\\"8485_3\\\"\"\n        ],\n        \"semantic_type\": \"\",\n        \"description\": \"\"\n      }\n    },\n    {\n      \"column\": \"sentiment\",\n      \"properties\": {\n        \"dtype\": \"number\",\n        \"std\": 0,\n        \"min\": 0,\n        \"max\": 1,\n        \"num_unique_values\": 2,\n        \"samples\": [\n          0,\n          1\n        ],\n        \"semantic_type\": \"\",\n        \"description\": \"\"\n      }\n    },\n    {\n      \"column\": \"review\",\n      \"properties\": {\n        \"dtype\": \"string\",\n        \"num_unique_values\": 24904,\n        \"samples\": [\n          \"\\\"This is not my favorite WIP (\\\\\\\"Women in Prison\\\\\\\"), but it is one of the most famous films in the sub-genre. It is was produced by Roger Corman, who at this point had already produced a few WIPs. It is obvious that the film tries to play with the established formula. The movie takes place in an USA prison, not in a \\\\\\\"banana republic\\\\\\\" like most WIP films. I'm not sure if that was a wise move, but it is an acceptable change of pace. Writer-director Demme really gets into his job, always digging for new ways to present a familiar scenario. In fact, he is a little too ambitious for his own good. The filmmaker creates a few surreal dream sequences that are borderline pretentious but it is fun to see how hard he tries to put this film above your average chicks-in-chains flick. But do not worry, Demme still operates within the parameters of the sub-genre. There is plenty of nudity and violence, something that will satisfy hardcore fans. The film is a little slow, but it is very entertaining. The cast is good. Roberta Collins is a WIP veteran, so she does not need an introduction, and Barbara Steel is a hoot as the wheelchair-bound crazy warden. Pam Grier is sorely missed, though.\\\"\",\n          \"\\\"In 1972, after his wife left to go her own way, Elvis Presley began dating Linda Thompson. Miss Thompson, a good-humored, long haired, lovely, statuesque beauty queen, is charted to fill a void in Elvis' life. When Elvis' divorce became final, Linda was already in place as the legendary performer's live-in girlfriend and travel companion until 1976.<br /><br />This is a gaudy look at their love affair and companionship. Linda whole-heartedly tending to her lover's needs and desires. And even putting up with his swallowing medications by the handful and introducing her to her own love affair with valium. At times this movie is harsh and dark of heart; a very unattractive look at the 'King' and his queen.<br /><br />Don Johnson is absolutely awful as Elvis. Over acting to the hilt is not attractive. Stephanie Zimbalist lacks the classiness of Linda, but does the job pretty well. Supporting cast includes: John Crawford, Ruta Lee, and Rick Lenz. Watching this twice is more than enough for me, but don't let this review stop you from checking it out. For most Elvis fans that I have conferred with, this is not a favored presentation.\\\"\"\n        ],\n        \"semantic_type\": \"\",\n        \"description\": \"\"\n      }\n    }\n  ]\n}"
            }
          },
          "metadata": {},
          "execution_count": 4
        }
      ]
    },
    {
      "cell_type": "code",
      "source": [],
      "metadata": {
        "id": "JNENE0rtNdIs"
      },
      "execution_count": null,
      "outputs": []
    },
    {
      "cell_type": "code",
      "execution_count": null,
      "metadata": {
        "colab": {
          "base_uri": "https://localhost:8080/"
        },
        "id": "rIei6uT8sunU",
        "outputId": "48c1e3c5-880e-44d4-dcf0-7fcef53b92a9"
      },
      "outputs": [
        {
          "output_type": "stream",
          "name": "stdout",
          "text": [
            "['i', 'me', 'my', 'myself', 'we', 'our', 'ours', 'ourselves', 'you', \"you're\", \"you've\", \"you'll\", \"you'd\", 'your', 'yours', 'yourself', 'yourselves', 'he', 'him', 'his', 'himself', 'she', \"she's\", 'her', 'hers', 'herself', 'it', \"it's\", 'its', 'itself', 'they', 'them', 'their', 'theirs', 'themselves', 'what', 'which', 'who', 'whom', 'this', 'that', \"that'll\", 'these', 'those', 'am', 'is', 'are', 'was', 'were', 'be', 'been', 'being', 'have', 'has', 'had', 'having', 'do', 'does', 'did', 'doing', 'a', 'an', 'the', 'and', 'but', 'if', 'or', 'because', 'as', 'until', 'while', 'of', 'at', 'by', 'for', 'with', 'about', 'against', 'between', 'into', 'through', 'during', 'before', 'after', 'above', 'below', 'to', 'from', 'up', 'down', 'in', 'out', 'on', 'off', 'over', 'under', 'again', 'further', 'then', 'once', 'here', 'there', 'when', 'where', 'why', 'how', 'all', 'any', 'both', 'each', 'few', 'more', 'most', 'other', 'some', 'such', 'no', 'nor', 'not', 'only', 'own', 'same', 'so', 'than', 'too', 'very', 's', 't', 'can', 'will', 'just', 'don', \"don't\", 'should', \"should've\", 'now', 'd', 'll', 'm', 'o', 're', 've', 'y', 'ain', 'aren', \"aren't\", 'couldn', \"couldn't\", 'didn', \"didn't\", 'doesn', \"doesn't\", 'hadn', \"hadn't\", 'hasn', \"hasn't\", 'haven', \"haven't\", 'isn', \"isn't\", 'ma', 'mightn', \"mightn't\", 'mustn', \"mustn't\", 'needn', \"needn't\", 'shan', \"shan't\", 'shouldn', \"shouldn't\", 'wasn', \"wasn't\", 'weren', \"weren't\", 'won', \"won't\", 'wouldn', \"wouldn't\"]\n"
          ]
        }
      ],
      "source": [
        "from nltk.corpus import stopwords as nltkstopwords\n",
        "print(nltkstopwords.words('english'))\n",
        "#print(nltkstopwords.words('german'))\n",
        "#print(nltkstopwords.words('chinese'))\n",
        "#print(nltkstopwords.words.__dir__)"
      ]
    },
    {
      "cell_type": "code",
      "execution_count": null,
      "metadata": {
        "pycharm": {
          "is_executing": false
        },
        "id": "WpSiUKI-sunU"
      },
      "outputs": [],
      "source": [
        "def review_to_words(review, string=True, remove_stopwords=False):\n",
        "    '''\n",
        "    Function to convert a document to a sequence of words,\n",
        "    optionally removing stop words.\n",
        "    Returns a list of words.\n",
        "    '''\n",
        "    # Remove HTML\n",
        "    review_text = BeautifulSoup(review).get_text()\n",
        "\n",
        "    # Remove non-letters\n",
        "    review_text = re.sub(\"[^a-zA-Z]\",\" \", review_text)\n",
        "\n",
        "    # Convert words to lower case and split them\n",
        "    words = review_text.lower().split()\n",
        "\n",
        "    # Optionally remove stop words (false by default)\n",
        "    if remove_stopwords:\n",
        "        stops = set(nltkstopwords.words(\"english\"))\n",
        "        words = [w for w in words if not w in stops]\n",
        "    if string:\n",
        "        return \" \".join(words)\n",
        "    else:\n",
        "        return words"
      ]
    },
    {
      "cell_type": "code",
      "source": [
        "# Can you select a single review (any random review) from the training data and pass it to review_to_words()?  What is the output?\n",
        "# your code here\n",
        "# get a single review from X_train\n",
        "# print the review\n",
        "# pass it as an argument to review_to_words()\n",
        "# print the output\n",
        "\n",
        "# select a single review\n",
        "review = X_train.review[0]\n",
        "\n",
        "# print the review\n",
        "print(review)\n",
        "\n",
        "# pass it to review_to_words()\n",
        "words = review_to_words(review)\n",
        "\n",
        "# print the output\n",
        "print(words)\n"
      ],
      "metadata": {
        "colab": {
          "base_uri": "https://localhost:8080/"
        },
        "id": "kFpfWCc_yAh_",
        "outputId": "331c5898-0755-4982-90c4-e088667e75d3"
      },
      "execution_count": null,
      "outputs": [
        {
          "output_type": "stream",
          "name": "stdout",
          "text": [
            "\"Who would think Andy Griffith's \\\"Helen Crump\\\" (Aneta Corsaut) had a Steve McQueen movie in her past? But that is only one of several weird and wonderful things about the ultimate 1950s teenagers-battle-creatures movie, which might best be described as Rebel Without A Cause meets God Knows What From Outer Space. The Rebel is Steven McQueen (who would shortly decide that \\\"Steve\\\" sounded less prissy), a good boy with just enough wild to be interesting; the very wholesome yet understanding girlfriend is the aforementioned Aneta Corsaut. It was bad enough when their date was disrupted by teenage hot-rodders, but they are considerably more nonplussed when they encounter a gelatinous, man-eating What Is It that rides down to earth on its own hotrod meteor--and begins gobbling up townfolk right and left. But will the grown ups believe them? Of course not, what do they know, they're just kids!<br /><br />The movie is teeny bopper at its teeny bopping best. The actors take the rather pretentious script very seriously, with many a soulful look into each other eyes, and the \\\"adult\\\" supporting cast probably says \\\"Kids!\\\" very third sentence or so. But the real pleasure of the film its creature, which is well imagined, well-executed, and often manages to generate a surprising degree of suspense. And although clearly on the cheap side (check out those miniature sets, guys!), THE BLOB is actually a fairly well-made film--and there's that catchy little theme song thrown in for good measure. The 40-plus crowd (myself included) will enjoy the movie as nostalgia, but that won't prevent them from hooting right along with the younger set at its whole-milk-and-white-bread 1950s sensibility, and the film would be a great choice for either family-movie night or a more sophisticated \\\"grown ups only\\\" get together. Make plenty of Jello cubes for movie snacking! Gary F. Taylor, aka GFT, Amazon Reviewer\"\n",
            "who would think andy griffith s helen crump aneta corsaut had a steve mcqueen movie in her past but that is only one of several weird and wonderful things about the ultimate s teenagers battle creatures movie which might best be described as rebel without a cause meets god knows what from outer space the rebel is steven mcqueen who would shortly decide that steve sounded less prissy a good boy with just enough wild to be interesting the very wholesome yet understanding girlfriend is the aforementioned aneta corsaut it was bad enough when their date was disrupted by teenage hot rodders but they are considerably more nonplussed when they encounter a gelatinous man eating what is it that rides down to earth on its own hotrod meteor and begins gobbling up townfolk right and left but will the grown ups believe them of course not what do they know they re just kids the movie is teeny bopper at its teeny bopping best the actors take the rather pretentious script very seriously with many a soulful look into each other eyes and the adult supporting cast probably says kids very third sentence or so but the real pleasure of the film its creature which is well imagined well executed and often manages to generate a surprising degree of suspense and although clearly on the cheap side check out those miniature sets guys the blob is actually a fairly well made film and there s that catchy little theme song thrown in for good measure the plus crowd myself included will enjoy the movie as nostalgia but that won t prevent them from hooting right along with the younger set at its whole milk and white bread s sensibility and the film would be a great choice for either family movie night or a more sophisticated grown ups only get together make plenty of jello cubes for movie snacking gary f taylor aka gft amazon reviewer\n"
          ]
        }
      ]
    },
    {
      "cell_type": "code",
      "execution_count": null,
      "metadata": {
        "colab": {
          "base_uri": "https://localhost:8080/"
        },
        "id": "upjkWMDTsunV",
        "outputId": "19021ce8-baaf-493d-9d83-1a6cff5bb8be"
      },
      "outputs": [
        {
          "output_type": "stream",
          "name": "stdout",
          "text": [
            "['START i', 'i liked', 'liked this', 'this movie', 'movie END']\n"
          ]
        }
      ],
      "source": [
        "def review_to_bigrams(review, remove_stopwords=False, add_startend_tokens=True):\n",
        "    '''\n",
        "    Function to convert a document to a sequence of word bigrams,\n",
        "    optionally removing stop words.\n",
        "    Returns a list of bigrams.\n",
        "    '''\n",
        "    #E.g., [\"I\", \"liked\", \"this\" ,\"movie\"] -> [\"I liked\", \"liked this\", \"this movie\"]\n",
        "    #your code here\n",
        "\n",
        "    # Remove HTML\n",
        "    review_text = BeautifulSoup(review).get_text()\n",
        "\n",
        "    # Remove non-letters\n",
        "    review_text = re.sub(\"[^a-zA-Z]\",\" \", review_text)\n",
        "\n",
        "    # Convert words to lower case and split them\n",
        "    words = review_text.lower().split()\n",
        "\n",
        "    # Optionally add START and END tokens (True by default)\n",
        "    if add_startend_tokens:\n",
        "        words = [\"START\"] + words + [\"END\"]\n",
        "\n",
        "    # Optionally remove stop words (False by default)\n",
        "    if remove_stopwords:\n",
        "        stops = set(nltkstopwords.words(\"english\"))\n",
        "        words = [w for w in words if not w in stops]\n",
        "\n",
        "    # Generate bigrams\n",
        "    bigrams = []\n",
        "    for i in range(len(words)-1):\n",
        "        bigrams.append(words[i] + \" \" + words[i+1])\n",
        "\n",
        "    return bigrams\n",
        "\n",
        "#print(review_to_bigrams([\"I\", \"liked\", \"this\", \"movie\"]))\n",
        "my_bigrams =review_to_bigrams(\"I liked this movie\")\n",
        "print(my_bigrams)"
      ]
    },
    {
      "cell_type": "code",
      "execution_count": null,
      "metadata": {
        "collapsed": true,
        "jupyter": {
          "outputs_hidden": true
        },
        "pycharm": {
          "is_executing": false
        },
        "colab": {
          "base_uri": "https://localhost:8080/"
        },
        "id": "LL_7l5KvsunW",
        "outputId": "e581e687-b431-4022-a836-65c8c833a6cf"
      },
      "outputs": [
        {
          "output_type": "stream",
          "name": "stderr",
          "text": [
            "<ipython-input-6-5a0c99d70e9e>:8: MarkupResemblesLocatorWarning: The input looks more like a filename than markup. You may want to open this file and pass the filehandle into Beautiful Soup.\n",
            "  review_text = BeautifulSoup(review).get_text()\n"
          ]
        },
        {
          "output_type": "stream",
          "name": "stdout",
          "text": [
            "would think andy griffith helen crump aneta corsaut steve mcqueen movie past one several weird wonderful things ultimate teenagers battle creatures movie might best described rebel without cause meets god knows outer space rebel steven mcqueen would shortly decide steve sounded less prissy good boy enough wild interesting wholesome yet understanding girlfriend aforementioned aneta corsaut bad enough date disrupted teenage hot rodders considerably nonplussed encounter gelatinous man eating rides earth hotrod meteor begins gobbling townfolk right left grown ups believe course know kids movie teeny bopper teeny bopping best actors take rather pretentious script seriously many soulful look eyes adult supporting cast probably says kids third sentence real pleasure film creature well imagined well executed often manages generate surprising degree suspense although clearly cheap side check miniature sets guys blob actually fairly well made film catchy little theme song thrown good measure plus crowd included enjoy movie nostalgia prevent hooting right along younger set whole milk white bread sensibility film would great choice either family movie night sophisticated grown ups get together make plenty jello cubes movie snacking gary f taylor aka gft amazon reviewer\n"
          ]
        }
      ],
      "source": [
        "# Get list of reviews\n",
        "clean_train_reviews = [review_to_words(X_train[\"review\"][i], remove_stopwords=True) for i in range(len(X_train))]\n",
        "clean_test_reviews = [review_to_words(X_test[\"review\"][i], remove_stopwords=True) for i in range(len(X_test))]\n",
        "\n",
        "print(clean_train_reviews[0])"
      ]
    },
    {
      "cell_type": "code",
      "execution_count": null,
      "metadata": {
        "collapsed": true,
        "jupyter": {
          "outputs_hidden": true
        },
        "colab": {
          "base_uri": "https://localhost:8080/"
        },
        "id": "Yk1sgRJ9sunW",
        "outputId": "77a90a53-46a9-4df5-9995-9db28faa4f13"
      },
      "outputs": [
        {
          "output_type": "stream",
          "name": "stderr",
          "text": [
            "<ipython-input-8-853873343806>:11: MarkupResemblesLocatorWarning: The input looks more like a filename than markup. You may want to open this file and pass the filehandle into Beautiful Soup.\n",
            "  review_text = BeautifulSoup(review).get_text()\n"
          ]
        },
        {
          "output_type": "stream",
          "name": "stdout",
          "text": [
            "['START who', 'who would', 'would think', 'think andy', 'andy griffith', 'griffith s', 's helen', 'helen crump', 'crump aneta', 'aneta corsaut', 'corsaut had', 'had a', 'a steve', 'steve mcqueen', 'mcqueen movie', 'movie in', 'in her', 'her past', 'past but', 'but that', 'that is', 'is only', 'only one', 'one of', 'of several', 'several weird', 'weird and', 'and wonderful', 'wonderful things', 'things about', 'about the', 'the ultimate', 'ultimate s', 's teenagers', 'teenagers battle', 'battle creatures', 'creatures movie', 'movie which', 'which might', 'might best', 'best be', 'be described', 'described as', 'as rebel', 'rebel without', 'without a', 'a cause', 'cause meets', 'meets god', 'god knows', 'knows what', 'what from', 'from outer', 'outer space', 'space the', 'the rebel', 'rebel is', 'is steven', 'steven mcqueen', 'mcqueen who', 'who would', 'would shortly', 'shortly decide', 'decide that', 'that steve', 'steve sounded', 'sounded less', 'less prissy', 'prissy a', 'a good', 'good boy', 'boy with', 'with just', 'just enough', 'enough wild', 'wild to', 'to be', 'be interesting', 'interesting the', 'the very', 'very wholesome', 'wholesome yet', 'yet understanding', 'understanding girlfriend', 'girlfriend is', 'is the', 'the aforementioned', 'aforementioned aneta', 'aneta corsaut', 'corsaut it', 'it was', 'was bad', 'bad enough', 'enough when', 'when their', 'their date', 'date was', 'was disrupted', 'disrupted by', 'by teenage', 'teenage hot', 'hot rodders', 'rodders but', 'but they', 'they are', 'are considerably', 'considerably more', 'more nonplussed', 'nonplussed when', 'when they', 'they encounter', 'encounter a', 'a gelatinous', 'gelatinous man', 'man eating', 'eating what', 'what is', 'is it', 'it that', 'that rides', 'rides down', 'down to', 'to earth', 'earth on', 'on its', 'its own', 'own hotrod', 'hotrod meteor', 'meteor and', 'and begins', 'begins gobbling', 'gobbling up', 'up townfolk', 'townfolk right', 'right and', 'and left', 'left but', 'but will', 'will the', 'the grown', 'grown ups', 'ups believe', 'believe them', 'them of', 'of course', 'course not', 'not what', 'what do', 'do they', 'they know', 'know they', 'they re', 're just', 'just kids', 'kids the', 'the movie', 'movie is', 'is teeny', 'teeny bopper', 'bopper at', 'at its', 'its teeny', 'teeny bopping', 'bopping best', 'best the', 'the actors', 'actors take', 'take the', 'the rather', 'rather pretentious', 'pretentious script', 'script very', 'very seriously', 'seriously with', 'with many', 'many a', 'a soulful', 'soulful look', 'look into', 'into each', 'each other', 'other eyes', 'eyes and', 'and the', 'the adult', 'adult supporting', 'supporting cast', 'cast probably', 'probably says', 'says kids', 'kids very', 'very third', 'third sentence', 'sentence or', 'or so', 'so but', 'but the', 'the real', 'real pleasure', 'pleasure of', 'of the', 'the film', 'film its', 'its creature', 'creature which', 'which is', 'is well', 'well imagined', 'imagined well', 'well executed', 'executed and', 'and often', 'often manages', 'manages to', 'to generate', 'generate a', 'a surprising', 'surprising degree', 'degree of', 'of suspense', 'suspense and', 'and although', 'although clearly', 'clearly on', 'on the', 'the cheap', 'cheap side', 'side check', 'check out', 'out those', 'those miniature', 'miniature sets', 'sets guys', 'guys the', 'the blob', 'blob is', 'is actually', 'actually a', 'a fairly', 'fairly well', 'well made', 'made film', 'film and', 'and there', 'there s', 's that', 'that catchy', 'catchy little', 'little theme', 'theme song', 'song thrown', 'thrown in', 'in for', 'for good', 'good measure', 'measure the', 'the plus', 'plus crowd', 'crowd myself', 'myself included', 'included will', 'will enjoy', 'enjoy the', 'the movie', 'movie as', 'as nostalgia', 'nostalgia but', 'but that', 'that won', 'won t', 't prevent', 'prevent them', 'them from', 'from hooting', 'hooting right', 'right along', 'along with', 'with the', 'the younger', 'younger set', 'set at', 'at its', 'its whole', 'whole milk', 'milk and', 'and white', 'white bread', 'bread s', 's sensibility', 'sensibility and', 'and the', 'the film', 'film would', 'would be', 'be a', 'a great', 'great choice', 'choice for', 'for either', 'either family', 'family movie', 'movie night', 'night or', 'or a', 'a more', 'more sophisticated', 'sophisticated grown', 'grown ups', 'ups only', 'only get', 'get together', 'together make', 'make plenty', 'plenty of', 'of jello', 'jello cubes', 'cubes for', 'for movie', 'movie snacking', 'snacking gary', 'gary f', 'f taylor', 'taylor aka', 'aka gft', 'gft amazon', 'amazon reviewer', 'reviewer END']\n"
          ]
        }
      ],
      "source": [
        "# Get lists of reviews using the bigram function instead of the review_to_words function\n",
        "\n",
        "clean_train_bigram_reviews = [review_to_bigrams(X_train[\"review\"][i]) for i in range(len(X_train))]\n",
        "clean_test_bigram_reviews = [review_to_bigrams(X_test[\"review\"][i]) for i in range(len(X_test))]\n",
        "\n",
        "print(clean_train_bigram_reviews[0])"
      ]
    },
    {
      "cell_type": "code",
      "execution_count": null,
      "metadata": {
        "pycharm": {
          "is_executing": false
        },
        "id": "TK6uGQjzsunW"
      },
      "outputs": [],
      "source": [
        "# Initialize a bag of words\n",
        "vectorizer = CountVectorizer(analyzer = \"word\",\n",
        "                             tokenizer = None,\n",
        "                             preprocessor = None,\n",
        "                             stop_words = None,\n",
        "                             max_features = 5000) #vocabulary size defined here, sorted by frequency - e.g., 5k most common terms.  How does model performance change if you increase/decrease this value?\n",
        "\n",
        "# Fit transform the data\n",
        "train_feat = vectorizer.fit_transform(clean_train_reviews).toarray()\n",
        "test_feat = vectorizer.transform(clean_test_reviews).toarray()"
      ]
    },
    {
      "cell_type": "code",
      "execution_count": null,
      "metadata": {
        "collapsed": true,
        "jupyter": {
          "outputs_hidden": true
        },
        "pycharm": {
          "is_executing": false
        },
        "colab": {
          "base_uri": "https://localhost:8080/"
        },
        "id": "IXCH9AM2sunW",
        "outputId": "f60fca8f-7bcb-45d0-a8fa-212e20633bac"
      },
      "outputs": [
        {
          "output_type": "stream",
          "name": "stdout",
          "text": [
            "['abandoned' 'abc' 'abilities' 'ability' 'able' 'abraham' 'absence'\n",
            " 'absent' 'absolute' 'absolutely' 'absurd' 'absurdity' 'abuse' 'abused'\n",
            " 'abusive' 'abysmal' 'academy' 'accent' 'accents' 'accept' 'acceptable'\n",
            " 'accepted' 'access' 'accident' 'accidentally' 'acclaimed' 'accompanied'\n",
            " 'accomplish' 'accomplished' 'according' 'account' 'accuracy' 'accurate'\n",
            " 'accused' 'achieve' 'achieved' 'achievement' 'acid' 'across' 'act'\n",
            " 'acted' 'acting' 'action' 'actions' 'activities' 'actor' 'actors'\n",
            " 'actress' 'actresses' 'acts' 'actual' 'actually' 'ad' 'adam' 'adams'\n",
            " 'adaptation' 'adapted' 'add' 'added' 'adding' 'addition' 'adds'\n",
            " 'adequate' 'admire' 'admit' 'admittedly' 'adorable' 'adult' 'adults'\n",
            " 'advance' 'advanced' 'advantage' 'adventure' 'adventures' 'advertising'\n",
            " 'advice' 'advise' 'affair' 'affect' 'affected' 'afford' 'aforementioned'\n",
            " 'afraid' 'africa' 'african' 'afternoon' 'afterwards' 'age' 'aged' 'agent'\n",
            " 'agents' 'ages' 'aging' 'ago' 'agree' 'agreed' 'agrees' 'ah' 'ahead'\n",
            " 'aid']\n"
          ]
        }
      ],
      "source": [
        "# Take a look at the vocabulary\n",
        "vocab = vectorizer.get_feature_names_out()\n",
        "print(vocab[:100])"
      ]
    },
    {
      "cell_type": "code",
      "execution_count": null,
      "metadata": {
        "id": "zUCgay4csunX"
      },
      "outputs": [],
      "source": [
        "# Random Forest Classifier Overview\n",
        "#\n",
        "# Improved performance variant of Decision Tree Learning, a supervised learning algorithm\n",
        "#\n",
        "# https://en.wikipedia.org/wiki/Decision_tree_learning#/media/File:Decision_Tree.jpg\n",
        "#\n",
        "# Decision trees are ways of taking input, and then moving left or right depending on your input and coming to a final decision, kind of like turn-by-turn instructions.\n",
        "#\n",
        "# For example, passenger survival on the Titanic can be predicted (not perfectly!) using features like sex and age.  Deciding which features and values to put where in the tree comes from taking measurements on the training data.\n",
        "#\n",
        "# Some features and values are better at splitting the output into the target predictions than others.  For example, wearing brown clothes vs. wearing black clothes is probably not very predictive of whether passengers survived or not, whereas age appears to be more predictive.\n",
        "#\n",
        "# Let's imagine that one of the nodes in the tree is clothing color.  If you put all the data through the node, the two children nodes resulting from black or brown clothes would likely have something like 50% died and 50% survived, that is, clothing color doesn't separate the people into the target categories very well.\n",
        "#\n",
        "# On the other hand, for a node like 'age', being a child or adult could have 90/10 split for children surviving and 20/80 split for adults surviving.  This is a better decision to make when predicting survival because there is higher 'purity' in the outcomes - they're more skewed toward a category of interest than a simple 50/50 split.\n",
        "#\n",
        "# This ability to differentiate, or selectivity, is called 'information gain' and can be measured mathematically a few ways."
      ]
    },
    {
      "cell_type": "code",
      "execution_count": null,
      "metadata": {
        "id": "CZIbOYr8sunX"
      },
      "outputs": [],
      "source": [
        "# Get predictions\n",
        "def get_preds(test_feat, train_feat, y_test, y_train, model, title='Random Forest'):\n",
        "    print(\"Training model, this may take some time...\")\n",
        "    model.fit(train_feat, y_train)\n",
        "\n",
        "    print(\"Evaluating model...\")\n",
        "    y_preds = model.predict(test_feat)\n",
        "\n",
        "    accuracy = accuracy_score(y_test, y_preds)\n",
        "    print(\"Accuracy:\", accuracy)\n",
        "\n",
        "    #fpr, tpr, _ = roc_curve(y_test, preds)\n",
        "    #roc_auc = auc(fpr, tpr)\n",
        "    #print('AUC:', roc_auc)\n",
        "\n",
        "    #F1 doesn't matter because of class balance here\n",
        "\n",
        "    # plot AUC\n",
        "    #plt.plot(fpr, tpr)\n",
        "    #plt.title(title)\n",
        "    #plt.plot([0, 1], [0, 1], color='navy', linestyle='--')\n",
        "    #plt.xlabel('False Positive Rate')\n",
        "    #plt.ylabel('True Positive Rate')\n",
        "    #plt.show()\n",
        "\n",
        "    return y_preds, model"
      ]
    },
    {
      "cell_type": "code",
      "execution_count": null,
      "metadata": {
        "pycharm": {
          "is_executing": false
        },
        "colab": {
          "base_uri": "https://localhost:8080/"
        },
        "id": "Vc9SsT1OsunX",
        "outputId": "08f608ea-150e-49e2-d525-27f5a8da719b"
      },
      "outputs": [
        {
          "output_type": "stream",
          "name": "stdout",
          "text": [
            "Training model, this may take some time...\n",
            "Evaluating model...\n",
            "Accuracy: 0.8416\n"
          ]
        }
      ],
      "source": [
        "preds_rf, model = get_preds(test_feat, train_feat,\n",
        "                  y_test, y_train,\n",
        "                  RandomForestClassifier(n_estimators = 100)) #How does performance changes if you increase/decrease the number of estimators (trees)?"
      ]
    },
    {
      "cell_type": "code",
      "execution_count": null,
      "metadata": {
        "scrolled": true,
        "colab": {
          "base_uri": "https://localhost:8080/",
          "height": 1000
        },
        "id": "8_QZsLJysunX",
        "outputId": "e4ee54c3-a416-4ed7-c5ca-21049834e2e3"
      },
      "outputs": [
        {
          "output_type": "display_data",
          "data": {
            "image/svg+xml": "<?xml version=\"1.0\" encoding=\"UTF-8\" standalone=\"no\"?>\n<!DOCTYPE svg PUBLIC \"-//W3C//DTD SVG 1.1//EN\"\n \"http://www.w3.org/Graphics/SVG/1.1/DTD/svg11.dtd\">\n<!-- Generated by graphviz version 2.43.0 (0)\n -->\n<!-- Title: Tree Pages: 1 -->\n<svg width=\"657pt\" height=\"311pt\"\n viewBox=\"0.00 0.00 656.50 311.00\" xmlns=\"http://www.w3.org/2000/svg\" xmlns:xlink=\"http://www.w3.org/1999/xlink\">\n<g id=\"graph0\" class=\"graph\" transform=\"scale(1 1) rotate(0) translate(4 307)\">\n<title>Tree</title>\n<polygon fill=\"white\" stroke=\"transparent\" points=\"-4,4 -4,-307 652.5,-307 652.5,4 -4,4\"/>\n<!-- 0 -->\n<g id=\"node1\" class=\"node\">\n<title>0</title>\n<polygon fill=\"#fafcfe\" stroke=\"black\" points=\"394,-303 247,-303 247,-250 394,-250 394,-303\"/>\n<text text-anchor=\"middle\" x=\"320.5\" y=\"-287.8\" font-family=\"Helvetica,sans-Serif\" font-size=\"14.00\">seconds &lt;= 0.5</text>\n<text text-anchor=\"middle\" x=\"320.5\" y=\"-272.8\" font-family=\"Helvetica,sans-Serif\" font-size=\"14.00\">samples = 100.0%</text>\n<text text-anchor=\"middle\" x=\"320.5\" y=\"-257.8\" font-family=\"Helvetica,sans-Serif\" font-size=\"14.00\">value = [0.493, 0.507]</text>\n</g>\n<!-- 1 -->\n<g id=\"node2\" class=\"node\">\n<title>1</title>\n<polygon fill=\"#f7fbfe\" stroke=\"black\" points=\"304.5,-214 172.5,-214 172.5,-161 304.5,-161 304.5,-214\"/>\n<text text-anchor=\"middle\" x=\"238.5\" y=\"-198.8\" font-family=\"Helvetica,sans-Serif\" font-size=\"14.00\">superb &lt;= 0.5</text>\n<text text-anchor=\"middle\" x=\"238.5\" y=\"-183.8\" font-family=\"Helvetica,sans-Serif\" font-size=\"14.00\">samples = 98.7%</text>\n<text text-anchor=\"middle\" x=\"238.5\" y=\"-168.8\" font-family=\"Helvetica,sans-Serif\" font-size=\"14.00\">value = [0.49, 0.51]</text>\n</g>\n<!-- 0&#45;&gt;1 -->\n<g id=\"edge1\" class=\"edge\">\n<title>0&#45;&gt;1</title>\n<path fill=\"none\" stroke=\"black\" d=\"M296.34,-249.87C287.99,-241.01 278.51,-230.95 269.68,-221.58\"/>\n<polygon fill=\"black\" stroke=\"black\" points=\"272.18,-219.13 262.77,-214.25 267.08,-223.93 272.18,-219.13\"/>\n<text text-anchor=\"middle\" x=\"262.03\" y=\"-235.54\" font-family=\"Helvetica,sans-Serif\" font-size=\"14.00\">True</text>\n</g>\n<!-- 7498 -->\n<g id=\"node9\" class=\"node\">\n<title>7498</title>\n<polygon fill=\"#eeab7b\" stroke=\"black\" points=\"477,-214 330,-214 330,-161 477,-161 477,-214\"/>\n<text text-anchor=\"middle\" x=\"403.5\" y=\"-198.8\" font-family=\"Helvetica,sans-Serif\" font-size=\"14.00\">provides &lt;= 0.5</text>\n<text text-anchor=\"middle\" x=\"403.5\" y=\"-183.8\" font-family=\"Helvetica,sans-Serif\" font-size=\"14.00\">samples = 1.3%</text>\n<text text-anchor=\"middle\" x=\"403.5\" y=\"-168.8\" font-family=\"Helvetica,sans-Serif\" font-size=\"14.00\">value = [0.749, 0.251]</text>\n</g>\n<!-- 0&#45;&gt;7498 -->\n<g id=\"edge8\" class=\"edge\">\n<title>0&#45;&gt;7498</title>\n<path fill=\"none\" stroke=\"black\" d=\"M344.95,-249.87C353.41,-241.01 363,-230.95 371.94,-221.58\"/>\n<polygon fill=\"black\" stroke=\"black\" points=\"374.56,-223.9 378.93,-214.25 369.5,-219.07 374.56,-223.9\"/>\n<text text-anchor=\"middle\" x=\"379.52\" y=\"-235.54\" font-family=\"Helvetica,sans-Serif\" font-size=\"14.00\">False</text>\n</g>\n<!-- 2 -->\n<g id=\"node3\" class=\"node\">\n<title>2</title>\n<polygon fill=\"#fdfeff\" stroke=\"black\" points=\"147,-125 0,-125 0,-72 147,-72 147,-125\"/>\n<text text-anchor=\"middle\" x=\"73.5\" y=\"-109.8\" font-family=\"Helvetica,sans-Serif\" font-size=\"14.00\">badly &lt;= 0.5</text>\n<text text-anchor=\"middle\" x=\"73.5\" y=\"-94.8\" font-family=\"Helvetica,sans-Serif\" font-size=\"14.00\">samples = 96.4%</text>\n<text text-anchor=\"middle\" x=\"73.5\" y=\"-79.8\" font-family=\"Helvetica,sans-Serif\" font-size=\"14.00\">value = [0.498, 0.502]</text>\n</g>\n<!-- 1&#45;&gt;2 -->\n<g id=\"edge2\" class=\"edge\">\n<title>1&#45;&gt;2</title>\n<path fill=\"none\" stroke=\"black\" d=\"M189.89,-160.87C171.42,-151.13 150.22,-139.95 131.01,-129.82\"/>\n<polygon fill=\"black\" stroke=\"black\" points=\"132.53,-126.67 122.05,-125.1 129.26,-132.86 132.53,-126.67\"/>\n</g>\n<!-- 7367 -->\n<g id=\"node6\" class=\"node\">\n<title>7367</title>\n<polygon fill=\"#5dafea\" stroke=\"black\" points=\"312,-125 165,-125 165,-72 312,-72 312,-125\"/>\n<text text-anchor=\"middle\" x=\"238.5\" y=\"-109.8\" font-family=\"Helvetica,sans-Serif\" font-size=\"14.00\">related &lt;= 0.5</text>\n<text text-anchor=\"middle\" x=\"238.5\" y=\"-94.8\" font-family=\"Helvetica,sans-Serif\" font-size=\"14.00\">samples = 2.3%</text>\n<text text-anchor=\"middle\" x=\"238.5\" y=\"-79.8\" font-family=\"Helvetica,sans-Serif\" font-size=\"14.00\">value = [0.154, 0.846]</text>\n</g>\n<!-- 1&#45;&gt;7367 -->\n<g id=\"edge5\" class=\"edge\">\n<title>1&#45;&gt;7367</title>\n<path fill=\"none\" stroke=\"black\" d=\"M238.5,-160.87C238.5,-152.89 238.5,-143.93 238.5,-135.38\"/>\n<polygon fill=\"black\" stroke=\"black\" points=\"242,-135.25 238.5,-125.25 235,-135.25 242,-135.25\"/>\n</g>\n<!-- 3 -->\n<g id=\"node4\" class=\"node\">\n<title>3</title>\n<polygon fill=\"#c0c0c0\" stroke=\"black\" points=\"96.5,-36 42.5,-36 42.5,0 96.5,0 96.5,-36\"/>\n<text text-anchor=\"middle\" x=\"69.5\" y=\"-14.3\" font-family=\"Helvetica,sans-Serif\" font-size=\"14.00\">(...)</text>\n</g>\n<!-- 2&#45;&gt;3 -->\n<g id=\"edge3\" class=\"edge\">\n<title>2&#45;&gt;3</title>\n<path fill=\"none\" stroke=\"black\" d=\"M72.19,-71.8C71.78,-63.71 71.32,-54.76 70.9,-46.55\"/>\n<polygon fill=\"black\" stroke=\"black\" points=\"74.39,-46.14 70.38,-36.33 67.4,-46.5 74.39,-46.14\"/>\n</g>\n<!-- 7258 -->\n<g id=\"node5\" class=\"node\">\n<title>7258</title>\n<polygon fill=\"#c0c0c0\" stroke=\"black\" points=\"168.5,-36 114.5,-36 114.5,0 168.5,0 168.5,-36\"/>\n<text text-anchor=\"middle\" x=\"141.5\" y=\"-14.3\" font-family=\"Helvetica,sans-Serif\" font-size=\"14.00\">(...)</text>\n</g>\n<!-- 2&#45;&gt;7258 -->\n<g id=\"edge4\" class=\"edge\">\n<title>2&#45;&gt;7258</title>\n<path fill=\"none\" stroke=\"black\" d=\"M95.77,-71.8C103.48,-62.9 112.1,-52.93 119.77,-44.08\"/>\n<polygon fill=\"black\" stroke=\"black\" points=\"122.59,-46.18 126.49,-36.33 117.29,-41.6 122.59,-46.18\"/>\n</g>\n<!-- 7368 -->\n<g id=\"node7\" class=\"node\">\n<title>7368</title>\n<polygon fill=\"#c0c0c0\" stroke=\"black\" points=\"252.5,-36 198.5,-36 198.5,0 252.5,0 252.5,-36\"/>\n<text text-anchor=\"middle\" x=\"225.5\" y=\"-14.3\" font-family=\"Helvetica,sans-Serif\" font-size=\"14.00\">(...)</text>\n</g>\n<!-- 7367&#45;&gt;7368 -->\n<g id=\"edge6\" class=\"edge\">\n<title>7367&#45;&gt;7368</title>\n<path fill=\"none\" stroke=\"black\" d=\"M234.24,-71.8C232.89,-63.62 231.39,-54.55 230.02,-46.27\"/>\n<polygon fill=\"black\" stroke=\"black\" points=\"233.46,-45.62 228.37,-36.33 226.55,-46.77 233.46,-45.62\"/>\n</g>\n<!-- 7497 -->\n<g id=\"node8\" class=\"node\">\n<title>7497</title>\n<polygon fill=\"#c0c0c0\" stroke=\"black\" points=\"324.5,-36 270.5,-36 270.5,0 324.5,0 324.5,-36\"/>\n<text text-anchor=\"middle\" x=\"297.5\" y=\"-14.3\" font-family=\"Helvetica,sans-Serif\" font-size=\"14.00\">(...)</text>\n</g>\n<!-- 7367&#45;&gt;7497 -->\n<g id=\"edge7\" class=\"edge\">\n<title>7367&#45;&gt;7497</title>\n<path fill=\"none\" stroke=\"black\" d=\"M257.82,-71.8C264.44,-62.99 271.84,-53.14 278.44,-44.36\"/>\n<polygon fill=\"black\" stroke=\"black\" points=\"281.26,-46.43 284.47,-36.33 275.67,-42.22 281.26,-46.43\"/>\n</g>\n<!-- 7499 -->\n<g id=\"node10\" class=\"node\">\n<title>7499</title>\n<polygon fill=\"#eda876\" stroke=\"black\" points=\"477,-125 330,-125 330,-72 477,-72 477,-125\"/>\n<text text-anchor=\"middle\" x=\"403.5\" y=\"-109.8\" font-family=\"Helvetica,sans-Serif\" font-size=\"14.00\">murder &lt;= 0.5</text>\n<text text-anchor=\"middle\" x=\"403.5\" y=\"-94.8\" font-family=\"Helvetica,sans-Serif\" font-size=\"14.00\">samples = 1.2%</text>\n<text text-anchor=\"middle\" x=\"403.5\" y=\"-79.8\" font-family=\"Helvetica,sans-Serif\" font-size=\"14.00\">value = [0.765, 0.235]</text>\n</g>\n<!-- 7498&#45;&gt;7499 -->\n<g id=\"edge9\" class=\"edge\">\n<title>7498&#45;&gt;7499</title>\n<path fill=\"none\" stroke=\"black\" d=\"M403.5,-160.87C403.5,-152.89 403.5,-143.93 403.5,-135.38\"/>\n<polygon fill=\"black\" stroke=\"black\" points=\"407,-135.25 403.5,-125.25 400,-135.25 407,-135.25\"/>\n</g>\n<!-- 7582 -->\n<g id=\"node13\" class=\"node\">\n<title>7582</title>\n<polygon fill=\"#5aade9\" stroke=\"black\" points=\"642,-125 495,-125 495,-72 642,-72 642,-125\"/>\n<text text-anchor=\"middle\" x=\"568.5\" y=\"-109.8\" font-family=\"Helvetica,sans-Serif\" font-size=\"14.00\">cheek &lt;= 0.5</text>\n<text text-anchor=\"middle\" x=\"568.5\" y=\"-94.8\" font-family=\"Helvetica,sans-Serif\" font-size=\"14.00\">samples = 0.0%</text>\n<text text-anchor=\"middle\" x=\"568.5\" y=\"-79.8\" font-family=\"Helvetica,sans-Serif\" font-size=\"14.00\">value = [0.143, 0.857]</text>\n</g>\n<!-- 7498&#45;&gt;7582 -->\n<g id=\"edge12\" class=\"edge\">\n<title>7498&#45;&gt;7582</title>\n<path fill=\"none\" stroke=\"black\" d=\"M452.11,-160.87C470.58,-151.13 491.78,-139.95 510.99,-129.82\"/>\n<polygon fill=\"black\" stroke=\"black\" points=\"512.74,-132.86 519.95,-125.1 509.47,-126.67 512.74,-132.86\"/>\n</g>\n<!-- 7500 -->\n<g id=\"node11\" class=\"node\">\n<title>7500</title>\n<polygon fill=\"#c0c0c0\" stroke=\"black\" points=\"413.5,-36 359.5,-36 359.5,0 413.5,0 413.5,-36\"/>\n<text text-anchor=\"middle\" x=\"386.5\" y=\"-14.3\" font-family=\"Helvetica,sans-Serif\" font-size=\"14.00\">(...)</text>\n</g>\n<!-- 7499&#45;&gt;7500 -->\n<g id=\"edge10\" class=\"edge\">\n<title>7499&#45;&gt;7500</title>\n<path fill=\"none\" stroke=\"black\" d=\"M397.93,-71.8C396.16,-63.62 394.2,-54.55 392.41,-46.27\"/>\n<polygon fill=\"black\" stroke=\"black\" points=\"395.79,-45.36 390.25,-36.33 388.95,-46.84 395.79,-45.36\"/>\n</g>\n<!-- 7579 -->\n<g id=\"node12\" class=\"node\">\n<title>7579</title>\n<polygon fill=\"#c0c0c0\" stroke=\"black\" points=\"485.5,-36 431.5,-36 431.5,0 485.5,0 485.5,-36\"/>\n<text text-anchor=\"middle\" x=\"458.5\" y=\"-14.3\" font-family=\"Helvetica,sans-Serif\" font-size=\"14.00\">(...)</text>\n</g>\n<!-- 7499&#45;&gt;7579 -->\n<g id=\"edge11\" class=\"edge\">\n<title>7499&#45;&gt;7579</title>\n<path fill=\"none\" stroke=\"black\" d=\"M421.51,-71.8C427.62,-63.08 434.44,-53.34 440.54,-44.63\"/>\n<polygon fill=\"black\" stroke=\"black\" points=\"443.49,-46.53 446.36,-36.33 437.75,-42.51 443.49,-46.53\"/>\n</g>\n<!-- 7583 -->\n<g id=\"node14\" class=\"node\">\n<title>7583</title>\n<polygon fill=\"#c0c0c0\" stroke=\"black\" points=\"576.5,-36 522.5,-36 522.5,0 576.5,0 576.5,-36\"/>\n<text text-anchor=\"middle\" x=\"549.5\" y=\"-14.3\" font-family=\"Helvetica,sans-Serif\" font-size=\"14.00\">(...)</text>\n</g>\n<!-- 7582&#45;&gt;7583 -->\n<g id=\"edge13\" class=\"edge\">\n<title>7582&#45;&gt;7583</title>\n<path fill=\"none\" stroke=\"black\" d=\"M562.28,-71.8C560.3,-63.62 558.11,-54.55 556.1,-46.27\"/>\n<polygon fill=\"black\" stroke=\"black\" points=\"559.45,-45.23 553.69,-36.33 552.65,-46.87 559.45,-45.23\"/>\n</g>\n<!-- 7584 -->\n<g id=\"node15\" class=\"node\">\n<title>7584</title>\n<polygon fill=\"#c0c0c0\" stroke=\"black\" points=\"648.5,-36 594.5,-36 594.5,0 648.5,0 648.5,-36\"/>\n<text text-anchor=\"middle\" x=\"621.5\" y=\"-14.3\" font-family=\"Helvetica,sans-Serif\" font-size=\"14.00\">(...)</text>\n</g>\n<!-- 7582&#45;&gt;7584 -->\n<g id=\"edge14\" class=\"edge\">\n<title>7582&#45;&gt;7584</title>\n<path fill=\"none\" stroke=\"black\" d=\"M585.85,-71.8C591.74,-63.08 598.31,-53.34 604.2,-44.63\"/>\n<polygon fill=\"black\" stroke=\"black\" points=\"607.1,-46.58 609.8,-36.33 601.3,-42.66 607.1,-46.58\"/>\n</g>\n</g>\n</svg>\n",
            "text/plain": [
              "<graphviz.sources.Source at 0x7e35f8c9b430>"
            ]
          },
          "metadata": {}
        },
        {
          "output_type": "display_data",
          "data": {
            "image/svg+xml": "<?xml version=\"1.0\" encoding=\"UTF-8\" standalone=\"no\"?>\n<!DOCTYPE svg PUBLIC \"-//W3C//DTD SVG 1.1//EN\"\n \"http://www.w3.org/Graphics/SVG/1.1/DTD/svg11.dtd\">\n<!-- Generated by graphviz version 2.43.0 (0)\n -->\n<!-- Title: Tree Pages: 1 -->\n<svg width=\"620pt\" height=\"311pt\"\n viewBox=\"0.00 0.00 620.00 311.00\" xmlns=\"http://www.w3.org/2000/svg\" xmlns:xlink=\"http://www.w3.org/1999/xlink\">\n<g id=\"graph0\" class=\"graph\" transform=\"scale(1 1) rotate(0) translate(4 307)\">\n<title>Tree</title>\n<polygon fill=\"white\" stroke=\"transparent\" points=\"-4,4 -4,-307 616,-307 616,4 -4,4\"/>\n<!-- 0 -->\n<g id=\"node1\" class=\"node\">\n<title>0</title>\n<polygon fill=\"#fdfeff\" stroke=\"black\" points=\"394,-303 247,-303 247,-250 394,-250 394,-303\"/>\n<text text-anchor=\"middle\" x=\"320.5\" y=\"-287.8\" font-family=\"Helvetica,sans-Serif\" font-size=\"14.00\">mediocre &lt;= 0.5</text>\n<text text-anchor=\"middle\" x=\"320.5\" y=\"-272.8\" font-family=\"Helvetica,sans-Serif\" font-size=\"14.00\">samples = 100.0%</text>\n<text text-anchor=\"middle\" x=\"320.5\" y=\"-257.8\" font-family=\"Helvetica,sans-Serif\" font-size=\"14.00\">value = [0.498, 0.502]</text>\n</g>\n<!-- 1 -->\n<g id=\"node2\" class=\"node\">\n<title>1</title>\n<polygon fill=\"#fafcfe\" stroke=\"black\" points=\"312,-214 165,-214 165,-161 312,-161 312,-214\"/>\n<text text-anchor=\"middle\" x=\"238.5\" y=\"-198.8\" font-family=\"Helvetica,sans-Serif\" font-size=\"14.00\">minutes &lt;= 0.5</text>\n<text text-anchor=\"middle\" x=\"238.5\" y=\"-183.8\" font-family=\"Helvetica,sans-Serif\" font-size=\"14.00\">samples = 98.6%</text>\n<text text-anchor=\"middle\" x=\"238.5\" y=\"-168.8\" font-family=\"Helvetica,sans-Serif\" font-size=\"14.00\">value = [0.493, 0.507]</text>\n</g>\n<!-- 0&#45;&gt;1 -->\n<g id=\"edge1\" class=\"edge\">\n<title>0&#45;&gt;1</title>\n<path fill=\"none\" stroke=\"black\" d=\"M296.34,-249.87C287.99,-241.01 278.51,-230.95 269.68,-221.58\"/>\n<polygon fill=\"black\" stroke=\"black\" points=\"272.18,-219.13 262.77,-214.25 267.08,-223.93 272.18,-219.13\"/>\n<text text-anchor=\"middle\" x=\"262.03\" y=\"-235.54\" font-family=\"Helvetica,sans-Serif\" font-size=\"14.00\">True</text>\n</g>\n<!-- 7438 -->\n<g id=\"node9\" class=\"node\">\n<title>7438</title>\n<polygon fill=\"#eca16b\" stroke=\"black\" points=\"477,-214 330,-214 330,-161 477,-161 477,-214\"/>\n<text text-anchor=\"middle\" x=\"403.5\" y=\"-198.8\" font-family=\"Helvetica,sans-Serif\" font-size=\"14.00\">kubrick &lt;= 1.0</text>\n<text text-anchor=\"middle\" x=\"403.5\" y=\"-183.8\" font-family=\"Helvetica,sans-Serif\" font-size=\"14.00\">samples = 1.4%</text>\n<text text-anchor=\"middle\" x=\"403.5\" y=\"-168.8\" font-family=\"Helvetica,sans-Serif\" font-size=\"14.00\">value = [0.799, 0.201]</text>\n</g>\n<!-- 0&#45;&gt;7438 -->\n<g id=\"edge8\" class=\"edge\">\n<title>0&#45;&gt;7438</title>\n<path fill=\"none\" stroke=\"black\" d=\"M344.95,-249.87C353.41,-241.01 363,-230.95 371.94,-221.58\"/>\n<polygon fill=\"black\" stroke=\"black\" points=\"374.56,-223.9 378.93,-214.25 369.5,-219.07 374.56,-223.9\"/>\n<text text-anchor=\"middle\" x=\"379.52\" y=\"-235.54\" font-family=\"Helvetica,sans-Serif\" font-size=\"14.00\">False</text>\n</g>\n<!-- 2 -->\n<g id=\"node3\" class=\"node\">\n<title>2</title>\n<polygon fill=\"#e9f4fc\" stroke=\"black\" points=\"147,-125 0,-125 0,-72 147,-72 147,-125\"/>\n<text text-anchor=\"middle\" x=\"73.5\" y=\"-109.8\" font-family=\"Helvetica,sans-Serif\" font-size=\"14.00\">dull &lt;= 0.5</text>\n<text text-anchor=\"middle\" x=\"73.5\" y=\"-94.8\" font-family=\"Helvetica,sans-Serif\" font-size=\"14.00\">samples = 89.1%</text>\n<text text-anchor=\"middle\" x=\"73.5\" y=\"-79.8\" font-family=\"Helvetica,sans-Serif\" font-size=\"14.00\">value = [0.471, 0.529]</text>\n</g>\n<!-- 1&#45;&gt;2 -->\n<g id=\"edge2\" class=\"edge\">\n<title>1&#45;&gt;2</title>\n<path fill=\"none\" stroke=\"black\" d=\"M189.89,-160.87C171.42,-151.13 150.22,-139.95 131.01,-129.82\"/>\n<polygon fill=\"black\" stroke=\"black\" points=\"132.53,-126.67 122.05,-125.1 129.26,-132.86 132.53,-126.67\"/>\n</g>\n<!-- 6781 -->\n<g id=\"node6\" class=\"node\">\n<title>6781</title>\n<polygon fill=\"#f1b991\" stroke=\"black\" points=\"312,-125 165,-125 165,-72 312,-72 312,-125\"/>\n<text text-anchor=\"middle\" x=\"238.5\" y=\"-109.8\" font-family=\"Helvetica,sans-Serif\" font-size=\"14.00\">life &lt;= 2.5</text>\n<text text-anchor=\"middle\" x=\"238.5\" y=\"-94.8\" font-family=\"Helvetica,sans-Serif\" font-size=\"14.00\">samples = 9.5%</text>\n<text text-anchor=\"middle\" x=\"238.5\" y=\"-79.8\" font-family=\"Helvetica,sans-Serif\" font-size=\"14.00\">value = [0.692, 0.308]</text>\n</g>\n<!-- 1&#45;&gt;6781 -->\n<g id=\"edge5\" class=\"edge\">\n<title>1&#45;&gt;6781</title>\n<path fill=\"none\" stroke=\"black\" d=\"M238.5,-160.87C238.5,-152.89 238.5,-143.93 238.5,-135.38\"/>\n<polygon fill=\"black\" stroke=\"black\" points=\"242,-135.25 238.5,-125.25 235,-135.25 242,-135.25\"/>\n</g>\n<!-- 3 -->\n<g id=\"node4\" class=\"node\">\n<title>3</title>\n<polygon fill=\"#c0c0c0\" stroke=\"black\" points=\"85.5,-36 31.5,-36 31.5,0 85.5,0 85.5,-36\"/>\n<text text-anchor=\"middle\" x=\"58.5\" y=\"-14.3\" font-family=\"Helvetica,sans-Serif\" font-size=\"14.00\">(...)</text>\n</g>\n<!-- 2&#45;&gt;3 -->\n<g id=\"edge3\" class=\"edge\">\n<title>2&#45;&gt;3</title>\n<path fill=\"none\" stroke=\"black\" d=\"M68.59,-71.8C67.03,-63.62 65.29,-54.55 63.71,-46.27\"/>\n<polygon fill=\"black\" stroke=\"black\" points=\"67.13,-45.5 61.81,-36.33 60.25,-46.81 67.13,-45.5\"/>\n</g>\n<!-- 6630 -->\n<g id=\"node5\" class=\"node\">\n<title>6630</title>\n<polygon fill=\"#c0c0c0\" stroke=\"black\" points=\"157.5,-36 103.5,-36 103.5,0 157.5,0 157.5,-36\"/>\n<text text-anchor=\"middle\" x=\"130.5\" y=\"-14.3\" font-family=\"Helvetica,sans-Serif\" font-size=\"14.00\">(...)</text>\n</g>\n<!-- 2&#45;&gt;6630 -->\n<g id=\"edge4\" class=\"edge\">\n<title>2&#45;&gt;6630</title>\n<path fill=\"none\" stroke=\"black\" d=\"M92.16,-71.8C98.5,-63.08 105.56,-53.34 111.89,-44.63\"/>\n<polygon fill=\"black\" stroke=\"black\" points=\"114.87,-46.48 117.92,-36.33 109.21,-42.37 114.87,-46.48\"/>\n</g>\n<!-- 6782 -->\n<g id=\"node7\" class=\"node\">\n<title>6782</title>\n<polygon fill=\"#c0c0c0\" stroke=\"black\" points=\"247.5,-36 193.5,-36 193.5,0 247.5,0 247.5,-36\"/>\n<text text-anchor=\"middle\" x=\"220.5\" y=\"-14.3\" font-family=\"Helvetica,sans-Serif\" font-size=\"14.00\">(...)</text>\n</g>\n<!-- 6781&#45;&gt;6782 -->\n<g id=\"edge6\" class=\"edge\">\n<title>6781&#45;&gt;6782</title>\n<path fill=\"none\" stroke=\"black\" d=\"M232.61,-71.8C230.73,-63.62 228.65,-54.55 226.75,-46.27\"/>\n<polygon fill=\"black\" stroke=\"black\" points=\"230.12,-45.3 224.47,-36.33 223.3,-46.86 230.12,-45.3\"/>\n</g>\n<!-- 7421 -->\n<g id=\"node8\" class=\"node\">\n<title>7421</title>\n<polygon fill=\"#c0c0c0\" stroke=\"black\" points=\"319.5,-36 265.5,-36 265.5,0 319.5,0 319.5,-36\"/>\n<text text-anchor=\"middle\" x=\"292.5\" y=\"-14.3\" font-family=\"Helvetica,sans-Serif\" font-size=\"14.00\">(...)</text>\n</g>\n<!-- 6781&#45;&gt;7421 -->\n<g id=\"edge7\" class=\"edge\">\n<title>6781&#45;&gt;7421</title>\n<path fill=\"none\" stroke=\"black\" d=\"M256.18,-71.8C262.18,-63.08 268.88,-53.34 274.87,-44.63\"/>\n<polygon fill=\"black\" stroke=\"black\" points=\"277.79,-46.55 280.58,-36.33 272.03,-42.59 277.79,-46.55\"/>\n</g>\n<!-- 7439 -->\n<g id=\"node10\" class=\"node\">\n<title>7439</title>\n<polygon fill=\"#eb9e66\" stroke=\"black\" points=\"477,-125 330,-125 330,-72 477,-72 477,-125\"/>\n<text text-anchor=\"middle\" x=\"403.5\" y=\"-109.8\" font-family=\"Helvetica,sans-Serif\" font-size=\"14.00\">ended &lt;= 0.5</text>\n<text text-anchor=\"middle\" x=\"403.5\" y=\"-94.8\" font-family=\"Helvetica,sans-Serif\" font-size=\"14.00\">samples = 1.4%</text>\n<text text-anchor=\"middle\" x=\"403.5\" y=\"-79.8\" font-family=\"Helvetica,sans-Serif\" font-size=\"14.00\">value = [0.813, 0.187]</text>\n</g>\n<!-- 7438&#45;&gt;7439 -->\n<g id=\"edge9\" class=\"edge\">\n<title>7438&#45;&gt;7439</title>\n<path fill=\"none\" stroke=\"black\" d=\"M403.5,-160.87C403.5,-152.89 403.5,-143.93 403.5,-135.38\"/>\n<polygon fill=\"black\" stroke=\"black\" points=\"407,-135.25 403.5,-125.25 400,-135.25 407,-135.25\"/>\n</g>\n<!-- 7524 -->\n<g id=\"node13\" class=\"node\">\n<title>7524</title>\n<polygon fill=\"#399de5\" stroke=\"black\" points=\"612,-117.5 495,-117.5 495,-79.5 612,-79.5 612,-117.5\"/>\n<text text-anchor=\"middle\" x=\"553.5\" y=\"-102.3\" font-family=\"Helvetica,sans-Serif\" font-size=\"14.00\">samples = 0.0%</text>\n<text text-anchor=\"middle\" x=\"553.5\" y=\"-87.3\" font-family=\"Helvetica,sans-Serif\" font-size=\"14.00\">value = [0.0, 1.0]</text>\n</g>\n<!-- 7438&#45;&gt;7524 -->\n<g id=\"edge12\" class=\"edge\">\n<title>7438&#45;&gt;7524</title>\n<path fill=\"none\" stroke=\"black\" d=\"M447.69,-160.87C468.62,-148.73 493.42,-134.35 513.75,-122.55\"/>\n<polygon fill=\"black\" stroke=\"black\" points=\"515.56,-125.55 522.45,-117.51 512.05,-119.5 515.56,-125.55\"/>\n</g>\n<!-- 7440 -->\n<g id=\"node11\" class=\"node\">\n<title>7440</title>\n<polygon fill=\"#c0c0c0\" stroke=\"black\" points=\"410.5,-36 356.5,-36 356.5,0 410.5,0 410.5,-36\"/>\n<text text-anchor=\"middle\" x=\"383.5\" y=\"-14.3\" font-family=\"Helvetica,sans-Serif\" font-size=\"14.00\">(...)</text>\n</g>\n<!-- 7439&#45;&gt;7440 -->\n<g id=\"edge10\" class=\"edge\">\n<title>7439&#45;&gt;7440</title>\n<path fill=\"none\" stroke=\"black\" d=\"M396.95,-71.8C394.87,-63.62 392.56,-54.55 390.45,-46.27\"/>\n<polygon fill=\"black\" stroke=\"black\" points=\"393.78,-45.16 387.92,-36.33 386.99,-46.88 393.78,-45.16\"/>\n</g>\n<!-- 7517 -->\n<g id=\"node12\" class=\"node\">\n<title>7517</title>\n<polygon fill=\"#c0c0c0\" stroke=\"black\" points=\"482.5,-36 428.5,-36 428.5,0 482.5,0 482.5,-36\"/>\n<text text-anchor=\"middle\" x=\"455.5\" y=\"-14.3\" font-family=\"Helvetica,sans-Serif\" font-size=\"14.00\">(...)</text>\n</g>\n<!-- 7439&#45;&gt;7517 -->\n<g id=\"edge11\" class=\"edge\">\n<title>7439&#45;&gt;7517</title>\n<path fill=\"none\" stroke=\"black\" d=\"M420.53,-71.8C426.24,-63.17 432.62,-53.54 438.34,-44.9\"/>\n<polygon fill=\"black\" stroke=\"black\" points=\"441.42,-46.6 444.02,-36.33 435.58,-42.73 441.42,-46.6\"/>\n</g>\n</g>\n</svg>\n",
            "text/plain": [
              "<graphviz.sources.Source at 0x7e360beba920>"
            ]
          },
          "metadata": {}
        },
        {
          "output_type": "display_data",
          "data": {
            "image/svg+xml": "<?xml version=\"1.0\" encoding=\"UTF-8\" standalone=\"no\"?>\n<!DOCTYPE svg PUBLIC \"-//W3C//DTD SVG 1.1//EN\"\n \"http://www.w3.org/Graphics/SVG/1.1/DTD/svg11.dtd\">\n<!-- Generated by graphviz version 2.43.0 (0)\n -->\n<!-- Title: Tree Pages: 1 -->\n<svg width=\"620pt\" height=\"311pt\"\n viewBox=\"0.00 0.00 620.00 311.00\" xmlns=\"http://www.w3.org/2000/svg\" xmlns:xlink=\"http://www.w3.org/1999/xlink\">\n<g id=\"graph0\" class=\"graph\" transform=\"scale(1 1) rotate(0) translate(4 307)\">\n<title>Tree</title>\n<polygon fill=\"white\" stroke=\"transparent\" points=\"-4,4 -4,-307 616,-307 616,4 -4,4\"/>\n<!-- 0 -->\n<g id=\"node1\" class=\"node\">\n<title>0</title>\n<polygon fill=\"#fcfdff\" stroke=\"black\" points=\"394,-303 247,-303 247,-250 394,-250 394,-303\"/>\n<text text-anchor=\"middle\" x=\"320.5\" y=\"-287.8\" font-family=\"Helvetica,sans-Serif\" font-size=\"14.00\">wonderful &lt;= 0.5</text>\n<text text-anchor=\"middle\" x=\"320.5\" y=\"-272.8\" font-family=\"Helvetica,sans-Serif\" font-size=\"14.00\">samples = 100.0%</text>\n<text text-anchor=\"middle\" x=\"320.5\" y=\"-257.8\" font-family=\"Helvetica,sans-Serif\" font-size=\"14.00\">value = [0.496, 0.504]</text>\n</g>\n<!-- 1 -->\n<g id=\"node2\" class=\"node\">\n<title>1</title>\n<polygon fill=\"#fdf8f3\" stroke=\"black\" points=\"312,-214 165,-214 165,-161 312,-161 312,-214\"/>\n<text text-anchor=\"middle\" x=\"238.5\" y=\"-198.8\" font-family=\"Helvetica,sans-Serif\" font-size=\"14.00\">unfunny &lt;= 0.5</text>\n<text text-anchor=\"middle\" x=\"238.5\" y=\"-183.8\" font-family=\"Helvetica,sans-Serif\" font-size=\"14.00\">samples = 94.2%</text>\n<text text-anchor=\"middle\" x=\"238.5\" y=\"-168.8\" font-family=\"Helvetica,sans-Serif\" font-size=\"14.00\">value = [0.515, 0.485]</text>\n</g>\n<!-- 0&#45;&gt;1 -->\n<g id=\"edge1\" class=\"edge\">\n<title>0&#45;&gt;1</title>\n<path fill=\"none\" stroke=\"black\" d=\"M296.34,-249.87C287.99,-241.01 278.51,-230.95 269.68,-221.58\"/>\n<polygon fill=\"black\" stroke=\"black\" points=\"272.18,-219.13 262.77,-214.25 267.08,-223.93 272.18,-219.13\"/>\n<text text-anchor=\"middle\" x=\"262.03\" y=\"-235.54\" font-family=\"Helvetica,sans-Serif\" font-size=\"14.00\">True</text>\n</g>\n<!-- 7586 -->\n<g id=\"node9\" class=\"node\">\n<title>7586</title>\n<polygon fill=\"#65b3eb\" stroke=\"black\" points=\"477,-214 330,-214 330,-161 477,-161 477,-214\"/>\n<text text-anchor=\"middle\" x=\"403.5\" y=\"-198.8\" font-family=\"Helvetica,sans-Serif\" font-size=\"14.00\">franchise &lt;= 0.5</text>\n<text text-anchor=\"middle\" x=\"403.5\" y=\"-183.8\" font-family=\"Helvetica,sans-Serif\" font-size=\"14.00\">samples = 5.8%</text>\n<text text-anchor=\"middle\" x=\"403.5\" y=\"-168.8\" font-family=\"Helvetica,sans-Serif\" font-size=\"14.00\">value = [0.183, 0.817]</text>\n</g>\n<!-- 0&#45;&gt;7586 -->\n<g id=\"edge8\" class=\"edge\">\n<title>0&#45;&gt;7586</title>\n<path fill=\"none\" stroke=\"black\" d=\"M344.95,-249.87C353.41,-241.01 363,-230.95 371.94,-221.58\"/>\n<polygon fill=\"black\" stroke=\"black\" points=\"374.56,-223.9 378.93,-214.25 369.5,-219.07 374.56,-223.9\"/>\n<text text-anchor=\"middle\" x=\"379.52\" y=\"-235.54\" font-family=\"Helvetica,sans-Serif\" font-size=\"14.00\">False</text>\n</g>\n<!-- 2 -->\n<g id=\"node3\" class=\"node\">\n<title>2</title>\n<polygon fill=\"#fefaf7\" stroke=\"black\" points=\"147,-125 0,-125 0,-72 147,-72 147,-125\"/>\n<text text-anchor=\"middle\" x=\"73.5\" y=\"-109.8\" font-family=\"Helvetica,sans-Serif\" font-size=\"14.00\">ok &lt;= 0.5</text>\n<text text-anchor=\"middle\" x=\"73.5\" y=\"-94.8\" font-family=\"Helvetica,sans-Serif\" font-size=\"14.00\">samples = 93.4%</text>\n<text text-anchor=\"middle\" x=\"73.5\" y=\"-79.8\" font-family=\"Helvetica,sans-Serif\" font-size=\"14.00\">value = [0.511, 0.489]</text>\n</g>\n<!-- 1&#45;&gt;2 -->\n<g id=\"edge2\" class=\"edge\">\n<title>1&#45;&gt;2</title>\n<path fill=\"none\" stroke=\"black\" d=\"M189.89,-160.87C171.42,-151.13 150.22,-139.95 131.01,-129.82\"/>\n<polygon fill=\"black\" stroke=\"black\" points=\"132.53,-126.67 122.05,-125.1 129.26,-132.86 132.53,-126.67\"/>\n</g>\n<!-- 7563 -->\n<g id=\"node6\" class=\"node\">\n<title>7563</title>\n<polygon fill=\"#e68742\" stroke=\"black\" points=\"312,-125 165,-125 165,-72 312,-72 312,-125\"/>\n<text text-anchor=\"middle\" x=\"238.5\" y=\"-109.8\" font-family=\"Helvetica,sans-Serif\" font-size=\"14.00\">honest &lt;= 0.5</text>\n<text text-anchor=\"middle\" x=\"238.5\" y=\"-94.8\" font-family=\"Helvetica,sans-Serif\" font-size=\"14.00\">samples = 0.8%</text>\n<text text-anchor=\"middle\" x=\"238.5\" y=\"-79.8\" font-family=\"Helvetica,sans-Serif\" font-size=\"14.00\">value = [0.956, 0.044]</text>\n</g>\n<!-- 1&#45;&gt;7563 -->\n<g id=\"edge5\" class=\"edge\">\n<title>1&#45;&gt;7563</title>\n<path fill=\"none\" stroke=\"black\" d=\"M238.5,-160.87C238.5,-152.89 238.5,-143.93 238.5,-135.38\"/>\n<polygon fill=\"black\" stroke=\"black\" points=\"242,-135.25 238.5,-125.25 235,-135.25 242,-135.25\"/>\n</g>\n<!-- 3 -->\n<g id=\"node4\" class=\"node\">\n<title>3</title>\n<polygon fill=\"#c0c0c0\" stroke=\"black\" points=\"85.5,-36 31.5,-36 31.5,0 85.5,0 85.5,-36\"/>\n<text text-anchor=\"middle\" x=\"58.5\" y=\"-14.3\" font-family=\"Helvetica,sans-Serif\" font-size=\"14.00\">(...)</text>\n</g>\n<!-- 2&#45;&gt;3 -->\n<g id=\"edge3\" class=\"edge\">\n<title>2&#45;&gt;3</title>\n<path fill=\"none\" stroke=\"black\" d=\"M68.59,-71.8C67.03,-63.62 65.29,-54.55 63.71,-46.27\"/>\n<polygon fill=\"black\" stroke=\"black\" points=\"67.13,-45.5 61.81,-36.33 60.25,-46.81 67.13,-45.5\"/>\n</g>\n<!-- 7280 -->\n<g id=\"node5\" class=\"node\">\n<title>7280</title>\n<polygon fill=\"#c0c0c0\" stroke=\"black\" points=\"157.5,-36 103.5,-36 103.5,0 157.5,0 157.5,-36\"/>\n<text text-anchor=\"middle\" x=\"130.5\" y=\"-14.3\" font-family=\"Helvetica,sans-Serif\" font-size=\"14.00\">(...)</text>\n</g>\n<!-- 2&#45;&gt;7280 -->\n<g id=\"edge4\" class=\"edge\">\n<title>2&#45;&gt;7280</title>\n<path fill=\"none\" stroke=\"black\" d=\"M92.16,-71.8C98.5,-63.08 105.56,-53.34 111.89,-44.63\"/>\n<polygon fill=\"black\" stroke=\"black\" points=\"114.87,-46.48 117.92,-36.33 109.21,-42.37 114.87,-46.48\"/>\n</g>\n<!-- 7564 -->\n<g id=\"node7\" class=\"node\">\n<title>7564</title>\n<polygon fill=\"#c0c0c0\" stroke=\"black\" points=\"247.5,-36 193.5,-36 193.5,0 247.5,0 247.5,-36\"/>\n<text text-anchor=\"middle\" x=\"220.5\" y=\"-14.3\" font-family=\"Helvetica,sans-Serif\" font-size=\"14.00\">(...)</text>\n</g>\n<!-- 7563&#45;&gt;7564 -->\n<g id=\"edge6\" class=\"edge\">\n<title>7563&#45;&gt;7564</title>\n<path fill=\"none\" stroke=\"black\" d=\"M232.61,-71.8C230.73,-63.62 228.65,-54.55 226.75,-46.27\"/>\n<polygon fill=\"black\" stroke=\"black\" points=\"230.12,-45.3 224.47,-36.33 223.3,-46.86 230.12,-45.3\"/>\n</g>\n<!-- 7585 -->\n<g id=\"node8\" class=\"node\">\n<title>7585</title>\n<polygon fill=\"#c0c0c0\" stroke=\"black\" points=\"319.5,-36 265.5,-36 265.5,0 319.5,0 319.5,-36\"/>\n<text text-anchor=\"middle\" x=\"292.5\" y=\"-14.3\" font-family=\"Helvetica,sans-Serif\" font-size=\"14.00\">(...)</text>\n</g>\n<!-- 7563&#45;&gt;7585 -->\n<g id=\"edge7\" class=\"edge\">\n<title>7563&#45;&gt;7585</title>\n<path fill=\"none\" stroke=\"black\" d=\"M256.18,-71.8C262.18,-63.08 268.88,-53.34 274.87,-44.63\"/>\n<polygon fill=\"black\" stroke=\"black\" points=\"277.79,-46.55 280.58,-36.33 272.03,-42.59 277.79,-46.55\"/>\n</g>\n<!-- 7587 -->\n<g id=\"node10\" class=\"node\">\n<title>7587</title>\n<polygon fill=\"#64b2eb\" stroke=\"black\" points=\"477,-125 330,-125 330,-72 477,-72 477,-125\"/>\n<text text-anchor=\"middle\" x=\"403.5\" y=\"-109.8\" font-family=\"Helvetica,sans-Serif\" font-size=\"14.00\">killers &lt;= 0.5</text>\n<text text-anchor=\"middle\" x=\"403.5\" y=\"-94.8\" font-family=\"Helvetica,sans-Serif\" font-size=\"14.00\">samples = 5.8%</text>\n<text text-anchor=\"middle\" x=\"403.5\" y=\"-79.8\" font-family=\"Helvetica,sans-Serif\" font-size=\"14.00\">value = [0.179, 0.821]</text>\n</g>\n<!-- 7586&#45;&gt;7587 -->\n<g id=\"edge9\" class=\"edge\">\n<title>7586&#45;&gt;7587</title>\n<path fill=\"none\" stroke=\"black\" d=\"M403.5,-160.87C403.5,-152.89 403.5,-143.93 403.5,-135.38\"/>\n<polygon fill=\"black\" stroke=\"black\" points=\"407,-135.25 403.5,-125.25 400,-135.25 407,-135.25\"/>\n</g>\n<!-- 7926 -->\n<g id=\"node13\" class=\"node\">\n<title>7926</title>\n<polygon fill=\"#e58139\" stroke=\"black\" points=\"612,-117.5 495,-117.5 495,-79.5 612,-79.5 612,-117.5\"/>\n<text text-anchor=\"middle\" x=\"553.5\" y=\"-102.3\" font-family=\"Helvetica,sans-Serif\" font-size=\"14.00\">samples = 0.0%</text>\n<text text-anchor=\"middle\" x=\"553.5\" y=\"-87.3\" font-family=\"Helvetica,sans-Serif\" font-size=\"14.00\">value = [1.0, 0.0]</text>\n</g>\n<!-- 7586&#45;&gt;7926 -->\n<g id=\"edge12\" class=\"edge\">\n<title>7586&#45;&gt;7926</title>\n<path fill=\"none\" stroke=\"black\" d=\"M447.69,-160.87C468.62,-148.73 493.42,-134.35 513.75,-122.55\"/>\n<polygon fill=\"black\" stroke=\"black\" points=\"515.56,-125.55 522.45,-117.51 512.05,-119.5 515.56,-125.55\"/>\n</g>\n<!-- 7588 -->\n<g id=\"node11\" class=\"node\">\n<title>7588</title>\n<polygon fill=\"#c0c0c0\" stroke=\"black\" points=\"410.5,-36 356.5,-36 356.5,0 410.5,0 410.5,-36\"/>\n<text text-anchor=\"middle\" x=\"383.5\" y=\"-14.3\" font-family=\"Helvetica,sans-Serif\" font-size=\"14.00\">(...)</text>\n</g>\n<!-- 7587&#45;&gt;7588 -->\n<g id=\"edge10\" class=\"edge\">\n<title>7587&#45;&gt;7588</title>\n<path fill=\"none\" stroke=\"black\" d=\"M396.95,-71.8C394.87,-63.62 392.56,-54.55 390.45,-46.27\"/>\n<polygon fill=\"black\" stroke=\"black\" points=\"393.78,-45.16 387.92,-36.33 386.99,-46.88 393.78,-45.16\"/>\n</g>\n<!-- 7919 -->\n<g id=\"node12\" class=\"node\">\n<title>7919</title>\n<polygon fill=\"#c0c0c0\" stroke=\"black\" points=\"482.5,-36 428.5,-36 428.5,0 482.5,0 482.5,-36\"/>\n<text text-anchor=\"middle\" x=\"455.5\" y=\"-14.3\" font-family=\"Helvetica,sans-Serif\" font-size=\"14.00\">(...)</text>\n</g>\n<!-- 7587&#45;&gt;7919 -->\n<g id=\"edge11\" class=\"edge\">\n<title>7587&#45;&gt;7919</title>\n<path fill=\"none\" stroke=\"black\" d=\"M420.53,-71.8C426.24,-63.17 432.62,-53.54 438.34,-44.9\"/>\n<polygon fill=\"black\" stroke=\"black\" points=\"441.42,-46.6 444.02,-36.33 435.58,-42.73 441.42,-46.6\"/>\n</g>\n</g>\n</svg>\n",
            "text/plain": [
              "<graphviz.sources.Source at 0x7e35faa16320>"
            ]
          },
          "metadata": {}
        },
        {
          "output_type": "display_data",
          "data": {
            "image/svg+xml": "<?xml version=\"1.0\" encoding=\"UTF-8\" standalone=\"no\"?>\n<!DOCTYPE svg PUBLIC \"-//W3C//DTD SVG 1.1//EN\"\n \"http://www.w3.org/Graphics/SVG/1.1/DTD/svg11.dtd\">\n<!-- Generated by graphviz version 2.43.0 (0)\n -->\n<!-- Title: Tree Pages: 1 -->\n<svg width=\"657pt\" height=\"311pt\"\n viewBox=\"0.00 0.00 656.50 311.00\" xmlns=\"http://www.w3.org/2000/svg\" xmlns:xlink=\"http://www.w3.org/1999/xlink\">\n<g id=\"graph0\" class=\"graph\" transform=\"scale(1 1) rotate(0) translate(4 307)\">\n<title>Tree</title>\n<polygon fill=\"white\" stroke=\"transparent\" points=\"-4,4 -4,-307 652.5,-307 652.5,4 -4,4\"/>\n<!-- 0 -->\n<g id=\"node1\" class=\"node\">\n<title>0</title>\n<polygon fill=\"#fbfdfe\" stroke=\"black\" points=\"394,-303 247,-303 247,-250 394,-250 394,-303\"/>\n<text text-anchor=\"middle\" x=\"320.5\" y=\"-287.8\" font-family=\"Helvetica,sans-Serif\" font-size=\"14.00\">even &lt;= 0.5</text>\n<text text-anchor=\"middle\" x=\"320.5\" y=\"-272.8\" font-family=\"Helvetica,sans-Serif\" font-size=\"14.00\">samples = 100.0%</text>\n<text text-anchor=\"middle\" x=\"320.5\" y=\"-257.8\" font-family=\"Helvetica,sans-Serif\" font-size=\"14.00\">value = [0.494, 0.506]</text>\n</g>\n<!-- 1 -->\n<g id=\"node2\" class=\"node\">\n<title>1</title>\n<polygon fill=\"#ddeefb\" stroke=\"black\" points=\"312,-214 165,-214 165,-161 312,-161 312,-214\"/>\n<text text-anchor=\"middle\" x=\"238.5\" y=\"-198.8\" font-family=\"Helvetica,sans-Serif\" font-size=\"14.00\">best &lt;= 0.5</text>\n<text text-anchor=\"middle\" x=\"238.5\" y=\"-183.8\" font-family=\"Helvetica,sans-Serif\" font-size=\"14.00\">samples = 66.4%</text>\n<text text-anchor=\"middle\" x=\"238.5\" y=\"-168.8\" font-family=\"Helvetica,sans-Serif\" font-size=\"14.00\">value = [0.453, 0.547]</text>\n</g>\n<!-- 0&#45;&gt;1 -->\n<g id=\"edge1\" class=\"edge\">\n<title>0&#45;&gt;1</title>\n<path fill=\"none\" stroke=\"black\" d=\"M296.34,-249.87C287.99,-241.01 278.51,-230.95 269.68,-221.58\"/>\n<polygon fill=\"black\" stroke=\"black\" points=\"272.18,-219.13 262.77,-214.25 267.08,-223.93 272.18,-219.13\"/>\n<text text-anchor=\"middle\" x=\"262.03\" y=\"-235.54\" font-family=\"Helvetica,sans-Serif\" font-size=\"14.00\">True</text>\n</g>\n<!-- 5322 -->\n<g id=\"node9\" class=\"node\">\n<title>5322</title>\n<polygon fill=\"#f8ddca\" stroke=\"black\" points=\"477,-214 330,-214 330,-161 477,-161 477,-214\"/>\n<text text-anchor=\"middle\" x=\"403.5\" y=\"-198.8\" font-family=\"Helvetica,sans-Serif\" font-size=\"14.00\">failed &lt;= 0.5</text>\n<text text-anchor=\"middle\" x=\"403.5\" y=\"-183.8\" font-family=\"Helvetica,sans-Serif\" font-size=\"14.00\">samples = 33.6%</text>\n<text text-anchor=\"middle\" x=\"403.5\" y=\"-168.8\" font-family=\"Helvetica,sans-Serif\" font-size=\"14.00\">value = [0.577, 0.423]</text>\n</g>\n<!-- 0&#45;&gt;5322 -->\n<g id=\"edge8\" class=\"edge\">\n<title>0&#45;&gt;5322</title>\n<path fill=\"none\" stroke=\"black\" d=\"M344.95,-249.87C353.41,-241.01 363,-230.95 371.94,-221.58\"/>\n<polygon fill=\"black\" stroke=\"black\" points=\"374.56,-223.9 378.93,-214.25 369.5,-219.07 374.56,-223.9\"/>\n<text text-anchor=\"middle\" x=\"379.52\" y=\"-235.54\" font-family=\"Helvetica,sans-Serif\" font-size=\"14.00\">False</text>\n</g>\n<!-- 2 -->\n<g id=\"node3\" class=\"node\">\n<title>2</title>\n<polygon fill=\"#f3f9fd\" stroke=\"black\" points=\"147,-125 0,-125 0,-72 147,-72 147,-125\"/>\n<text text-anchor=\"middle\" x=\"73.5\" y=\"-109.8\" font-family=\"Helvetica,sans-Serif\" font-size=\"14.00\">worse &lt;= 0.5</text>\n<text text-anchor=\"middle\" x=\"73.5\" y=\"-94.8\" font-family=\"Helvetica,sans-Serif\" font-size=\"14.00\">samples = 54.2%</text>\n<text text-anchor=\"middle\" x=\"73.5\" y=\"-79.8\" font-family=\"Helvetica,sans-Serif\" font-size=\"14.00\">value = [0.485, 0.515]</text>\n</g>\n<!-- 1&#45;&gt;2 -->\n<g id=\"edge2\" class=\"edge\">\n<title>1&#45;&gt;2</title>\n<path fill=\"none\" stroke=\"black\" d=\"M189.89,-160.87C171.42,-151.13 150.22,-139.95 131.01,-129.82\"/>\n<polygon fill=\"black\" stroke=\"black\" points=\"132.53,-126.67 122.05,-125.1 129.26,-132.86 132.53,-126.67\"/>\n</g>\n<!-- 4393 -->\n<g id=\"node6\" class=\"node\">\n<title>4393</title>\n<polygon fill=\"#93caf1\" stroke=\"black\" points=\"312,-125 165,-125 165,-72 312,-72 312,-125\"/>\n<text text-anchor=\"middle\" x=\"238.5\" y=\"-109.8\" font-family=\"Helvetica,sans-Serif\" font-size=\"14.00\">lousy &lt;= 0.5</text>\n<text text-anchor=\"middle\" x=\"238.5\" y=\"-94.8\" font-family=\"Helvetica,sans-Serif\" font-size=\"14.00\">samples = 12.2%</text>\n<text text-anchor=\"middle\" x=\"238.5\" y=\"-79.8\" font-family=\"Helvetica,sans-Serif\" font-size=\"14.00\">value = [0.312, 0.688]</text>\n</g>\n<!-- 1&#45;&gt;4393 -->\n<g id=\"edge5\" class=\"edge\">\n<title>1&#45;&gt;4393</title>\n<path fill=\"none\" stroke=\"black\" d=\"M238.5,-160.87C238.5,-152.89 238.5,-143.93 238.5,-135.38\"/>\n<polygon fill=\"black\" stroke=\"black\" points=\"242,-135.25 238.5,-125.25 235,-135.25 242,-135.25\"/>\n</g>\n<!-- 3 -->\n<g id=\"node4\" class=\"node\">\n<title>3</title>\n<polygon fill=\"#c0c0c0\" stroke=\"black\" points=\"96.5,-36 42.5,-36 42.5,0 96.5,0 96.5,-36\"/>\n<text text-anchor=\"middle\" x=\"69.5\" y=\"-14.3\" font-family=\"Helvetica,sans-Serif\" font-size=\"14.00\">(...)</text>\n</g>\n<!-- 2&#45;&gt;3 -->\n<g id=\"edge3\" class=\"edge\">\n<title>2&#45;&gt;3</title>\n<path fill=\"none\" stroke=\"black\" d=\"M72.19,-71.8C71.78,-63.71 71.32,-54.76 70.9,-46.55\"/>\n<polygon fill=\"black\" stroke=\"black\" points=\"74.39,-46.14 70.38,-36.33 67.4,-46.5 74.39,-46.14\"/>\n</g>\n<!-- 4290 -->\n<g id=\"node5\" class=\"node\">\n<title>4290</title>\n<polygon fill=\"#c0c0c0\" stroke=\"black\" points=\"168.5,-36 114.5,-36 114.5,0 168.5,0 168.5,-36\"/>\n<text text-anchor=\"middle\" x=\"141.5\" y=\"-14.3\" font-family=\"Helvetica,sans-Serif\" font-size=\"14.00\">(...)</text>\n</g>\n<!-- 2&#45;&gt;4290 -->\n<g id=\"edge4\" class=\"edge\">\n<title>2&#45;&gt;4290</title>\n<path fill=\"none\" stroke=\"black\" d=\"M95.77,-71.8C103.48,-62.9 112.1,-52.93 119.77,-44.08\"/>\n<polygon fill=\"black\" stroke=\"black\" points=\"122.59,-46.18 126.49,-36.33 117.29,-41.6 122.59,-46.18\"/>\n</g>\n<!-- 4394 -->\n<g id=\"node7\" class=\"node\">\n<title>4394</title>\n<polygon fill=\"#c0c0c0\" stroke=\"black\" points=\"252.5,-36 198.5,-36 198.5,0 252.5,0 252.5,-36\"/>\n<text text-anchor=\"middle\" x=\"225.5\" y=\"-14.3\" font-family=\"Helvetica,sans-Serif\" font-size=\"14.00\">(...)</text>\n</g>\n<!-- 4393&#45;&gt;4394 -->\n<g id=\"edge6\" class=\"edge\">\n<title>4393&#45;&gt;4394</title>\n<path fill=\"none\" stroke=\"black\" d=\"M234.24,-71.8C232.89,-63.62 231.39,-54.55 230.02,-46.27\"/>\n<polygon fill=\"black\" stroke=\"black\" points=\"233.46,-45.62 228.37,-36.33 226.55,-46.77 233.46,-45.62\"/>\n</g>\n<!-- 5317 -->\n<g id=\"node8\" class=\"node\">\n<title>5317</title>\n<polygon fill=\"#c0c0c0\" stroke=\"black\" points=\"324.5,-36 270.5,-36 270.5,0 324.5,0 324.5,-36\"/>\n<text text-anchor=\"middle\" x=\"297.5\" y=\"-14.3\" font-family=\"Helvetica,sans-Serif\" font-size=\"14.00\">(...)</text>\n</g>\n<!-- 4393&#45;&gt;5317 -->\n<g id=\"edge7\" class=\"edge\">\n<title>4393&#45;&gt;5317</title>\n<path fill=\"none\" stroke=\"black\" d=\"M257.82,-71.8C264.44,-62.99 271.84,-53.14 278.44,-44.36\"/>\n<polygon fill=\"black\" stroke=\"black\" points=\"281.26,-46.43 284.47,-36.33 275.67,-42.22 281.26,-46.43\"/>\n</g>\n<!-- 5323 -->\n<g id=\"node10\" class=\"node\">\n<title>5323</title>\n<polygon fill=\"#f8dfcd\" stroke=\"black\" points=\"477,-125 330,-125 330,-72 477,-72 477,-125\"/>\n<text text-anchor=\"middle\" x=\"403.5\" y=\"-109.8\" font-family=\"Helvetica,sans-Serif\" font-size=\"14.00\">role &lt;= 0.5</text>\n<text text-anchor=\"middle\" x=\"403.5\" y=\"-94.8\" font-family=\"Helvetica,sans-Serif\" font-size=\"14.00\">samples = 32.7%</text>\n<text text-anchor=\"middle\" x=\"403.5\" y=\"-79.8\" font-family=\"Helvetica,sans-Serif\" font-size=\"14.00\">value = [0.571, 0.429]</text>\n</g>\n<!-- 5322&#45;&gt;5323 -->\n<g id=\"edge9\" class=\"edge\">\n<title>5322&#45;&gt;5323</title>\n<path fill=\"none\" stroke=\"black\" d=\"M403.5,-160.87C403.5,-152.89 403.5,-143.93 403.5,-135.38\"/>\n<polygon fill=\"black\" stroke=\"black\" points=\"407,-135.25 403.5,-125.25 400,-135.25 407,-135.25\"/>\n</g>\n<!-- 7832 -->\n<g id=\"node13\" class=\"node\">\n<title>7832</title>\n<polygon fill=\"#eca471\" stroke=\"black\" points=\"642,-125 495,-125 495,-72 642,-72 642,-125\"/>\n<text text-anchor=\"middle\" x=\"568.5\" y=\"-109.8\" font-family=\"Helvetica,sans-Serif\" font-size=\"14.00\">attack &lt;= 0.5</text>\n<text text-anchor=\"middle\" x=\"568.5\" y=\"-94.8\" font-family=\"Helvetica,sans-Serif\" font-size=\"14.00\">samples = 0.9%</text>\n<text text-anchor=\"middle\" x=\"568.5\" y=\"-79.8\" font-family=\"Helvetica,sans-Serif\" font-size=\"14.00\">value = [0.781, 0.219]</text>\n</g>\n<!-- 5322&#45;&gt;7832 -->\n<g id=\"edge12\" class=\"edge\">\n<title>5322&#45;&gt;7832</title>\n<path fill=\"none\" stroke=\"black\" d=\"M452.11,-160.87C470.58,-151.13 491.78,-139.95 510.99,-129.82\"/>\n<polygon fill=\"black\" stroke=\"black\" points=\"512.74,-132.86 519.95,-125.1 509.47,-126.67 512.74,-132.86\"/>\n</g>\n<!-- 5324 -->\n<g id=\"node11\" class=\"node\">\n<title>5324</title>\n<polygon fill=\"#c0c0c0\" stroke=\"black\" points=\"413.5,-36 359.5,-36 359.5,0 413.5,0 413.5,-36\"/>\n<text text-anchor=\"middle\" x=\"386.5\" y=\"-14.3\" font-family=\"Helvetica,sans-Serif\" font-size=\"14.00\">(...)</text>\n</g>\n<!-- 5323&#45;&gt;5324 -->\n<g id=\"edge10\" class=\"edge\">\n<title>5323&#45;&gt;5324</title>\n<path fill=\"none\" stroke=\"black\" d=\"M397.93,-71.8C396.16,-63.62 394.2,-54.55 392.41,-46.27\"/>\n<polygon fill=\"black\" stroke=\"black\" points=\"395.79,-45.36 390.25,-36.33 388.95,-46.84 395.79,-45.36\"/>\n</g>\n<!-- 7529 -->\n<g id=\"node12\" class=\"node\">\n<title>7529</title>\n<polygon fill=\"#c0c0c0\" stroke=\"black\" points=\"485.5,-36 431.5,-36 431.5,0 485.5,0 485.5,-36\"/>\n<text text-anchor=\"middle\" x=\"458.5\" y=\"-14.3\" font-family=\"Helvetica,sans-Serif\" font-size=\"14.00\">(...)</text>\n</g>\n<!-- 5323&#45;&gt;7529 -->\n<g id=\"edge11\" class=\"edge\">\n<title>5323&#45;&gt;7529</title>\n<path fill=\"none\" stroke=\"black\" d=\"M421.51,-71.8C427.62,-63.08 434.44,-53.34 440.54,-44.63\"/>\n<polygon fill=\"black\" stroke=\"black\" points=\"443.49,-46.53 446.36,-36.33 437.75,-42.51 443.49,-46.53\"/>\n</g>\n<!-- 7833 -->\n<g id=\"node14\" class=\"node\">\n<title>7833</title>\n<polygon fill=\"#c0c0c0\" stroke=\"black\" points=\"576.5,-36 522.5,-36 522.5,0 576.5,0 576.5,-36\"/>\n<text text-anchor=\"middle\" x=\"549.5\" y=\"-14.3\" font-family=\"Helvetica,sans-Serif\" font-size=\"14.00\">(...)</text>\n</g>\n<!-- 7832&#45;&gt;7833 -->\n<g id=\"edge13\" class=\"edge\">\n<title>7832&#45;&gt;7833</title>\n<path fill=\"none\" stroke=\"black\" d=\"M562.28,-71.8C560.3,-63.62 558.11,-54.55 556.1,-46.27\"/>\n<polygon fill=\"black\" stroke=\"black\" points=\"559.45,-45.23 553.69,-36.33 552.65,-46.87 559.45,-45.23\"/>\n</g>\n<!-- 7882 -->\n<g id=\"node15\" class=\"node\">\n<title>7882</title>\n<polygon fill=\"#c0c0c0\" stroke=\"black\" points=\"648.5,-36 594.5,-36 594.5,0 648.5,0 648.5,-36\"/>\n<text text-anchor=\"middle\" x=\"621.5\" y=\"-14.3\" font-family=\"Helvetica,sans-Serif\" font-size=\"14.00\">(...)</text>\n</g>\n<!-- 7832&#45;&gt;7882 -->\n<g id=\"edge14\" class=\"edge\">\n<title>7832&#45;&gt;7882</title>\n<path fill=\"none\" stroke=\"black\" d=\"M585.85,-71.8C591.74,-63.08 598.31,-53.34 604.2,-44.63\"/>\n<polygon fill=\"black\" stroke=\"black\" points=\"607.1,-46.58 609.8,-36.33 601.3,-42.66 607.1,-46.58\"/>\n</g>\n</g>\n</svg>\n",
            "text/plain": [
              "<graphviz.sources.Source at 0x7e360beb9c90>"
            ]
          },
          "metadata": {}
        },
        {
          "output_type": "display_data",
          "data": {
            "image/svg+xml": "<?xml version=\"1.0\" encoding=\"UTF-8\" standalone=\"no\"?>\n<!DOCTYPE svg PUBLIC \"-//W3C//DTD SVG 1.1//EN\"\n \"http://www.w3.org/Graphics/SVG/1.1/DTD/svg11.dtd\">\n<!-- Generated by graphviz version 2.43.0 (0)\n -->\n<!-- Title: Tree Pages: 1 -->\n<svg width=\"657pt\" height=\"311pt\"\n viewBox=\"0.00 0.00 656.50 311.00\" xmlns=\"http://www.w3.org/2000/svg\" xmlns:xlink=\"http://www.w3.org/1999/xlink\">\n<g id=\"graph0\" class=\"graph\" transform=\"scale(1 1) rotate(0) translate(4 307)\">\n<title>Tree</title>\n<polygon fill=\"white\" stroke=\"transparent\" points=\"-4,4 -4,-307 652.5,-307 652.5,4 -4,4\"/>\n<!-- 0 -->\n<g id=\"node1\" class=\"node\">\n<title>0</title>\n<polygon fill=\"#fefbf8\" stroke=\"black\" points=\"394,-303 247,-303 247,-250 394,-250 394,-303\"/>\n<text text-anchor=\"middle\" x=\"320.5\" y=\"-287.8\" font-family=\"Helvetica,sans-Serif\" font-size=\"14.00\">avoid &lt;= 0.5</text>\n<text text-anchor=\"middle\" x=\"320.5\" y=\"-272.8\" font-family=\"Helvetica,sans-Serif\" font-size=\"14.00\">samples = 100.0%</text>\n<text text-anchor=\"middle\" x=\"320.5\" y=\"-257.8\" font-family=\"Helvetica,sans-Serif\" font-size=\"14.00\">value = [0.508, 0.492]</text>\n</g>\n<!-- 1 -->\n<g id=\"node2\" class=\"node\">\n<title>1</title>\n<polygon fill=\"#fdfeff\" stroke=\"black\" points=\"312,-214 165,-214 165,-161 312,-161 312,-214\"/>\n<text text-anchor=\"middle\" x=\"238.5\" y=\"-198.8\" font-family=\"Helvetica,sans-Serif\" font-size=\"14.00\">enjoyed &lt;= 0.5</text>\n<text text-anchor=\"middle\" x=\"238.5\" y=\"-183.8\" font-family=\"Helvetica,sans-Serif\" font-size=\"14.00\">samples = 97.0%</text>\n<text text-anchor=\"middle\" x=\"238.5\" y=\"-168.8\" font-family=\"Helvetica,sans-Serif\" font-size=\"14.00\">value = [0.498, 0.502]</text>\n</g>\n<!-- 0&#45;&gt;1 -->\n<g id=\"edge1\" class=\"edge\">\n<title>0&#45;&gt;1</title>\n<path fill=\"none\" stroke=\"black\" d=\"M296.34,-249.87C287.99,-241.01 278.51,-230.95 269.68,-221.58\"/>\n<polygon fill=\"black\" stroke=\"black\" points=\"272.18,-219.13 262.77,-214.25 267.08,-223.93 272.18,-219.13\"/>\n<text text-anchor=\"middle\" x=\"262.03\" y=\"-235.54\" font-family=\"Helvetica,sans-Serif\" font-size=\"14.00\">True</text>\n</g>\n<!-- 7490 -->\n<g id=\"node9\" class=\"node\">\n<title>7490</title>\n<polygon fill=\"#ea995e\" stroke=\"black\" points=\"477,-214 330,-214 330,-161 477,-161 477,-214\"/>\n<text text-anchor=\"middle\" x=\"403.5\" y=\"-198.8\" font-family=\"Helvetica,sans-Serif\" font-size=\"14.00\">police &lt;= 0.5</text>\n<text text-anchor=\"middle\" x=\"403.5\" y=\"-183.8\" font-family=\"Helvetica,sans-Serif\" font-size=\"14.00\">samples = 3.0%</text>\n<text text-anchor=\"middle\" x=\"403.5\" y=\"-168.8\" font-family=\"Helvetica,sans-Serif\" font-size=\"14.00\">value = [0.842, 0.158]</text>\n</g>\n<!-- 0&#45;&gt;7490 -->\n<g id=\"edge8\" class=\"edge\">\n<title>0&#45;&gt;7490</title>\n<path fill=\"none\" stroke=\"black\" d=\"M344.95,-249.87C353.41,-241.01 363,-230.95 371.94,-221.58\"/>\n<polygon fill=\"black\" stroke=\"black\" points=\"374.56,-223.9 378.93,-214.25 369.5,-219.07 374.56,-223.9\"/>\n<text text-anchor=\"middle\" x=\"379.52\" y=\"-235.54\" font-family=\"Helvetica,sans-Serif\" font-size=\"14.00\">False</text>\n</g>\n<!-- 2 -->\n<g id=\"node3\" class=\"node\">\n<title>2</title>\n<polygon fill=\"#fefbf8\" stroke=\"black\" points=\"147,-125 0,-125 0,-72 147,-72 147,-125\"/>\n<text text-anchor=\"middle\" x=\"73.5\" y=\"-109.8\" font-family=\"Helvetica,sans-Serif\" font-size=\"14.00\">acting &lt;= 0.5</text>\n<text text-anchor=\"middle\" x=\"73.5\" y=\"-94.8\" font-family=\"Helvetica,sans-Serif\" font-size=\"14.00\">samples = 92.5%</text>\n<text text-anchor=\"middle\" x=\"73.5\" y=\"-79.8\" font-family=\"Helvetica,sans-Serif\" font-size=\"14.00\">value = [0.509, 0.491]</text>\n</g>\n<!-- 1&#45;&gt;2 -->\n<g id=\"edge2\" class=\"edge\">\n<title>1&#45;&gt;2</title>\n<path fill=\"none\" stroke=\"black\" d=\"M189.89,-160.87C171.42,-151.13 150.22,-139.95 131.01,-129.82\"/>\n<polygon fill=\"black\" stroke=\"black\" points=\"132.53,-126.67 122.05,-125.1 129.26,-132.86 132.53,-126.67\"/>\n</g>\n<!-- 7125 -->\n<g id=\"node6\" class=\"node\">\n<title>7125</title>\n<polygon fill=\"#89c5f0\" stroke=\"black\" points=\"312,-125 165,-125 165,-72 312,-72 312,-125\"/>\n<text text-anchor=\"middle\" x=\"238.5\" y=\"-109.8\" font-family=\"Helvetica,sans-Serif\" font-size=\"14.00\">whole &lt;= 0.5</text>\n<text text-anchor=\"middle\" x=\"238.5\" y=\"-94.8\" font-family=\"Helvetica,sans-Serif\" font-size=\"14.00\">samples = 4.5%</text>\n<text text-anchor=\"middle\" x=\"238.5\" y=\"-79.8\" font-family=\"Helvetica,sans-Serif\" font-size=\"14.00\">value = [0.288, 0.712]</text>\n</g>\n<!-- 1&#45;&gt;7125 -->\n<g id=\"edge5\" class=\"edge\">\n<title>1&#45;&gt;7125</title>\n<path fill=\"none\" stroke=\"black\" d=\"M238.5,-160.87C238.5,-152.89 238.5,-143.93 238.5,-135.38\"/>\n<polygon fill=\"black\" stroke=\"black\" points=\"242,-135.25 238.5,-125.25 235,-135.25 242,-135.25\"/>\n</g>\n<!-- 3 -->\n<g id=\"node4\" class=\"node\">\n<title>3</title>\n<polygon fill=\"#c0c0c0\" stroke=\"black\" points=\"96.5,-36 42.5,-36 42.5,0 96.5,0 96.5,-36\"/>\n<text text-anchor=\"middle\" x=\"69.5\" y=\"-14.3\" font-family=\"Helvetica,sans-Serif\" font-size=\"14.00\">(...)</text>\n</g>\n<!-- 2&#45;&gt;3 -->\n<g id=\"edge3\" class=\"edge\">\n<title>2&#45;&gt;3</title>\n<path fill=\"none\" stroke=\"black\" d=\"M72.19,-71.8C71.78,-63.71 71.32,-54.76 70.9,-46.55\"/>\n<polygon fill=\"black\" stroke=\"black\" points=\"74.39,-46.14 70.38,-36.33 67.4,-46.5 74.39,-46.14\"/>\n</g>\n<!-- 5740 -->\n<g id=\"node5\" class=\"node\">\n<title>5740</title>\n<polygon fill=\"#c0c0c0\" stroke=\"black\" points=\"168.5,-36 114.5,-36 114.5,0 168.5,0 168.5,-36\"/>\n<text text-anchor=\"middle\" x=\"141.5\" y=\"-14.3\" font-family=\"Helvetica,sans-Serif\" font-size=\"14.00\">(...)</text>\n</g>\n<!-- 2&#45;&gt;5740 -->\n<g id=\"edge4\" class=\"edge\">\n<title>2&#45;&gt;5740</title>\n<path fill=\"none\" stroke=\"black\" d=\"M95.77,-71.8C103.48,-62.9 112.1,-52.93 119.77,-44.08\"/>\n<polygon fill=\"black\" stroke=\"black\" points=\"122.59,-46.18 126.49,-36.33 117.29,-41.6 122.59,-46.18\"/>\n</g>\n<!-- 7126 -->\n<g id=\"node7\" class=\"node\">\n<title>7126</title>\n<polygon fill=\"#c0c0c0\" stroke=\"black\" points=\"252.5,-36 198.5,-36 198.5,0 252.5,0 252.5,-36\"/>\n<text text-anchor=\"middle\" x=\"225.5\" y=\"-14.3\" font-family=\"Helvetica,sans-Serif\" font-size=\"14.00\">(...)</text>\n</g>\n<!-- 7125&#45;&gt;7126 -->\n<g id=\"edge6\" class=\"edge\">\n<title>7125&#45;&gt;7126</title>\n<path fill=\"none\" stroke=\"black\" d=\"M234.24,-71.8C232.89,-63.62 231.39,-54.55 230.02,-46.27\"/>\n<polygon fill=\"black\" stroke=\"black\" points=\"233.46,-45.62 228.37,-36.33 226.55,-46.77 233.46,-45.62\"/>\n</g>\n<!-- 7445 -->\n<g id=\"node8\" class=\"node\">\n<title>7445</title>\n<polygon fill=\"#c0c0c0\" stroke=\"black\" points=\"324.5,-36 270.5,-36 270.5,0 324.5,0 324.5,-36\"/>\n<text text-anchor=\"middle\" x=\"297.5\" y=\"-14.3\" font-family=\"Helvetica,sans-Serif\" font-size=\"14.00\">(...)</text>\n</g>\n<!-- 7125&#45;&gt;7445 -->\n<g id=\"edge7\" class=\"edge\">\n<title>7125&#45;&gt;7445</title>\n<path fill=\"none\" stroke=\"black\" d=\"M257.82,-71.8C264.44,-62.99 271.84,-53.14 278.44,-44.36\"/>\n<polygon fill=\"black\" stroke=\"black\" points=\"281.26,-46.43 284.47,-36.33 275.67,-42.22 281.26,-46.43\"/>\n</g>\n<!-- 7491 -->\n<g id=\"node10\" class=\"node\">\n<title>7491</title>\n<polygon fill=\"#e9965b\" stroke=\"black\" points=\"477,-125 330,-125 330,-72 477,-72 477,-125\"/>\n<text text-anchor=\"middle\" x=\"403.5\" y=\"-109.8\" font-family=\"Helvetica,sans-Serif\" font-size=\"14.00\">life &lt;= 1.5</text>\n<text text-anchor=\"middle\" x=\"403.5\" y=\"-94.8\" font-family=\"Helvetica,sans-Serif\" font-size=\"14.00\">samples = 2.9%</text>\n<text text-anchor=\"middle\" x=\"403.5\" y=\"-79.8\" font-family=\"Helvetica,sans-Serif\" font-size=\"14.00\">value = [0.855, 0.145]</text>\n</g>\n<!-- 7490&#45;&gt;7491 -->\n<g id=\"edge9\" class=\"edge\">\n<title>7490&#45;&gt;7491</title>\n<path fill=\"none\" stroke=\"black\" d=\"M403.5,-160.87C403.5,-152.89 403.5,-143.93 403.5,-135.38\"/>\n<polygon fill=\"black\" stroke=\"black\" points=\"407,-135.25 403.5,-125.25 400,-135.25 407,-135.25\"/>\n</g>\n<!-- 7590 -->\n<g id=\"node13\" class=\"node\">\n<title>7590</title>\n<polygon fill=\"#fdf5ef\" stroke=\"black\" points=\"642,-125 495,-125 495,-72 642,-72 642,-125\"/>\n<text text-anchor=\"middle\" x=\"568.5\" y=\"-109.8\" font-family=\"Helvetica,sans-Serif\" font-size=\"14.00\">influence &lt;= 0.5</text>\n<text text-anchor=\"middle\" x=\"568.5\" y=\"-94.8\" font-family=\"Helvetica,sans-Serif\" font-size=\"14.00\">samples = 0.1%</text>\n<text text-anchor=\"middle\" x=\"568.5\" y=\"-79.8\" font-family=\"Helvetica,sans-Serif\" font-size=\"14.00\">value = [0.522, 0.478]</text>\n</g>\n<!-- 7490&#45;&gt;7590 -->\n<g id=\"edge12\" class=\"edge\">\n<title>7490&#45;&gt;7590</title>\n<path fill=\"none\" stroke=\"black\" d=\"M452.11,-160.87C470.58,-151.13 491.78,-139.95 510.99,-129.82\"/>\n<polygon fill=\"black\" stroke=\"black\" points=\"512.74,-132.86 519.95,-125.1 509.47,-126.67 512.74,-132.86\"/>\n</g>\n<!-- 7492 -->\n<g id=\"node11\" class=\"node\">\n<title>7492</title>\n<polygon fill=\"#c0c0c0\" stroke=\"black\" points=\"413.5,-36 359.5,-36 359.5,0 413.5,0 413.5,-36\"/>\n<text text-anchor=\"middle\" x=\"386.5\" y=\"-14.3\" font-family=\"Helvetica,sans-Serif\" font-size=\"14.00\">(...)</text>\n</g>\n<!-- 7491&#45;&gt;7492 -->\n<g id=\"edge10\" class=\"edge\">\n<title>7491&#45;&gt;7492</title>\n<path fill=\"none\" stroke=\"black\" d=\"M397.93,-71.8C396.16,-63.62 394.2,-54.55 392.41,-46.27\"/>\n<polygon fill=\"black\" stroke=\"black\" points=\"395.79,-45.36 390.25,-36.33 388.95,-46.84 395.79,-45.36\"/>\n</g>\n<!-- 7581 -->\n<g id=\"node12\" class=\"node\">\n<title>7581</title>\n<polygon fill=\"#c0c0c0\" stroke=\"black\" points=\"485.5,-36 431.5,-36 431.5,0 485.5,0 485.5,-36\"/>\n<text text-anchor=\"middle\" x=\"458.5\" y=\"-14.3\" font-family=\"Helvetica,sans-Serif\" font-size=\"14.00\">(...)</text>\n</g>\n<!-- 7491&#45;&gt;7581 -->\n<g id=\"edge11\" class=\"edge\">\n<title>7491&#45;&gt;7581</title>\n<path fill=\"none\" stroke=\"black\" d=\"M421.51,-71.8C427.62,-63.08 434.44,-53.34 440.54,-44.63\"/>\n<polygon fill=\"black\" stroke=\"black\" points=\"443.49,-46.53 446.36,-36.33 437.75,-42.51 443.49,-46.53\"/>\n</g>\n<!-- 7591 -->\n<g id=\"node14\" class=\"node\">\n<title>7591</title>\n<polygon fill=\"#c0c0c0\" stroke=\"black\" points=\"576.5,-36 522.5,-36 522.5,0 576.5,0 576.5,-36\"/>\n<text text-anchor=\"middle\" x=\"549.5\" y=\"-14.3\" font-family=\"Helvetica,sans-Serif\" font-size=\"14.00\">(...)</text>\n</g>\n<!-- 7590&#45;&gt;7591 -->\n<g id=\"edge13\" class=\"edge\">\n<title>7590&#45;&gt;7591</title>\n<path fill=\"none\" stroke=\"black\" d=\"M562.28,-71.8C560.3,-63.62 558.11,-54.55 556.1,-46.27\"/>\n<polygon fill=\"black\" stroke=\"black\" points=\"559.45,-45.23 553.69,-36.33 552.65,-46.87 559.45,-45.23\"/>\n</g>\n<!-- 7600 -->\n<g id=\"node15\" class=\"node\">\n<title>7600</title>\n<polygon fill=\"#c0c0c0\" stroke=\"black\" points=\"648.5,-36 594.5,-36 594.5,0 648.5,0 648.5,-36\"/>\n<text text-anchor=\"middle\" x=\"621.5\" y=\"-14.3\" font-family=\"Helvetica,sans-Serif\" font-size=\"14.00\">(...)</text>\n</g>\n<!-- 7590&#45;&gt;7600 -->\n<g id=\"edge14\" class=\"edge\">\n<title>7590&#45;&gt;7600</title>\n<path fill=\"none\" stroke=\"black\" d=\"M585.85,-71.8C591.74,-63.08 598.31,-53.34 604.2,-44.63\"/>\n<polygon fill=\"black\" stroke=\"black\" points=\"607.1,-46.58 609.8,-36.33 601.3,-42.66 607.1,-46.58\"/>\n</g>\n</g>\n</svg>\n",
            "text/plain": [
              "<graphviz.sources.Source at 0x7e35faa14d90>"
            ]
          },
          "metadata": {}
        },
        {
          "output_type": "display_data",
          "data": {
            "image/svg+xml": "<?xml version=\"1.0\" encoding=\"UTF-8\" standalone=\"no\"?>\n<!DOCTYPE svg PUBLIC \"-//W3C//DTD SVG 1.1//EN\"\n \"http://www.w3.org/Graphics/SVG/1.1/DTD/svg11.dtd\">\n<!-- Generated by graphviz version 2.43.0 (0)\n -->\n<!-- Title: Tree Pages: 1 -->\n<svg width=\"657pt\" height=\"311pt\"\n viewBox=\"0.00 0.00 656.50 311.00\" xmlns=\"http://www.w3.org/2000/svg\" xmlns:xlink=\"http://www.w3.org/1999/xlink\">\n<g id=\"graph0\" class=\"graph\" transform=\"scale(1 1) rotate(0) translate(4 307)\">\n<title>Tree</title>\n<polygon fill=\"white\" stroke=\"transparent\" points=\"-4,4 -4,-307 652.5,-307 652.5,4 -4,4\"/>\n<!-- 0 -->\n<g id=\"node1\" class=\"node\">\n<title>0</title>\n<polygon fill=\"#fffdfc\" stroke=\"black\" points=\"394,-303 247,-303 247,-250 394,-250 394,-303\"/>\n<text text-anchor=\"middle\" x=\"320.5\" y=\"-287.8\" font-family=\"Helvetica,sans-Serif\" font-size=\"14.00\">weak &lt;= 0.5</text>\n<text text-anchor=\"middle\" x=\"320.5\" y=\"-272.8\" font-family=\"Helvetica,sans-Serif\" font-size=\"14.00\">samples = 100.0%</text>\n<text text-anchor=\"middle\" x=\"320.5\" y=\"-257.8\" font-family=\"Helvetica,sans-Serif\" font-size=\"14.00\">value = [0.503, 0.497]</text>\n</g>\n<!-- 1 -->\n<g id=\"node2\" class=\"node\">\n<title>1</title>\n<polygon fill=\"#fdfeff\" stroke=\"black\" points=\"312,-214 165,-214 165,-161 312,-161 312,-214\"/>\n<text text-anchor=\"middle\" x=\"238.5\" y=\"-198.8\" font-family=\"Helvetica,sans-Serif\" font-size=\"14.00\">bored &lt;= 0.5</text>\n<text text-anchor=\"middle\" x=\"238.5\" y=\"-183.8\" font-family=\"Helvetica,sans-Serif\" font-size=\"14.00\">samples = 97.3%</text>\n<text text-anchor=\"middle\" x=\"238.5\" y=\"-168.8\" font-family=\"Helvetica,sans-Serif\" font-size=\"14.00\">value = [0.498, 0.502]</text>\n</g>\n<!-- 0&#45;&gt;1 -->\n<g id=\"edge1\" class=\"edge\">\n<title>0&#45;&gt;1</title>\n<path fill=\"none\" stroke=\"black\" d=\"M296.34,-249.87C287.99,-241.01 278.51,-230.95 269.68,-221.58\"/>\n<polygon fill=\"black\" stroke=\"black\" points=\"272.18,-219.13 262.77,-214.25 267.08,-223.93 272.18,-219.13\"/>\n<text text-anchor=\"middle\" x=\"262.03\" y=\"-235.54\" font-family=\"Helvetica,sans-Serif\" font-size=\"14.00\">True</text>\n</g>\n<!-- 7998 -->\n<g id=\"node9\" class=\"node\">\n<title>7998</title>\n<polygon fill=\"#f0b78e\" stroke=\"black\" points=\"477,-214 330,-214 330,-161 477,-161 477,-214\"/>\n<text text-anchor=\"middle\" x=\"403.5\" y=\"-198.8\" font-family=\"Helvetica,sans-Serif\" font-size=\"14.00\">fellow &lt;= 0.5</text>\n<text text-anchor=\"middle\" x=\"403.5\" y=\"-183.8\" font-family=\"Helvetica,sans-Serif\" font-size=\"14.00\">samples = 2.7%</text>\n<text text-anchor=\"middle\" x=\"403.5\" y=\"-168.8\" font-family=\"Helvetica,sans-Serif\" font-size=\"14.00\">value = [0.699, 0.301]</text>\n</g>\n<!-- 0&#45;&gt;7998 -->\n<g id=\"edge8\" class=\"edge\">\n<title>0&#45;&gt;7998</title>\n<path fill=\"none\" stroke=\"black\" d=\"M344.95,-249.87C353.41,-241.01 363,-230.95 371.94,-221.58\"/>\n<polygon fill=\"black\" stroke=\"black\" points=\"374.56,-223.9 378.93,-214.25 369.5,-219.07 374.56,-223.9\"/>\n<text text-anchor=\"middle\" x=\"379.52\" y=\"-235.54\" font-family=\"Helvetica,sans-Serif\" font-size=\"14.00\">False</text>\n</g>\n<!-- 2 -->\n<g id=\"node3\" class=\"node\">\n<title>2</title>\n<polygon fill=\"#fafcfe\" stroke=\"black\" points=\"147,-125 0,-125 0,-72 147,-72 147,-125\"/>\n<text text-anchor=\"middle\" x=\"73.5\" y=\"-109.8\" font-family=\"Helvetica,sans-Serif\" font-size=\"14.00\">predictable &lt;= 0.5</text>\n<text text-anchor=\"middle\" x=\"73.5\" y=\"-94.8\" font-family=\"Helvetica,sans-Serif\" font-size=\"14.00\">samples = 95.4%</text>\n<text text-anchor=\"middle\" x=\"73.5\" y=\"-79.8\" font-family=\"Helvetica,sans-Serif\" font-size=\"14.00\">value = [0.493, 0.507]</text>\n</g>\n<!-- 1&#45;&gt;2 -->\n<g id=\"edge2\" class=\"edge\">\n<title>1&#45;&gt;2</title>\n<path fill=\"none\" stroke=\"black\" d=\"M189.89,-160.87C171.42,-151.13 150.22,-139.95 131.01,-129.82\"/>\n<polygon fill=\"black\" stroke=\"black\" points=\"132.53,-126.67 122.05,-125.1 129.26,-132.86 132.53,-126.67\"/>\n</g>\n<!-- 7817 -->\n<g id=\"node6\" class=\"node\">\n<title>7817</title>\n<polygon fill=\"#eeaf81\" stroke=\"black\" points=\"312,-125 165,-125 165,-72 312,-72 312,-125\"/>\n<text text-anchor=\"middle\" x=\"238.5\" y=\"-109.8\" font-family=\"Helvetica,sans-Serif\" font-size=\"14.00\">leg &lt;= 0.5</text>\n<text text-anchor=\"middle\" x=\"238.5\" y=\"-94.8\" font-family=\"Helvetica,sans-Serif\" font-size=\"14.00\">samples = 1.8%</text>\n<text text-anchor=\"middle\" x=\"238.5\" y=\"-79.8\" font-family=\"Helvetica,sans-Serif\" font-size=\"14.00\">value = [0.733, 0.267]</text>\n</g>\n<!-- 1&#45;&gt;7817 -->\n<g id=\"edge5\" class=\"edge\">\n<title>1&#45;&gt;7817</title>\n<path fill=\"none\" stroke=\"black\" d=\"M238.5,-160.87C238.5,-152.89 238.5,-143.93 238.5,-135.38\"/>\n<polygon fill=\"black\" stroke=\"black\" points=\"242,-135.25 238.5,-125.25 235,-135.25 242,-135.25\"/>\n</g>\n<!-- 3 -->\n<g id=\"node4\" class=\"node\">\n<title>3</title>\n<polygon fill=\"#c0c0c0\" stroke=\"black\" points=\"96.5,-36 42.5,-36 42.5,0 96.5,0 96.5,-36\"/>\n<text text-anchor=\"middle\" x=\"69.5\" y=\"-14.3\" font-family=\"Helvetica,sans-Serif\" font-size=\"14.00\">(...)</text>\n</g>\n<!-- 2&#45;&gt;3 -->\n<g id=\"edge3\" class=\"edge\">\n<title>2&#45;&gt;3</title>\n<path fill=\"none\" stroke=\"black\" d=\"M72.19,-71.8C71.78,-63.71 71.32,-54.76 70.9,-46.55\"/>\n<polygon fill=\"black\" stroke=\"black\" points=\"74.39,-46.14 70.38,-36.33 67.4,-46.5 74.39,-46.14\"/>\n</g>\n<!-- 7578 -->\n<g id=\"node5\" class=\"node\">\n<title>7578</title>\n<polygon fill=\"#c0c0c0\" stroke=\"black\" points=\"168.5,-36 114.5,-36 114.5,0 168.5,0 168.5,-36\"/>\n<text text-anchor=\"middle\" x=\"141.5\" y=\"-14.3\" font-family=\"Helvetica,sans-Serif\" font-size=\"14.00\">(...)</text>\n</g>\n<!-- 2&#45;&gt;7578 -->\n<g id=\"edge4\" class=\"edge\">\n<title>2&#45;&gt;7578</title>\n<path fill=\"none\" stroke=\"black\" d=\"M95.77,-71.8C103.48,-62.9 112.1,-52.93 119.77,-44.08\"/>\n<polygon fill=\"black\" stroke=\"black\" points=\"122.59,-46.18 126.49,-36.33 117.29,-41.6 122.59,-46.18\"/>\n</g>\n<!-- 7818 -->\n<g id=\"node7\" class=\"node\">\n<title>7818</title>\n<polygon fill=\"#c0c0c0\" stroke=\"black\" points=\"252.5,-36 198.5,-36 198.5,0 252.5,0 252.5,-36\"/>\n<text text-anchor=\"middle\" x=\"225.5\" y=\"-14.3\" font-family=\"Helvetica,sans-Serif\" font-size=\"14.00\">(...)</text>\n</g>\n<!-- 7817&#45;&gt;7818 -->\n<g id=\"edge6\" class=\"edge\">\n<title>7817&#45;&gt;7818</title>\n<path fill=\"none\" stroke=\"black\" d=\"M234.24,-71.8C232.89,-63.62 231.39,-54.55 230.02,-46.27\"/>\n<polygon fill=\"black\" stroke=\"black\" points=\"233.46,-45.62 228.37,-36.33 226.55,-46.77 233.46,-45.62\"/>\n</g>\n<!-- 7997 -->\n<g id=\"node8\" class=\"node\">\n<title>7997</title>\n<polygon fill=\"#c0c0c0\" stroke=\"black\" points=\"324.5,-36 270.5,-36 270.5,0 324.5,0 324.5,-36\"/>\n<text text-anchor=\"middle\" x=\"297.5\" y=\"-14.3\" font-family=\"Helvetica,sans-Serif\" font-size=\"14.00\">(...)</text>\n</g>\n<!-- 7817&#45;&gt;7997 -->\n<g id=\"edge7\" class=\"edge\">\n<title>7817&#45;&gt;7997</title>\n<path fill=\"none\" stroke=\"black\" d=\"M257.82,-71.8C264.44,-62.99 271.84,-53.14 278.44,-44.36\"/>\n<polygon fill=\"black\" stroke=\"black\" points=\"281.26,-46.43 284.47,-36.33 275.67,-42.22 281.26,-46.43\"/>\n</g>\n<!-- 7999 -->\n<g id=\"node10\" class=\"node\">\n<title>7999</title>\n<polygon fill=\"#efb387\" stroke=\"black\" points=\"477,-125 330,-125 330,-72 477,-72 477,-125\"/>\n<text text-anchor=\"middle\" x=\"403.5\" y=\"-109.8\" font-family=\"Helvetica,sans-Serif\" font-size=\"14.00\">perfection &lt;= 0.5</text>\n<text text-anchor=\"middle\" x=\"403.5\" y=\"-94.8\" font-family=\"Helvetica,sans-Serif\" font-size=\"14.00\">samples = 2.7%</text>\n<text text-anchor=\"middle\" x=\"403.5\" y=\"-79.8\" font-family=\"Helvetica,sans-Serif\" font-size=\"14.00\">value = [0.718, 0.282]</text>\n</g>\n<!-- 7998&#45;&gt;7999 -->\n<g id=\"edge9\" class=\"edge\">\n<title>7998&#45;&gt;7999</title>\n<path fill=\"none\" stroke=\"black\" d=\"M403.5,-160.87C403.5,-152.89 403.5,-143.93 403.5,-135.38\"/>\n<polygon fill=\"black\" stroke=\"black\" points=\"407,-135.25 403.5,-125.25 400,-135.25 407,-135.25\"/>\n</g>\n<!-- 8158 -->\n<g id=\"node13\" class=\"node\">\n<title>8158</title>\n<polygon fill=\"#6eb7ec\" stroke=\"black\" points=\"642,-125 495,-125 495,-72 642,-72 642,-125\"/>\n<text text-anchor=\"middle\" x=\"568.5\" y=\"-109.8\" font-family=\"Helvetica,sans-Serif\" font-size=\"14.00\">issue &lt;= 0.5</text>\n<text text-anchor=\"middle\" x=\"568.5\" y=\"-94.8\" font-family=\"Helvetica,sans-Serif\" font-size=\"14.00\">samples = 0.1%</text>\n<text text-anchor=\"middle\" x=\"568.5\" y=\"-79.8\" font-family=\"Helvetica,sans-Serif\" font-size=\"14.00\">value = [0.211, 0.789]</text>\n</g>\n<!-- 7998&#45;&gt;8158 -->\n<g id=\"edge12\" class=\"edge\">\n<title>7998&#45;&gt;8158</title>\n<path fill=\"none\" stroke=\"black\" d=\"M452.11,-160.87C470.58,-151.13 491.78,-139.95 510.99,-129.82\"/>\n<polygon fill=\"black\" stroke=\"black\" points=\"512.74,-132.86 519.95,-125.1 509.47,-126.67 512.74,-132.86\"/>\n</g>\n<!-- 8000 -->\n<g id=\"node11\" class=\"node\">\n<title>8000</title>\n<polygon fill=\"#c0c0c0\" stroke=\"black\" points=\"413.5,-36 359.5,-36 359.5,0 413.5,0 413.5,-36\"/>\n<text text-anchor=\"middle\" x=\"386.5\" y=\"-14.3\" font-family=\"Helvetica,sans-Serif\" font-size=\"14.00\">(...)</text>\n</g>\n<!-- 7999&#45;&gt;8000 -->\n<g id=\"edge10\" class=\"edge\">\n<title>7999&#45;&gt;8000</title>\n<path fill=\"none\" stroke=\"black\" d=\"M397.93,-71.8C396.16,-63.62 394.2,-54.55 392.41,-46.27\"/>\n<polygon fill=\"black\" stroke=\"black\" points=\"395.79,-45.36 390.25,-36.33 388.95,-46.84 395.79,-45.36\"/>\n</g>\n<!-- 8157 -->\n<g id=\"node12\" class=\"node\">\n<title>8157</title>\n<polygon fill=\"#c0c0c0\" stroke=\"black\" points=\"485.5,-36 431.5,-36 431.5,0 485.5,0 485.5,-36\"/>\n<text text-anchor=\"middle\" x=\"458.5\" y=\"-14.3\" font-family=\"Helvetica,sans-Serif\" font-size=\"14.00\">(...)</text>\n</g>\n<!-- 7999&#45;&gt;8157 -->\n<g id=\"edge11\" class=\"edge\">\n<title>7999&#45;&gt;8157</title>\n<path fill=\"none\" stroke=\"black\" d=\"M421.51,-71.8C427.62,-63.08 434.44,-53.34 440.54,-44.63\"/>\n<polygon fill=\"black\" stroke=\"black\" points=\"443.49,-46.53 446.36,-36.33 437.75,-42.51 443.49,-46.53\"/>\n</g>\n<!-- 8159 -->\n<g id=\"node14\" class=\"node\">\n<title>8159</title>\n<polygon fill=\"#c0c0c0\" stroke=\"black\" points=\"576.5,-36 522.5,-36 522.5,0 576.5,0 576.5,-36\"/>\n<text text-anchor=\"middle\" x=\"549.5\" y=\"-14.3\" font-family=\"Helvetica,sans-Serif\" font-size=\"14.00\">(...)</text>\n</g>\n<!-- 8158&#45;&gt;8159 -->\n<g id=\"edge13\" class=\"edge\">\n<title>8158&#45;&gt;8159</title>\n<path fill=\"none\" stroke=\"black\" d=\"M562.28,-71.8C560.3,-63.62 558.11,-54.55 556.1,-46.27\"/>\n<polygon fill=\"black\" stroke=\"black\" points=\"559.45,-45.23 553.69,-36.33 552.65,-46.87 559.45,-45.23\"/>\n</g>\n<!-- 8166 -->\n<g id=\"node15\" class=\"node\">\n<title>8166</title>\n<polygon fill=\"#c0c0c0\" stroke=\"black\" points=\"648.5,-36 594.5,-36 594.5,0 648.5,0 648.5,-36\"/>\n<text text-anchor=\"middle\" x=\"621.5\" y=\"-14.3\" font-family=\"Helvetica,sans-Serif\" font-size=\"14.00\">(...)</text>\n</g>\n<!-- 8158&#45;&gt;8166 -->\n<g id=\"edge14\" class=\"edge\">\n<title>8158&#45;&gt;8166</title>\n<path fill=\"none\" stroke=\"black\" d=\"M585.85,-71.8C591.74,-63.08 598.31,-53.34 604.2,-44.63\"/>\n<polygon fill=\"black\" stroke=\"black\" points=\"607.1,-46.58 609.8,-36.33 601.3,-42.66 607.1,-46.58\"/>\n</g>\n</g>\n</svg>\n",
            "text/plain": [
              "<graphviz.sources.Source at 0x7e360beba530>"
            ]
          },
          "metadata": {}
        },
        {
          "output_type": "display_data",
          "data": {
            "image/svg+xml": "<?xml version=\"1.0\" encoding=\"UTF-8\" standalone=\"no\"?>\n<!DOCTYPE svg PUBLIC \"-//W3C//DTD SVG 1.1//EN\"\n \"http://www.w3.org/Graphics/SVG/1.1/DTD/svg11.dtd\">\n<!-- Generated by graphviz version 2.43.0 (0)\n -->\n<!-- Title: Tree Pages: 1 -->\n<svg width=\"657pt\" height=\"311pt\"\n viewBox=\"0.00 0.00 656.50 311.00\" xmlns=\"http://www.w3.org/2000/svg\" xmlns:xlink=\"http://www.w3.org/1999/xlink\">\n<g id=\"graph0\" class=\"graph\" transform=\"scale(1 1) rotate(0) translate(4 307)\">\n<title>Tree</title>\n<polygon fill=\"white\" stroke=\"transparent\" points=\"-4,4 -4,-307 652.5,-307 652.5,4 -4,4\"/>\n<!-- 0 -->\n<g id=\"node1\" class=\"node\">\n<title>0</title>\n<polygon fill=\"#fffefe\" stroke=\"black\" points=\"394,-303 247,-303 247,-250 394,-250 394,-303\"/>\n<text text-anchor=\"middle\" x=\"320.5\" y=\"-287.8\" font-family=\"Helvetica,sans-Serif\" font-size=\"14.00\">highly &lt;= 0.5</text>\n<text text-anchor=\"middle\" x=\"320.5\" y=\"-272.8\" font-family=\"Helvetica,sans-Serif\" font-size=\"14.00\">samples = 100.0%</text>\n<text text-anchor=\"middle\" x=\"320.5\" y=\"-257.8\" font-family=\"Helvetica,sans-Serif\" font-size=\"14.00\">value = [0.502, 0.498]</text>\n</g>\n<!-- 1 -->\n<g id=\"node2\" class=\"node\">\n<title>1</title>\n<polygon fill=\"#fef9f5\" stroke=\"black\" points=\"312,-214 165,-214 165,-161 312,-161 312,-214\"/>\n<text text-anchor=\"middle\" x=\"238.5\" y=\"-198.8\" font-family=\"Helvetica,sans-Serif\" font-size=\"14.00\">fantastic &lt;= 0.5</text>\n<text text-anchor=\"middle\" x=\"238.5\" y=\"-183.8\" font-family=\"Helvetica,sans-Serif\" font-size=\"14.00\">samples = 95.7%</text>\n<text text-anchor=\"middle\" x=\"238.5\" y=\"-168.8\" font-family=\"Helvetica,sans-Serif\" font-size=\"14.00\">value = [0.513, 0.487]</text>\n</g>\n<!-- 0&#45;&gt;1 -->\n<g id=\"edge1\" class=\"edge\">\n<title>0&#45;&gt;1</title>\n<path fill=\"none\" stroke=\"black\" d=\"M296.34,-249.87C287.99,-241.01 278.51,-230.95 269.68,-221.58\"/>\n<polygon fill=\"black\" stroke=\"black\" points=\"272.18,-219.13 262.77,-214.25 267.08,-223.93 272.18,-219.13\"/>\n<text text-anchor=\"middle\" x=\"262.03\" y=\"-235.54\" font-family=\"Helvetica,sans-Serif\" font-size=\"14.00\">True</text>\n</g>\n<!-- 7346 -->\n<g id=\"node9\" class=\"node\">\n<title>7346</title>\n<polygon fill=\"#7cbeee\" stroke=\"black\" points=\"477,-214 330,-214 330,-161 477,-161 477,-214\"/>\n<text text-anchor=\"middle\" x=\"403.5\" y=\"-198.8\" font-family=\"Helvetica,sans-Serif\" font-size=\"14.00\">recommend &lt;= 0.5</text>\n<text text-anchor=\"middle\" x=\"403.5\" y=\"-183.8\" font-family=\"Helvetica,sans-Serif\" font-size=\"14.00\">samples = 4.3%</text>\n<text text-anchor=\"middle\" x=\"403.5\" y=\"-168.8\" font-family=\"Helvetica,sans-Serif\" font-size=\"14.00\">value = [0.253, 0.747]</text>\n</g>\n<!-- 0&#45;&gt;7346 -->\n<g id=\"edge8\" class=\"edge\">\n<title>0&#45;&gt;7346</title>\n<path fill=\"none\" stroke=\"black\" d=\"M344.95,-249.87C353.41,-241.01 363,-230.95 371.94,-221.58\"/>\n<polygon fill=\"black\" stroke=\"black\" points=\"374.56,-223.9 378.93,-214.25 369.5,-219.07 374.56,-223.9\"/>\n<text text-anchor=\"middle\" x=\"379.52\" y=\"-235.54\" font-family=\"Helvetica,sans-Serif\" font-size=\"14.00\">False</text>\n</g>\n<!-- 2 -->\n<g id=\"node3\" class=\"node\">\n<title>2</title>\n<polygon fill=\"#fdf5ef\" stroke=\"black\" points=\"147,-125 0,-125 0,-72 147,-72 147,-125\"/>\n<text text-anchor=\"middle\" x=\"73.5\" y=\"-109.8\" font-family=\"Helvetica,sans-Serif\" font-size=\"14.00\">mediocre &lt;= 0.5</text>\n<text text-anchor=\"middle\" x=\"73.5\" y=\"-94.8\" font-family=\"Helvetica,sans-Serif\" font-size=\"14.00\">samples = 93.1%</text>\n<text text-anchor=\"middle\" x=\"73.5\" y=\"-79.8\" font-family=\"Helvetica,sans-Serif\" font-size=\"14.00\">value = [0.521, 0.479]</text>\n</g>\n<!-- 1&#45;&gt;2 -->\n<g id=\"edge2\" class=\"edge\">\n<title>1&#45;&gt;2</title>\n<path fill=\"none\" stroke=\"black\" d=\"M189.89,-160.87C171.42,-151.13 150.22,-139.95 131.01,-129.82\"/>\n<polygon fill=\"black\" stroke=\"black\" points=\"132.53,-126.67 122.05,-125.1 129.26,-132.86 132.53,-126.67\"/>\n</g>\n<!-- 7183 -->\n<g id=\"node6\" class=\"node\">\n<title>7183</title>\n<polygon fill=\"#6ab5eb\" stroke=\"black\" points=\"312,-125 165,-125 165,-72 312,-72 312,-125\"/>\n<text text-anchor=\"middle\" x=\"238.5\" y=\"-109.8\" font-family=\"Helvetica,sans-Serif\" font-size=\"14.00\">fly &lt;= 1.5</text>\n<text text-anchor=\"middle\" x=\"238.5\" y=\"-94.8\" font-family=\"Helvetica,sans-Serif\" font-size=\"14.00\">samples = 2.6%</text>\n<text text-anchor=\"middle\" x=\"238.5\" y=\"-79.8\" font-family=\"Helvetica,sans-Serif\" font-size=\"14.00\">value = [0.199, 0.801]</text>\n</g>\n<!-- 1&#45;&gt;7183 -->\n<g id=\"edge5\" class=\"edge\">\n<title>1&#45;&gt;7183</title>\n<path fill=\"none\" stroke=\"black\" d=\"M238.5,-160.87C238.5,-152.89 238.5,-143.93 238.5,-135.38\"/>\n<polygon fill=\"black\" stroke=\"black\" points=\"242,-135.25 238.5,-125.25 235,-135.25 242,-135.25\"/>\n</g>\n<!-- 3 -->\n<g id=\"node4\" class=\"node\">\n<title>3</title>\n<polygon fill=\"#c0c0c0\" stroke=\"black\" points=\"96.5,-36 42.5,-36 42.5,0 96.5,0 96.5,-36\"/>\n<text text-anchor=\"middle\" x=\"69.5\" y=\"-14.3\" font-family=\"Helvetica,sans-Serif\" font-size=\"14.00\">(...)</text>\n</g>\n<!-- 2&#45;&gt;3 -->\n<g id=\"edge3\" class=\"edge\">\n<title>2&#45;&gt;3</title>\n<path fill=\"none\" stroke=\"black\" d=\"M72.19,-71.8C71.78,-63.71 71.32,-54.76 70.9,-46.55\"/>\n<polygon fill=\"black\" stroke=\"black\" points=\"74.39,-46.14 70.38,-36.33 67.4,-46.5 74.39,-46.14\"/>\n</g>\n<!-- 7132 -->\n<g id=\"node5\" class=\"node\">\n<title>7132</title>\n<polygon fill=\"#c0c0c0\" stroke=\"black\" points=\"168.5,-36 114.5,-36 114.5,0 168.5,0 168.5,-36\"/>\n<text text-anchor=\"middle\" x=\"141.5\" y=\"-14.3\" font-family=\"Helvetica,sans-Serif\" font-size=\"14.00\">(...)</text>\n</g>\n<!-- 2&#45;&gt;7132 -->\n<g id=\"edge4\" class=\"edge\">\n<title>2&#45;&gt;7132</title>\n<path fill=\"none\" stroke=\"black\" d=\"M95.77,-71.8C103.48,-62.9 112.1,-52.93 119.77,-44.08\"/>\n<polygon fill=\"black\" stroke=\"black\" points=\"122.59,-46.18 126.49,-36.33 117.29,-41.6 122.59,-46.18\"/>\n</g>\n<!-- 7184 -->\n<g id=\"node7\" class=\"node\">\n<title>7184</title>\n<polygon fill=\"#c0c0c0\" stroke=\"black\" points=\"252.5,-36 198.5,-36 198.5,0 252.5,0 252.5,-36\"/>\n<text text-anchor=\"middle\" x=\"225.5\" y=\"-14.3\" font-family=\"Helvetica,sans-Serif\" font-size=\"14.00\">(...)</text>\n</g>\n<!-- 7183&#45;&gt;7184 -->\n<g id=\"edge6\" class=\"edge\">\n<title>7183&#45;&gt;7184</title>\n<path fill=\"none\" stroke=\"black\" d=\"M234.24,-71.8C232.89,-63.62 231.39,-54.55 230.02,-46.27\"/>\n<polygon fill=\"black\" stroke=\"black\" points=\"233.46,-45.62 228.37,-36.33 226.55,-46.77 233.46,-45.62\"/>\n</g>\n<!-- 7345 -->\n<g id=\"node8\" class=\"node\">\n<title>7345</title>\n<polygon fill=\"#c0c0c0\" stroke=\"black\" points=\"324.5,-36 270.5,-36 270.5,0 324.5,0 324.5,-36\"/>\n<text text-anchor=\"middle\" x=\"297.5\" y=\"-14.3\" font-family=\"Helvetica,sans-Serif\" font-size=\"14.00\">(...)</text>\n</g>\n<!-- 7183&#45;&gt;7345 -->\n<g id=\"edge7\" class=\"edge\">\n<title>7183&#45;&gt;7345</title>\n<path fill=\"none\" stroke=\"black\" d=\"M257.82,-71.8C264.44,-62.99 271.84,-53.14 278.44,-44.36\"/>\n<polygon fill=\"black\" stroke=\"black\" points=\"281.26,-46.43 284.47,-36.33 275.67,-42.22 281.26,-46.43\"/>\n</g>\n<!-- 7347 -->\n<g id=\"node10\" class=\"node\">\n<title>7347</title>\n<polygon fill=\"#8fc8f0\" stroke=\"black\" points=\"477,-125 330,-125 330,-72 477,-72 477,-125\"/>\n<text text-anchor=\"middle\" x=\"403.5\" y=\"-109.8\" font-family=\"Helvetica,sans-Serif\" font-size=\"14.00\">influenced &lt;= 0.5</text>\n<text text-anchor=\"middle\" x=\"403.5\" y=\"-94.8\" font-family=\"Helvetica,sans-Serif\" font-size=\"14.00\">samples = 3.2%</text>\n<text text-anchor=\"middle\" x=\"403.5\" y=\"-79.8\" font-family=\"Helvetica,sans-Serif\" font-size=\"14.00\">value = [0.304, 0.696]</text>\n</g>\n<!-- 7346&#45;&gt;7347 -->\n<g id=\"edge9\" class=\"edge\">\n<title>7346&#45;&gt;7347</title>\n<path fill=\"none\" stroke=\"black\" d=\"M403.5,-160.87C403.5,-152.89 403.5,-143.93 403.5,-135.38\"/>\n<polygon fill=\"black\" stroke=\"black\" points=\"407,-135.25 403.5,-125.25 400,-135.25 407,-135.25\"/>\n</g>\n<!-- 7600 -->\n<g id=\"node13\" class=\"node\">\n<title>7600</title>\n<polygon fill=\"#52aae8\" stroke=\"black\" points=\"642,-125 495,-125 495,-72 642,-72 642,-125\"/>\n<text text-anchor=\"middle\" x=\"568.5\" y=\"-109.8\" font-family=\"Helvetica,sans-Serif\" font-size=\"14.00\">dark &lt;= 1.5</text>\n<text text-anchor=\"middle\" x=\"568.5\" y=\"-94.8\" font-family=\"Helvetica,sans-Serif\" font-size=\"14.00\">samples = 1.2%</text>\n<text text-anchor=\"middle\" x=\"568.5\" y=\"-79.8\" font-family=\"Helvetica,sans-Serif\" font-size=\"14.00\">value = [0.114, 0.886]</text>\n</g>\n<!-- 7346&#45;&gt;7600 -->\n<g id=\"edge12\" class=\"edge\">\n<title>7346&#45;&gt;7600</title>\n<path fill=\"none\" stroke=\"black\" d=\"M452.11,-160.87C470.58,-151.13 491.78,-139.95 510.99,-129.82\"/>\n<polygon fill=\"black\" stroke=\"black\" points=\"512.74,-132.86 519.95,-125.1 509.47,-126.67 512.74,-132.86\"/>\n</g>\n<!-- 7348 -->\n<g id=\"node11\" class=\"node\">\n<title>7348</title>\n<polygon fill=\"#c0c0c0\" stroke=\"black\" points=\"413.5,-36 359.5,-36 359.5,0 413.5,0 413.5,-36\"/>\n<text text-anchor=\"middle\" x=\"386.5\" y=\"-14.3\" font-family=\"Helvetica,sans-Serif\" font-size=\"14.00\">(...)</text>\n</g>\n<!-- 7347&#45;&gt;7348 -->\n<g id=\"edge10\" class=\"edge\">\n<title>7347&#45;&gt;7348</title>\n<path fill=\"none\" stroke=\"black\" d=\"M397.93,-71.8C396.16,-63.62 394.2,-54.55 392.41,-46.27\"/>\n<polygon fill=\"black\" stroke=\"black\" points=\"395.79,-45.36 390.25,-36.33 388.95,-46.84 395.79,-45.36\"/>\n</g>\n<!-- 7599 -->\n<g id=\"node12\" class=\"node\">\n<title>7599</title>\n<polygon fill=\"#c0c0c0\" stroke=\"black\" points=\"485.5,-36 431.5,-36 431.5,0 485.5,0 485.5,-36\"/>\n<text text-anchor=\"middle\" x=\"458.5\" y=\"-14.3\" font-family=\"Helvetica,sans-Serif\" font-size=\"14.00\">(...)</text>\n</g>\n<!-- 7347&#45;&gt;7599 -->\n<g id=\"edge11\" class=\"edge\">\n<title>7347&#45;&gt;7599</title>\n<path fill=\"none\" stroke=\"black\" d=\"M421.51,-71.8C427.62,-63.08 434.44,-53.34 440.54,-44.63\"/>\n<polygon fill=\"black\" stroke=\"black\" points=\"443.49,-46.53 446.36,-36.33 437.75,-42.51 443.49,-46.53\"/>\n</g>\n<!-- 7601 -->\n<g id=\"node14\" class=\"node\">\n<title>7601</title>\n<polygon fill=\"#c0c0c0\" stroke=\"black\" points=\"576.5,-36 522.5,-36 522.5,0 576.5,0 576.5,-36\"/>\n<text text-anchor=\"middle\" x=\"549.5\" y=\"-14.3\" font-family=\"Helvetica,sans-Serif\" font-size=\"14.00\">(...)</text>\n</g>\n<!-- 7600&#45;&gt;7601 -->\n<g id=\"edge13\" class=\"edge\">\n<title>7600&#45;&gt;7601</title>\n<path fill=\"none\" stroke=\"black\" d=\"M562.28,-71.8C560.3,-63.62 558.11,-54.55 556.1,-46.27\"/>\n<polygon fill=\"black\" stroke=\"black\" points=\"559.45,-45.23 553.69,-36.33 552.65,-46.87 559.45,-45.23\"/>\n</g>\n<!-- 7650 -->\n<g id=\"node15\" class=\"node\">\n<title>7650</title>\n<polygon fill=\"#c0c0c0\" stroke=\"black\" points=\"648.5,-36 594.5,-36 594.5,0 648.5,0 648.5,-36\"/>\n<text text-anchor=\"middle\" x=\"621.5\" y=\"-14.3\" font-family=\"Helvetica,sans-Serif\" font-size=\"14.00\">(...)</text>\n</g>\n<!-- 7600&#45;&gt;7650 -->\n<g id=\"edge14\" class=\"edge\">\n<title>7600&#45;&gt;7650</title>\n<path fill=\"none\" stroke=\"black\" d=\"M585.85,-71.8C591.74,-63.08 598.31,-53.34 604.2,-44.63\"/>\n<polygon fill=\"black\" stroke=\"black\" points=\"607.1,-46.58 609.8,-36.33 601.3,-42.66 607.1,-46.58\"/>\n</g>\n</g>\n</svg>\n",
            "text/plain": [
              "<graphviz.sources.Source at 0x7e35faa15d80>"
            ]
          },
          "metadata": {}
        },
        {
          "output_type": "display_data",
          "data": {
            "image/svg+xml": "<?xml version=\"1.0\" encoding=\"UTF-8\" standalone=\"no\"?>\n<!DOCTYPE svg PUBLIC \"-//W3C//DTD SVG 1.1//EN\"\n \"http://www.w3.org/Graphics/SVG/1.1/DTD/svg11.dtd\">\n<!-- Generated by graphviz version 2.43.0 (0)\n -->\n<!-- Title: Tree Pages: 1 -->\n<svg width=\"657pt\" height=\"311pt\"\n viewBox=\"0.00 0.00 656.50 311.00\" xmlns=\"http://www.w3.org/2000/svg\" xmlns:xlink=\"http://www.w3.org/1999/xlink\">\n<g id=\"graph0\" class=\"graph\" transform=\"scale(1 1) rotate(0) translate(4 307)\">\n<title>Tree</title>\n<polygon fill=\"white\" stroke=\"transparent\" points=\"-4,4 -4,-307 652.5,-307 652.5,4 -4,4\"/>\n<!-- 0 -->\n<g id=\"node1\" class=\"node\">\n<title>0</title>\n<polygon fill=\"#ffffff\" stroke=\"black\" points=\"385.5,-303 255.5,-303 255.5,-250 385.5,-250 385.5,-303\"/>\n<text text-anchor=\"middle\" x=\"320.5\" y=\"-287.8\" font-family=\"Helvetica,sans-Serif\" font-size=\"14.00\">enjoyable &lt;= 0.5</text>\n<text text-anchor=\"middle\" x=\"320.5\" y=\"-272.8\" font-family=\"Helvetica,sans-Serif\" font-size=\"14.00\">samples = 100.0%</text>\n<text text-anchor=\"middle\" x=\"320.5\" y=\"-257.8\" font-family=\"Helvetica,sans-Serif\" font-size=\"14.00\">value = [0.5, 0.5]</text>\n</g>\n<!-- 1 -->\n<g id=\"node2\" class=\"node\">\n<title>1</title>\n<polygon fill=\"#fefcfa\" stroke=\"black\" points=\"312,-214 165,-214 165,-161 312,-161 312,-214\"/>\n<text text-anchor=\"middle\" x=\"238.5\" y=\"-198.8\" font-family=\"Helvetica,sans-Serif\" font-size=\"14.00\">hell &lt;= 0.5</text>\n<text text-anchor=\"middle\" x=\"238.5\" y=\"-183.8\" font-family=\"Helvetica,sans-Serif\" font-size=\"14.00\">samples = 97.0%</text>\n<text text-anchor=\"middle\" x=\"238.5\" y=\"-168.8\" font-family=\"Helvetica,sans-Serif\" font-size=\"14.00\">value = [0.506, 0.494]</text>\n</g>\n<!-- 0&#45;&gt;1 -->\n<g id=\"edge1\" class=\"edge\">\n<title>0&#45;&gt;1</title>\n<path fill=\"none\" stroke=\"black\" d=\"M296.34,-249.87C287.99,-241.01 278.51,-230.95 269.68,-221.58\"/>\n<polygon fill=\"black\" stroke=\"black\" points=\"272.18,-219.13 262.77,-214.25 267.08,-223.93 272.18,-219.13\"/>\n<text text-anchor=\"middle\" x=\"262.03\" y=\"-235.54\" font-family=\"Helvetica,sans-Serif\" font-size=\"14.00\">True</text>\n</g>\n<!-- 7448 -->\n<g id=\"node9\" class=\"node\">\n<title>7448</title>\n<polygon fill=\"#95cbf1\" stroke=\"black\" points=\"477,-214 330,-214 330,-161 477,-161 477,-214\"/>\n<text text-anchor=\"middle\" x=\"403.5\" y=\"-198.8\" font-family=\"Helvetica,sans-Serif\" font-size=\"14.00\">movie &lt;= 2.5</text>\n<text text-anchor=\"middle\" x=\"403.5\" y=\"-183.8\" font-family=\"Helvetica,sans-Serif\" font-size=\"14.00\">samples = 3.0%</text>\n<text text-anchor=\"middle\" x=\"403.5\" y=\"-168.8\" font-family=\"Helvetica,sans-Serif\" font-size=\"14.00\">value = [0.318, 0.682]</text>\n</g>\n<!-- 0&#45;&gt;7448 -->\n<g id=\"edge8\" class=\"edge\">\n<title>0&#45;&gt;7448</title>\n<path fill=\"none\" stroke=\"black\" d=\"M344.95,-249.87C353.41,-241.01 363,-230.95 371.94,-221.58\"/>\n<polygon fill=\"black\" stroke=\"black\" points=\"374.56,-223.9 378.93,-214.25 369.5,-219.07 374.56,-223.9\"/>\n<text text-anchor=\"middle\" x=\"379.52\" y=\"-235.54\" font-family=\"Helvetica,sans-Serif\" font-size=\"14.00\">False</text>\n</g>\n<!-- 2 -->\n<g id=\"node3\" class=\"node\">\n<title>2</title>\n<polygon fill=\"#fefeff\" stroke=\"black\" points=\"147,-125 0,-125 0,-72 147,-72 147,-125\"/>\n<text text-anchor=\"middle\" x=\"73.5\" y=\"-109.8\" font-family=\"Helvetica,sans-Serif\" font-size=\"14.00\">unexpected &lt;= 0.5</text>\n<text text-anchor=\"middle\" x=\"73.5\" y=\"-94.8\" font-family=\"Helvetica,sans-Serif\" font-size=\"14.00\">samples = 93.5%</text>\n<text text-anchor=\"middle\" x=\"73.5\" y=\"-79.8\" font-family=\"Helvetica,sans-Serif\" font-size=\"14.00\">value = [0.498, 0.502]</text>\n</g>\n<!-- 1&#45;&gt;2 -->\n<g id=\"edge2\" class=\"edge\">\n<title>1&#45;&gt;2</title>\n<path fill=\"none\" stroke=\"black\" d=\"M189.89,-160.87C171.42,-151.13 150.22,-139.95 131.01,-129.82\"/>\n<polygon fill=\"black\" stroke=\"black\" points=\"132.53,-126.67 122.05,-125.1 129.26,-132.86 132.53,-126.67\"/>\n</g>\n<!-- 7163 -->\n<g id=\"node6\" class=\"node\">\n<title>7163</title>\n<polygon fill=\"#f0b68d\" stroke=\"black\" points=\"312,-125 165,-125 165,-72 312,-72 312,-125\"/>\n<text text-anchor=\"middle\" x=\"238.5\" y=\"-109.8\" font-family=\"Helvetica,sans-Serif\" font-size=\"14.00\">ups &lt;= 0.5</text>\n<text text-anchor=\"middle\" x=\"238.5\" y=\"-94.8\" font-family=\"Helvetica,sans-Serif\" font-size=\"14.00\">samples = 3.5%</text>\n<text text-anchor=\"middle\" x=\"238.5\" y=\"-79.8\" font-family=\"Helvetica,sans-Serif\" font-size=\"14.00\">value = [0.702, 0.298]</text>\n</g>\n<!-- 1&#45;&gt;7163 -->\n<g id=\"edge5\" class=\"edge\">\n<title>1&#45;&gt;7163</title>\n<path fill=\"none\" stroke=\"black\" d=\"M238.5,-160.87C238.5,-152.89 238.5,-143.93 238.5,-135.38\"/>\n<polygon fill=\"black\" stroke=\"black\" points=\"242,-135.25 238.5,-125.25 235,-135.25 242,-135.25\"/>\n</g>\n<!-- 3 -->\n<g id=\"node4\" class=\"node\">\n<title>3</title>\n<polygon fill=\"#c0c0c0\" stroke=\"black\" points=\"96.5,-36 42.5,-36 42.5,0 96.5,0 96.5,-36\"/>\n<text text-anchor=\"middle\" x=\"69.5\" y=\"-14.3\" font-family=\"Helvetica,sans-Serif\" font-size=\"14.00\">(...)</text>\n</g>\n<!-- 2&#45;&gt;3 -->\n<g id=\"edge3\" class=\"edge\">\n<title>2&#45;&gt;3</title>\n<path fill=\"none\" stroke=\"black\" d=\"M72.19,-71.8C71.78,-63.71 71.32,-54.76 70.9,-46.55\"/>\n<polygon fill=\"black\" stroke=\"black\" points=\"74.39,-46.14 70.38,-36.33 67.4,-46.5 74.39,-46.14\"/>\n</g>\n<!-- 7112 -->\n<g id=\"node5\" class=\"node\">\n<title>7112</title>\n<polygon fill=\"#c0c0c0\" stroke=\"black\" points=\"168.5,-36 114.5,-36 114.5,0 168.5,0 168.5,-36\"/>\n<text text-anchor=\"middle\" x=\"141.5\" y=\"-14.3\" font-family=\"Helvetica,sans-Serif\" font-size=\"14.00\">(...)</text>\n</g>\n<!-- 2&#45;&gt;7112 -->\n<g id=\"edge4\" class=\"edge\">\n<title>2&#45;&gt;7112</title>\n<path fill=\"none\" stroke=\"black\" d=\"M95.77,-71.8C103.48,-62.9 112.1,-52.93 119.77,-44.08\"/>\n<polygon fill=\"black\" stroke=\"black\" points=\"122.59,-46.18 126.49,-36.33 117.29,-41.6 122.59,-46.18\"/>\n</g>\n<!-- 7164 -->\n<g id=\"node7\" class=\"node\">\n<title>7164</title>\n<polygon fill=\"#c0c0c0\" stroke=\"black\" points=\"252.5,-36 198.5,-36 198.5,0 252.5,0 252.5,-36\"/>\n<text text-anchor=\"middle\" x=\"225.5\" y=\"-14.3\" font-family=\"Helvetica,sans-Serif\" font-size=\"14.00\">(...)</text>\n</g>\n<!-- 7163&#45;&gt;7164 -->\n<g id=\"edge6\" class=\"edge\">\n<title>7163&#45;&gt;7164</title>\n<path fill=\"none\" stroke=\"black\" d=\"M234.24,-71.8C232.89,-63.62 231.39,-54.55 230.02,-46.27\"/>\n<polygon fill=\"black\" stroke=\"black\" points=\"233.46,-45.62 228.37,-36.33 226.55,-46.77 233.46,-45.62\"/>\n</g>\n<!-- 7445 -->\n<g id=\"node8\" class=\"node\">\n<title>7445</title>\n<polygon fill=\"#c0c0c0\" stroke=\"black\" points=\"324.5,-36 270.5,-36 270.5,0 324.5,0 324.5,-36\"/>\n<text text-anchor=\"middle\" x=\"297.5\" y=\"-14.3\" font-family=\"Helvetica,sans-Serif\" font-size=\"14.00\">(...)</text>\n</g>\n<!-- 7163&#45;&gt;7445 -->\n<g id=\"edge7\" class=\"edge\">\n<title>7163&#45;&gt;7445</title>\n<path fill=\"none\" stroke=\"black\" d=\"M257.82,-71.8C264.44,-62.99 271.84,-53.14 278.44,-44.36\"/>\n<polygon fill=\"black\" stroke=\"black\" points=\"281.26,-46.43 284.47,-36.33 275.67,-42.22 281.26,-46.43\"/>\n</g>\n<!-- 7449 -->\n<g id=\"node10\" class=\"node\">\n<title>7449</title>\n<polygon fill=\"#77bced\" stroke=\"black\" points=\"477,-125 330,-125 330,-72 477,-72 477,-125\"/>\n<text text-anchor=\"middle\" x=\"403.5\" y=\"-109.8\" font-family=\"Helvetica,sans-Serif\" font-size=\"14.00\">visuals &lt;= 0.5</text>\n<text text-anchor=\"middle\" x=\"403.5\" y=\"-94.8\" font-family=\"Helvetica,sans-Serif\" font-size=\"14.00\">samples = 2.0%</text>\n<text text-anchor=\"middle\" x=\"403.5\" y=\"-79.8\" font-family=\"Helvetica,sans-Serif\" font-size=\"14.00\">value = [0.238, 0.762]</text>\n</g>\n<!-- 7448&#45;&gt;7449 -->\n<g id=\"edge9\" class=\"edge\">\n<title>7448&#45;&gt;7449</title>\n<path fill=\"none\" stroke=\"black\" d=\"M403.5,-160.87C403.5,-152.89 403.5,-143.93 403.5,-135.38\"/>\n<polygon fill=\"black\" stroke=\"black\" points=\"407,-135.25 403.5,-125.25 400,-135.25 407,-135.25\"/>\n</g>\n<!-- 7582 -->\n<g id=\"node13\" class=\"node\">\n<title>7582</title>\n<polygon fill=\"#edf6fd\" stroke=\"black\" points=\"642,-125 495,-125 495,-72 642,-72 642,-125\"/>\n<text text-anchor=\"middle\" x=\"568.5\" y=\"-109.8\" font-family=\"Helvetica,sans-Serif\" font-size=\"14.00\">porno &lt;= 0.5</text>\n<text text-anchor=\"middle\" x=\"568.5\" y=\"-94.8\" font-family=\"Helvetica,sans-Serif\" font-size=\"14.00\">samples = 1.0%</text>\n<text text-anchor=\"middle\" x=\"568.5\" y=\"-79.8\" font-family=\"Helvetica,sans-Serif\" font-size=\"14.00\">value = [0.476, 0.524]</text>\n</g>\n<!-- 7448&#45;&gt;7582 -->\n<g id=\"edge12\" class=\"edge\">\n<title>7448&#45;&gt;7582</title>\n<path fill=\"none\" stroke=\"black\" d=\"M452.11,-160.87C470.58,-151.13 491.78,-139.95 510.99,-129.82\"/>\n<polygon fill=\"black\" stroke=\"black\" points=\"512.74,-132.86 519.95,-125.1 509.47,-126.67 512.74,-132.86\"/>\n</g>\n<!-- 7450 -->\n<g id=\"node11\" class=\"node\">\n<title>7450</title>\n<polygon fill=\"#c0c0c0\" stroke=\"black\" points=\"413.5,-36 359.5,-36 359.5,0 413.5,0 413.5,-36\"/>\n<text text-anchor=\"middle\" x=\"386.5\" y=\"-14.3\" font-family=\"Helvetica,sans-Serif\" font-size=\"14.00\">(...)</text>\n</g>\n<!-- 7449&#45;&gt;7450 -->\n<g id=\"edge10\" class=\"edge\">\n<title>7449&#45;&gt;7450</title>\n<path fill=\"none\" stroke=\"black\" d=\"M397.93,-71.8C396.16,-63.62 394.2,-54.55 392.41,-46.27\"/>\n<polygon fill=\"black\" stroke=\"black\" points=\"395.79,-45.36 390.25,-36.33 388.95,-46.84 395.79,-45.36\"/>\n</g>\n<!-- 7581 -->\n<g id=\"node12\" class=\"node\">\n<title>7581</title>\n<polygon fill=\"#c0c0c0\" stroke=\"black\" points=\"485.5,-36 431.5,-36 431.5,0 485.5,0 485.5,-36\"/>\n<text text-anchor=\"middle\" x=\"458.5\" y=\"-14.3\" font-family=\"Helvetica,sans-Serif\" font-size=\"14.00\">(...)</text>\n</g>\n<!-- 7449&#45;&gt;7581 -->\n<g id=\"edge11\" class=\"edge\">\n<title>7449&#45;&gt;7581</title>\n<path fill=\"none\" stroke=\"black\" d=\"M421.51,-71.8C427.62,-63.08 434.44,-53.34 440.54,-44.63\"/>\n<polygon fill=\"black\" stroke=\"black\" points=\"443.49,-46.53 446.36,-36.33 437.75,-42.51 443.49,-46.53\"/>\n</g>\n<!-- 7583 -->\n<g id=\"node14\" class=\"node\">\n<title>7583</title>\n<polygon fill=\"#c0c0c0\" stroke=\"black\" points=\"576.5,-36 522.5,-36 522.5,0 576.5,0 576.5,-36\"/>\n<text text-anchor=\"middle\" x=\"549.5\" y=\"-14.3\" font-family=\"Helvetica,sans-Serif\" font-size=\"14.00\">(...)</text>\n</g>\n<!-- 7582&#45;&gt;7583 -->\n<g id=\"edge13\" class=\"edge\">\n<title>7582&#45;&gt;7583</title>\n<path fill=\"none\" stroke=\"black\" d=\"M562.28,-71.8C560.3,-63.62 558.11,-54.55 556.1,-46.27\"/>\n<polygon fill=\"black\" stroke=\"black\" points=\"559.45,-45.23 553.69,-36.33 552.65,-46.87 559.45,-45.23\"/>\n</g>\n<!-- 7686 -->\n<g id=\"node15\" class=\"node\">\n<title>7686</title>\n<polygon fill=\"#c0c0c0\" stroke=\"black\" points=\"648.5,-36 594.5,-36 594.5,0 648.5,0 648.5,-36\"/>\n<text text-anchor=\"middle\" x=\"621.5\" y=\"-14.3\" font-family=\"Helvetica,sans-Serif\" font-size=\"14.00\">(...)</text>\n</g>\n<!-- 7582&#45;&gt;7686 -->\n<g id=\"edge14\" class=\"edge\">\n<title>7582&#45;&gt;7686</title>\n<path fill=\"none\" stroke=\"black\" d=\"M585.85,-71.8C591.74,-63.08 598.31,-53.34 604.2,-44.63\"/>\n<polygon fill=\"black\" stroke=\"black\" points=\"607.1,-46.58 609.8,-36.33 601.3,-42.66 607.1,-46.58\"/>\n</g>\n</g>\n</svg>\n",
            "text/plain": [
              "<graphviz.sources.Source at 0x7e360beba920>"
            ]
          },
          "metadata": {}
        },
        {
          "output_type": "display_data",
          "data": {
            "image/svg+xml": "<?xml version=\"1.0\" encoding=\"UTF-8\" standalone=\"no\"?>\n<!DOCTYPE svg PUBLIC \"-//W3C//DTD SVG 1.1//EN\"\n \"http://www.w3.org/Graphics/SVG/1.1/DTD/svg11.dtd\">\n<!-- Generated by graphviz version 2.43.0 (0)\n -->\n<!-- Title: Tree Pages: 1 -->\n<svg width=\"634pt\" height=\"311pt\"\n viewBox=\"0.00 0.00 633.50 311.00\" xmlns=\"http://www.w3.org/2000/svg\" xmlns:xlink=\"http://www.w3.org/1999/xlink\">\n<g id=\"graph0\" class=\"graph\" transform=\"scale(1 1) rotate(0) translate(4 307)\">\n<title>Tree</title>\n<polygon fill=\"white\" stroke=\"transparent\" points=\"-4,4 -4,-307 629.5,-307 629.5,4 -4,4\"/>\n<!-- 0 -->\n<g id=\"node1\" class=\"node\">\n<title>0</title>\n<polygon fill=\"#fffefd\" stroke=\"black\" points=\"383,-303 236,-303 236,-250 383,-250 383,-303\"/>\n<text text-anchor=\"middle\" x=\"309.5\" y=\"-287.8\" font-family=\"Helvetica,sans-Serif\" font-size=\"14.00\">nothing &lt;= 0.5</text>\n<text text-anchor=\"middle\" x=\"309.5\" y=\"-272.8\" font-family=\"Helvetica,sans-Serif\" font-size=\"14.00\">samples = 100.0%</text>\n<text text-anchor=\"middle\" x=\"309.5\" y=\"-257.8\" font-family=\"Helvetica,sans-Serif\" font-size=\"14.00\">value = [0.502, 0.498]</text>\n</g>\n<!-- 1 -->\n<g id=\"node2\" class=\"node\">\n<title>1</title>\n<polygon fill=\"#edf6fd\" stroke=\"black\" points=\"301,-214 154,-214 154,-161 301,-161 301,-214\"/>\n<text text-anchor=\"middle\" x=\"227.5\" y=\"-198.8\" font-family=\"Helvetica,sans-Serif\" font-size=\"14.00\">wasted &lt;= 0.5</text>\n<text text-anchor=\"middle\" x=\"227.5\" y=\"-183.8\" font-family=\"Helvetica,sans-Serif\" font-size=\"14.00\">samples = 86.2%</text>\n<text text-anchor=\"middle\" x=\"227.5\" y=\"-168.8\" font-family=\"Helvetica,sans-Serif\" font-size=\"14.00\">value = [0.476, 0.524]</text>\n</g>\n<!-- 0&#45;&gt;1 -->\n<g id=\"edge1\" class=\"edge\">\n<title>0&#45;&gt;1</title>\n<path fill=\"none\" stroke=\"black\" d=\"M285.34,-249.87C276.99,-241.01 267.51,-230.95 258.68,-221.58\"/>\n<polygon fill=\"black\" stroke=\"black\" points=\"261.18,-219.13 251.77,-214.25 256.08,-223.93 261.18,-219.13\"/>\n<text text-anchor=\"middle\" x=\"251.03\" y=\"-235.54\" font-family=\"Helvetica,sans-Serif\" font-size=\"14.00\">True</text>\n</g>\n<!-- 6754 -->\n<g id=\"node9\" class=\"node\">\n<title>6754</title>\n<polygon fill=\"#f1bd98\" stroke=\"black\" points=\"466,-214 319,-214 319,-161 466,-161 466,-214\"/>\n<text text-anchor=\"middle\" x=\"392.5\" y=\"-198.8\" font-family=\"Helvetica,sans-Serif\" font-size=\"14.00\">michelle &lt;= 0.5</text>\n<text text-anchor=\"middle\" x=\"392.5\" y=\"-183.8\" font-family=\"Helvetica,sans-Serif\" font-size=\"14.00\">samples = 13.8%</text>\n<text text-anchor=\"middle\" x=\"392.5\" y=\"-168.8\" font-family=\"Helvetica,sans-Serif\" font-size=\"14.00\">value = [0.676, 0.324]</text>\n</g>\n<!-- 0&#45;&gt;6754 -->\n<g id=\"edge8\" class=\"edge\">\n<title>0&#45;&gt;6754</title>\n<path fill=\"none\" stroke=\"black\" d=\"M333.95,-249.87C342.41,-241.01 352,-230.95 360.94,-221.58\"/>\n<polygon fill=\"black\" stroke=\"black\" points=\"363.56,-223.9 367.93,-214.25 358.5,-219.07 363.56,-223.9\"/>\n<text text-anchor=\"middle\" x=\"368.52\" y=\"-235.54\" font-family=\"Helvetica,sans-Serif\" font-size=\"14.00\">False</text>\n</g>\n<!-- 2 -->\n<g id=\"node3\" class=\"node\">\n<title>2</title>\n<polygon fill=\"#e7f3fc\" stroke=\"black\" points=\"147,-125 0,-125 0,-72 147,-72 147,-125\"/>\n<text text-anchor=\"middle\" x=\"73.5\" y=\"-109.8\" font-family=\"Helvetica,sans-Serif\" font-size=\"14.00\">plot &lt;= 0.5</text>\n<text text-anchor=\"middle\" x=\"73.5\" y=\"-94.8\" font-family=\"Helvetica,sans-Serif\" font-size=\"14.00\">samples = 84.4%</text>\n<text text-anchor=\"middle\" x=\"73.5\" y=\"-79.8\" font-family=\"Helvetica,sans-Serif\" font-size=\"14.00\">value = [0.468, 0.532]</text>\n</g>\n<!-- 1&#45;&gt;2 -->\n<g id=\"edge2\" class=\"edge\">\n<title>1&#45;&gt;2</title>\n<path fill=\"none\" stroke=\"black\" d=\"M182.13,-160.87C165.13,-151.26 145.64,-140.25 127.91,-130.24\"/>\n<polygon fill=\"black\" stroke=\"black\" points=\"129.24,-126.97 118.81,-125.1 125.8,-133.07 129.24,-126.97\"/>\n</g>\n<!-- 6641 -->\n<g id=\"node6\" class=\"node\">\n<title>6641</title>\n<polygon fill=\"#ea995f\" stroke=\"black\" points=\"297.5,-125 165.5,-125 165.5,-72 297.5,-72 297.5,-125\"/>\n<text text-anchor=\"middle\" x=\"231.5\" y=\"-109.8\" font-family=\"Helvetica,sans-Serif\" font-size=\"14.00\">ride &lt;= 0.5</text>\n<text text-anchor=\"middle\" x=\"231.5\" y=\"-94.8\" font-family=\"Helvetica,sans-Serif\" font-size=\"14.00\">samples = 1.8%</text>\n<text text-anchor=\"middle\" x=\"231.5\" y=\"-79.8\" font-family=\"Helvetica,sans-Serif\" font-size=\"14.00\">value = [0.84, 0.16]</text>\n</g>\n<!-- 1&#45;&gt;6641 -->\n<g id=\"edge5\" class=\"edge\">\n<title>1&#45;&gt;6641</title>\n<path fill=\"none\" stroke=\"black\" d=\"M228.68,-160.87C229.05,-152.89 229.46,-143.93 229.85,-135.38\"/>\n<polygon fill=\"black\" stroke=\"black\" points=\"233.35,-135.4 230.32,-125.25 226.36,-135.08 233.35,-135.4\"/>\n</g>\n<!-- 3 -->\n<g id=\"node4\" class=\"node\">\n<title>3</title>\n<polygon fill=\"#c0c0c0\" stroke=\"black\" points=\"81.5,-36 27.5,-36 27.5,0 81.5,0 81.5,-36\"/>\n<text text-anchor=\"middle\" x=\"54.5\" y=\"-14.3\" font-family=\"Helvetica,sans-Serif\" font-size=\"14.00\">(...)</text>\n</g>\n<!-- 2&#45;&gt;3 -->\n<g id=\"edge3\" class=\"edge\">\n<title>2&#45;&gt;3</title>\n<path fill=\"none\" stroke=\"black\" d=\"M67.28,-71.8C65.3,-63.62 63.11,-54.55 61.1,-46.27\"/>\n<polygon fill=\"black\" stroke=\"black\" points=\"64.45,-45.23 58.69,-36.33 57.65,-46.87 64.45,-45.23\"/>\n</g>\n<!-- 5402 -->\n<g id=\"node5\" class=\"node\">\n<title>5402</title>\n<polygon fill=\"#c0c0c0\" stroke=\"black\" points=\"153.5,-36 99.5,-36 99.5,0 153.5,0 153.5,-36\"/>\n<text text-anchor=\"middle\" x=\"126.5\" y=\"-14.3\" font-family=\"Helvetica,sans-Serif\" font-size=\"14.00\">(...)</text>\n</g>\n<!-- 2&#45;&gt;5402 -->\n<g id=\"edge4\" class=\"edge\">\n<title>2&#45;&gt;5402</title>\n<path fill=\"none\" stroke=\"black\" d=\"M90.85,-71.8C96.74,-63.08 103.31,-53.34 109.2,-44.63\"/>\n<polygon fill=\"black\" stroke=\"black\" points=\"112.1,-46.58 114.8,-36.33 106.3,-42.66 112.1,-46.58\"/>\n</g>\n<!-- 6642 -->\n<g id=\"node7\" class=\"node\">\n<title>6642</title>\n<polygon fill=\"#c0c0c0\" stroke=\"black\" points=\"241.5,-36 187.5,-36 187.5,0 241.5,0 241.5,-36\"/>\n<text text-anchor=\"middle\" x=\"214.5\" y=\"-14.3\" font-family=\"Helvetica,sans-Serif\" font-size=\"14.00\">(...)</text>\n</g>\n<!-- 6641&#45;&gt;6642 -->\n<g id=\"edge6\" class=\"edge\">\n<title>6641&#45;&gt;6642</title>\n<path fill=\"none\" stroke=\"black\" d=\"M225.93,-71.8C224.16,-63.62 222.2,-54.55 220.41,-46.27\"/>\n<polygon fill=\"black\" stroke=\"black\" points=\"223.79,-45.36 218.25,-36.33 216.95,-46.84 223.79,-45.36\"/>\n</g>\n<!-- 6753 -->\n<g id=\"node8\" class=\"node\">\n<title>6753</title>\n<polygon fill=\"#c0c0c0\" stroke=\"black\" points=\"313.5,-36 259.5,-36 259.5,0 313.5,0 313.5,-36\"/>\n<text text-anchor=\"middle\" x=\"286.5\" y=\"-14.3\" font-family=\"Helvetica,sans-Serif\" font-size=\"14.00\">(...)</text>\n</g>\n<!-- 6641&#45;&gt;6753 -->\n<g id=\"edge7\" class=\"edge\">\n<title>6641&#45;&gt;6753</title>\n<path fill=\"none\" stroke=\"black\" d=\"M249.51,-71.8C255.62,-63.08 262.44,-53.34 268.54,-44.63\"/>\n<polygon fill=\"black\" stroke=\"black\" points=\"271.49,-46.53 274.36,-36.33 265.75,-42.51 271.49,-46.53\"/>\n</g>\n<!-- 6755 -->\n<g id=\"node10\" class=\"node\">\n<title>6755</title>\n<polygon fill=\"#f1bc96\" stroke=\"black\" points=\"454.5,-125 322.5,-125 322.5,-72 454.5,-72 454.5,-125\"/>\n<text text-anchor=\"middle\" x=\"388.5\" y=\"-109.8\" font-family=\"Helvetica,sans-Serif\" font-size=\"14.00\">poorly &lt;= 0.5</text>\n<text text-anchor=\"middle\" x=\"388.5\" y=\"-94.8\" font-family=\"Helvetica,sans-Serif\" font-size=\"14.00\">samples = 13.7%</text>\n<text text-anchor=\"middle\" x=\"388.5\" y=\"-79.8\" font-family=\"Helvetica,sans-Serif\" font-size=\"14.00\">value = [0.68, 0.32]</text>\n</g>\n<!-- 6754&#45;&gt;6755 -->\n<g id=\"edge9\" class=\"edge\">\n<title>6754&#45;&gt;6755</title>\n<path fill=\"none\" stroke=\"black\" d=\"M391.32,-160.87C390.95,-152.89 390.54,-143.93 390.15,-135.38\"/>\n<polygon fill=\"black\" stroke=\"black\" points=\"393.64,-135.08 389.68,-125.25 386.65,-135.4 393.64,-135.08\"/>\n</g>\n<!-- 7744 -->\n<g id=\"node13\" class=\"node\">\n<title>7744</title>\n<polygon fill=\"#70b8ec\" stroke=\"black\" points=\"620,-125 473,-125 473,-72 620,-72 620,-125\"/>\n<text text-anchor=\"middle\" x=\"546.5\" y=\"-109.8\" font-family=\"Helvetica,sans-Serif\" font-size=\"14.00\">world &lt;= 0.5</text>\n<text text-anchor=\"middle\" x=\"546.5\" y=\"-94.8\" font-family=\"Helvetica,sans-Serif\" font-size=\"14.00\">samples = 0.1%</text>\n<text text-anchor=\"middle\" x=\"546.5\" y=\"-79.8\" font-family=\"Helvetica,sans-Serif\" font-size=\"14.00\">value = [0.217, 0.783]</text>\n</g>\n<!-- 6754&#45;&gt;7744 -->\n<g id=\"edge12\" class=\"edge\">\n<title>6754&#45;&gt;7744</title>\n<path fill=\"none\" stroke=\"black\" d=\"M437.87,-160.87C454.87,-151.26 474.36,-140.25 492.09,-130.24\"/>\n<polygon fill=\"black\" stroke=\"black\" points=\"494.2,-133.07 501.19,-125.1 490.76,-126.97 494.2,-133.07\"/>\n</g>\n<!-- 6756 -->\n<g id=\"node11\" class=\"node\">\n<title>6756</title>\n<polygon fill=\"#c0c0c0\" stroke=\"black\" points=\"396.5,-36 342.5,-36 342.5,0 396.5,0 396.5,-36\"/>\n<text text-anchor=\"middle\" x=\"369.5\" y=\"-14.3\" font-family=\"Helvetica,sans-Serif\" font-size=\"14.00\">(...)</text>\n</g>\n<!-- 6755&#45;&gt;6756 -->\n<g id=\"edge10\" class=\"edge\">\n<title>6755&#45;&gt;6756</title>\n<path fill=\"none\" stroke=\"black\" d=\"M382.28,-71.8C380.3,-63.62 378.11,-54.55 376.1,-46.27\"/>\n<polygon fill=\"black\" stroke=\"black\" points=\"379.45,-45.23 373.69,-36.33 372.65,-46.87 379.45,-45.23\"/>\n</g>\n<!-- 7741 -->\n<g id=\"node12\" class=\"node\">\n<title>7741</title>\n<polygon fill=\"#c0c0c0\" stroke=\"black\" points=\"468.5,-36 414.5,-36 414.5,0 468.5,0 468.5,-36\"/>\n<text text-anchor=\"middle\" x=\"441.5\" y=\"-14.3\" font-family=\"Helvetica,sans-Serif\" font-size=\"14.00\">(...)</text>\n</g>\n<!-- 6755&#45;&gt;7741 -->\n<g id=\"edge11\" class=\"edge\">\n<title>6755&#45;&gt;7741</title>\n<path fill=\"none\" stroke=\"black\" d=\"M405.85,-71.8C411.74,-63.08 418.31,-53.34 424.2,-44.63\"/>\n<polygon fill=\"black\" stroke=\"black\" points=\"427.1,-46.58 429.8,-36.33 421.3,-42.66 427.1,-46.58\"/>\n</g>\n<!-- 7745 -->\n<g id=\"node14\" class=\"node\">\n<title>7745</title>\n<polygon fill=\"#c0c0c0\" stroke=\"black\" points=\"553.5,-36 499.5,-36 499.5,0 553.5,0 553.5,-36\"/>\n<text text-anchor=\"middle\" x=\"526.5\" y=\"-14.3\" font-family=\"Helvetica,sans-Serif\" font-size=\"14.00\">(...)</text>\n</g>\n<!-- 7744&#45;&gt;7745 -->\n<g id=\"edge13\" class=\"edge\">\n<title>7744&#45;&gt;7745</title>\n<path fill=\"none\" stroke=\"black\" d=\"M539.95,-71.8C537.87,-63.62 535.56,-54.55 533.45,-46.27\"/>\n<polygon fill=\"black\" stroke=\"black\" points=\"536.78,-45.16 530.92,-36.33 529.99,-46.88 536.78,-45.16\"/>\n</g>\n<!-- 7748 -->\n<g id=\"node15\" class=\"node\">\n<title>7748</title>\n<polygon fill=\"#c0c0c0\" stroke=\"black\" points=\"625.5,-36 571.5,-36 571.5,0 625.5,0 625.5,-36\"/>\n<text text-anchor=\"middle\" x=\"598.5\" y=\"-14.3\" font-family=\"Helvetica,sans-Serif\" font-size=\"14.00\">(...)</text>\n</g>\n<!-- 7744&#45;&gt;7748 -->\n<g id=\"edge14\" class=\"edge\">\n<title>7744&#45;&gt;7748</title>\n<path fill=\"none\" stroke=\"black\" d=\"M563.53,-71.8C569.24,-63.17 575.62,-53.54 581.34,-44.9\"/>\n<polygon fill=\"black\" stroke=\"black\" points=\"584.42,-46.6 587.02,-36.33 578.58,-42.73 584.42,-46.6\"/>\n</g>\n</g>\n</svg>\n",
            "text/plain": [
              "<graphviz.sources.Source at 0x7e360beba470>"
            ]
          },
          "metadata": {}
        },
        {
          "output_type": "display_data",
          "data": {
            "image/svg+xml": "<?xml version=\"1.0\" encoding=\"UTF-8\" standalone=\"no\"?>\n<!DOCTYPE svg PUBLIC \"-//W3C//DTD SVG 1.1//EN\"\n \"http://www.w3.org/Graphics/SVG/1.1/DTD/svg11.dtd\">\n<!-- Generated by graphviz version 2.43.0 (0)\n -->\n<!-- Title: Tree Pages: 1 -->\n<svg width=\"620pt\" height=\"311pt\"\n viewBox=\"0.00 0.00 620.00 311.00\" xmlns=\"http://www.w3.org/2000/svg\" xmlns:xlink=\"http://www.w3.org/1999/xlink\">\n<g id=\"graph0\" class=\"graph\" transform=\"scale(1 1) rotate(0) translate(4 307)\">\n<title>Tree</title>\n<polygon fill=\"white\" stroke=\"transparent\" points=\"-4,4 -4,-307 616,-307 616,4 -4,4\"/>\n<!-- 0 -->\n<g id=\"node1\" class=\"node\">\n<title>0</title>\n<polygon fill=\"#fefcfb\" stroke=\"black\" points=\"394,-303 247,-303 247,-250 394,-250 394,-303\"/>\n<text text-anchor=\"middle\" x=\"320.5\" y=\"-287.8\" font-family=\"Helvetica,sans-Serif\" font-size=\"14.00\">crap &lt;= 0.5</text>\n<text text-anchor=\"middle\" x=\"320.5\" y=\"-272.8\" font-family=\"Helvetica,sans-Serif\" font-size=\"14.00\">samples = 100.0%</text>\n<text text-anchor=\"middle\" x=\"320.5\" y=\"-257.8\" font-family=\"Helvetica,sans-Serif\" font-size=\"14.00\">value = [0.505, 0.495]</text>\n</g>\n<!-- 1 -->\n<g id=\"node2\" class=\"node\">\n<title>1</title>\n<polygon fill=\"#f8fcfe\" stroke=\"black\" points=\"312,-214 165,-214 165,-161 312,-161 312,-214\"/>\n<text text-anchor=\"middle\" x=\"238.5\" y=\"-198.8\" font-family=\"Helvetica,sans-Serif\" font-size=\"14.00\">like &lt;= 0.5</text>\n<text text-anchor=\"middle\" x=\"238.5\" y=\"-183.8\" font-family=\"Helvetica,sans-Serif\" font-size=\"14.00\">samples = 96.4%</text>\n<text text-anchor=\"middle\" x=\"238.5\" y=\"-168.8\" font-family=\"Helvetica,sans-Serif\" font-size=\"14.00\">value = [0.492, 0.508]</text>\n</g>\n<!-- 0&#45;&gt;1 -->\n<g id=\"edge1\" class=\"edge\">\n<title>0&#45;&gt;1</title>\n<path fill=\"none\" stroke=\"black\" d=\"M296.34,-249.87C287.99,-241.01 278.51,-230.95 269.68,-221.58\"/>\n<polygon fill=\"black\" stroke=\"black\" points=\"272.18,-219.13 262.77,-214.25 267.08,-223.93 272.18,-219.13\"/>\n<text text-anchor=\"middle\" x=\"262.03\" y=\"-235.54\" font-family=\"Helvetica,sans-Serif\" font-size=\"14.00\">True</text>\n</g>\n<!-- 7532 -->\n<g id=\"node9\" class=\"node\">\n<title>7532</title>\n<polygon fill=\"#e99456\" stroke=\"black\" points=\"477,-214 330,-214 330,-161 477,-161 477,-214\"/>\n<text text-anchor=\"middle\" x=\"403.5\" y=\"-198.8\" font-family=\"Helvetica,sans-Serif\" font-size=\"14.00\">stylish &lt;= 0.5</text>\n<text text-anchor=\"middle\" x=\"403.5\" y=\"-183.8\" font-family=\"Helvetica,sans-Serif\" font-size=\"14.00\">samples = 3.6%</text>\n<text text-anchor=\"middle\" x=\"403.5\" y=\"-168.8\" font-family=\"Helvetica,sans-Serif\" font-size=\"14.00\">value = [0.871, 0.129]</text>\n</g>\n<!-- 0&#45;&gt;7532 -->\n<g id=\"edge8\" class=\"edge\">\n<title>0&#45;&gt;7532</title>\n<path fill=\"none\" stroke=\"black\" d=\"M344.95,-249.87C353.41,-241.01 363,-230.95 371.94,-221.58\"/>\n<polygon fill=\"black\" stroke=\"black\" points=\"374.56,-223.9 378.93,-214.25 369.5,-219.07 374.56,-223.9\"/>\n<text text-anchor=\"middle\" x=\"379.52\" y=\"-235.54\" font-family=\"Helvetica,sans-Serif\" font-size=\"14.00\">False</text>\n</g>\n<!-- 2 -->\n<g id=\"node3\" class=\"node\">\n<title>2</title>\n<polygon fill=\"#e0f0fb\" stroke=\"black\" points=\"147,-125 0,-125 0,-72 147,-72 147,-125\"/>\n<text text-anchor=\"middle\" x=\"73.5\" y=\"-109.8\" font-family=\"Helvetica,sans-Serif\" font-size=\"14.00\">dreadful &lt;= 0.5</text>\n<text text-anchor=\"middle\" x=\"73.5\" y=\"-94.8\" font-family=\"Helvetica,sans-Serif\" font-size=\"14.00\">samples = 51.8%</text>\n<text text-anchor=\"middle\" x=\"73.5\" y=\"-79.8\" font-family=\"Helvetica,sans-Serif\" font-size=\"14.00\">value = [0.457, 0.543]</text>\n</g>\n<!-- 1&#45;&gt;2 -->\n<g id=\"edge2\" class=\"edge\">\n<title>1&#45;&gt;2</title>\n<path fill=\"none\" stroke=\"black\" d=\"M189.89,-160.87C171.42,-151.13 150.22,-139.95 131.01,-129.82\"/>\n<polygon fill=\"black\" stroke=\"black\" points=\"132.53,-126.67 122.05,-125.1 129.26,-132.86 132.53,-126.67\"/>\n</g>\n<!-- 4097 -->\n<g id=\"node6\" class=\"node\">\n<title>4097</title>\n<polygon fill=\"#fcf0e7\" stroke=\"black\" points=\"312,-125 165,-125 165,-72 312,-72 312,-125\"/>\n<text text-anchor=\"middle\" x=\"238.5\" y=\"-109.8\" font-family=\"Helvetica,sans-Serif\" font-size=\"14.00\">relationship &lt;= 0.5</text>\n<text text-anchor=\"middle\" x=\"238.5\" y=\"-94.8\" font-family=\"Helvetica,sans-Serif\" font-size=\"14.00\">samples = 44.6%</text>\n<text text-anchor=\"middle\" x=\"238.5\" y=\"-79.8\" font-family=\"Helvetica,sans-Serif\" font-size=\"14.00\">value = [0.532, 0.468]</text>\n</g>\n<!-- 1&#45;&gt;4097 -->\n<g id=\"edge5\" class=\"edge\">\n<title>1&#45;&gt;4097</title>\n<path fill=\"none\" stroke=\"black\" d=\"M238.5,-160.87C238.5,-152.89 238.5,-143.93 238.5,-135.38\"/>\n<polygon fill=\"black\" stroke=\"black\" points=\"242,-135.25 238.5,-125.25 235,-135.25 242,-135.25\"/>\n</g>\n<!-- 3 -->\n<g id=\"node4\" class=\"node\">\n<title>3</title>\n<polygon fill=\"#c0c0c0\" stroke=\"black\" points=\"85.5,-36 31.5,-36 31.5,0 85.5,0 85.5,-36\"/>\n<text text-anchor=\"middle\" x=\"58.5\" y=\"-14.3\" font-family=\"Helvetica,sans-Serif\" font-size=\"14.00\">(...)</text>\n</g>\n<!-- 2&#45;&gt;3 -->\n<g id=\"edge3\" class=\"edge\">\n<title>2&#45;&gt;3</title>\n<path fill=\"none\" stroke=\"black\" d=\"M68.59,-71.8C67.03,-63.62 65.29,-54.55 63.71,-46.27\"/>\n<polygon fill=\"black\" stroke=\"black\" points=\"67.13,-45.5 61.81,-36.33 60.25,-46.81 67.13,-45.5\"/>\n</g>\n<!-- 4086 -->\n<g id=\"node5\" class=\"node\">\n<title>4086</title>\n<polygon fill=\"#c0c0c0\" stroke=\"black\" points=\"157.5,-36 103.5,-36 103.5,0 157.5,0 157.5,-36\"/>\n<text text-anchor=\"middle\" x=\"130.5\" y=\"-14.3\" font-family=\"Helvetica,sans-Serif\" font-size=\"14.00\">(...)</text>\n</g>\n<!-- 2&#45;&gt;4086 -->\n<g id=\"edge4\" class=\"edge\">\n<title>2&#45;&gt;4086</title>\n<path fill=\"none\" stroke=\"black\" d=\"M92.16,-71.8C98.5,-63.08 105.56,-53.34 111.89,-44.63\"/>\n<polygon fill=\"black\" stroke=\"black\" points=\"114.87,-46.48 117.92,-36.33 109.21,-42.37 114.87,-46.48\"/>\n</g>\n<!-- 4098 -->\n<g id=\"node7\" class=\"node\">\n<title>4098</title>\n<polygon fill=\"#c0c0c0\" stroke=\"black\" points=\"247.5,-36 193.5,-36 193.5,0 247.5,0 247.5,-36\"/>\n<text text-anchor=\"middle\" x=\"220.5\" y=\"-14.3\" font-family=\"Helvetica,sans-Serif\" font-size=\"14.00\">(...)</text>\n</g>\n<!-- 4097&#45;&gt;4098 -->\n<g id=\"edge6\" class=\"edge\">\n<title>4097&#45;&gt;4098</title>\n<path fill=\"none\" stroke=\"black\" d=\"M232.61,-71.8C230.73,-63.62 228.65,-54.55 226.75,-46.27\"/>\n<polygon fill=\"black\" stroke=\"black\" points=\"230.12,-45.3 224.47,-36.33 223.3,-46.86 230.12,-45.3\"/>\n</g>\n<!-- 7421 -->\n<g id=\"node8\" class=\"node\">\n<title>7421</title>\n<polygon fill=\"#c0c0c0\" stroke=\"black\" points=\"319.5,-36 265.5,-36 265.5,0 319.5,0 319.5,-36\"/>\n<text text-anchor=\"middle\" x=\"292.5\" y=\"-14.3\" font-family=\"Helvetica,sans-Serif\" font-size=\"14.00\">(...)</text>\n</g>\n<!-- 4097&#45;&gt;7421 -->\n<g id=\"edge7\" class=\"edge\">\n<title>4097&#45;&gt;7421</title>\n<path fill=\"none\" stroke=\"black\" d=\"M256.18,-71.8C262.18,-63.08 268.88,-53.34 274.87,-44.63\"/>\n<polygon fill=\"black\" stroke=\"black\" points=\"277.79,-46.55 280.58,-36.33 272.03,-42.59 277.79,-46.55\"/>\n</g>\n<!-- 7533 -->\n<g id=\"node10\" class=\"node\">\n<title>7533</title>\n<polygon fill=\"#e99355\" stroke=\"black\" points=\"477,-125 330,-125 330,-72 477,-72 477,-125\"/>\n<text text-anchor=\"middle\" x=\"403.5\" y=\"-109.8\" font-family=\"Helvetica,sans-Serif\" font-size=\"14.00\">include &lt;= 0.5</text>\n<text text-anchor=\"middle\" x=\"403.5\" y=\"-94.8\" font-family=\"Helvetica,sans-Serif\" font-size=\"14.00\">samples = 3.6%</text>\n<text text-anchor=\"middle\" x=\"403.5\" y=\"-79.8\" font-family=\"Helvetica,sans-Serif\" font-size=\"14.00\">value = [0.877, 0.123]</text>\n</g>\n<!-- 7532&#45;&gt;7533 -->\n<g id=\"edge9\" class=\"edge\">\n<title>7532&#45;&gt;7533</title>\n<path fill=\"none\" stroke=\"black\" d=\"M403.5,-160.87C403.5,-152.89 403.5,-143.93 403.5,-135.38\"/>\n<polygon fill=\"black\" stroke=\"black\" points=\"407,-135.25 403.5,-125.25 400,-135.25 407,-135.25\"/>\n</g>\n<!-- 7708 -->\n<g id=\"node13\" class=\"node\">\n<title>7708</title>\n<polygon fill=\"#399de5\" stroke=\"black\" points=\"612,-117.5 495,-117.5 495,-79.5 612,-79.5 612,-117.5\"/>\n<text text-anchor=\"middle\" x=\"553.5\" y=\"-102.3\" font-family=\"Helvetica,sans-Serif\" font-size=\"14.00\">samples = 0.0%</text>\n<text text-anchor=\"middle\" x=\"553.5\" y=\"-87.3\" font-family=\"Helvetica,sans-Serif\" font-size=\"14.00\">value = [0.0, 1.0]</text>\n</g>\n<!-- 7532&#45;&gt;7708 -->\n<g id=\"edge12\" class=\"edge\">\n<title>7532&#45;&gt;7708</title>\n<path fill=\"none\" stroke=\"black\" d=\"M447.69,-160.87C468.62,-148.73 493.42,-134.35 513.75,-122.55\"/>\n<polygon fill=\"black\" stroke=\"black\" points=\"515.56,-125.55 522.45,-117.51 512.05,-119.5 515.56,-125.55\"/>\n</g>\n<!-- 7534 -->\n<g id=\"node11\" class=\"node\">\n<title>7534</title>\n<polygon fill=\"#c0c0c0\" stroke=\"black\" points=\"410.5,-36 356.5,-36 356.5,0 410.5,0 410.5,-36\"/>\n<text text-anchor=\"middle\" x=\"383.5\" y=\"-14.3\" font-family=\"Helvetica,sans-Serif\" font-size=\"14.00\">(...)</text>\n</g>\n<!-- 7533&#45;&gt;7534 -->\n<g id=\"edge10\" class=\"edge\">\n<title>7533&#45;&gt;7534</title>\n<path fill=\"none\" stroke=\"black\" d=\"M396.95,-71.8C394.87,-63.62 392.56,-54.55 390.45,-46.27\"/>\n<polygon fill=\"black\" stroke=\"black\" points=\"393.78,-45.16 387.92,-36.33 386.99,-46.88 393.78,-45.16\"/>\n</g>\n<!-- 7703 -->\n<g id=\"node12\" class=\"node\">\n<title>7703</title>\n<polygon fill=\"#c0c0c0\" stroke=\"black\" points=\"482.5,-36 428.5,-36 428.5,0 482.5,0 482.5,-36\"/>\n<text text-anchor=\"middle\" x=\"455.5\" y=\"-14.3\" font-family=\"Helvetica,sans-Serif\" font-size=\"14.00\">(...)</text>\n</g>\n<!-- 7533&#45;&gt;7703 -->\n<g id=\"edge11\" class=\"edge\">\n<title>7533&#45;&gt;7703</title>\n<path fill=\"none\" stroke=\"black\" d=\"M420.53,-71.8C426.24,-63.17 432.62,-53.54 438.34,-44.9\"/>\n<polygon fill=\"black\" stroke=\"black\" points=\"441.42,-46.6 444.02,-36.33 435.58,-42.73 441.42,-46.6\"/>\n</g>\n</g>\n</svg>\n",
            "text/plain": [
              "<graphviz.sources.Source at 0x7e360beba920>"
            ]
          },
          "metadata": {}
        }
      ],
      "source": [
        " # visualize decision tree from classifier\n",
        "for i in range(10):\n",
        "    tree = model.estimators_[i]\n",
        "    dot_data = export_graphviz(tree,\n",
        "                               feature_names=vocab,\n",
        "                               filled=True,\n",
        "                               max_depth=2,\n",
        "                               impurity=False,\n",
        "                               proportion=True)\n",
        "    graph = graphviz.Source(dot_data)\n",
        "    display(graph)"
      ]
    },
    {
      "cell_type": "code",
      "execution_count": null,
      "metadata": {
        "jupyter": {
          "outputs_hidden": true
        },
        "scrolled": true,
        "colab": {
          "base_uri": "https://localhost:8080/"
        },
        "id": "BxrlXWDpsunX",
        "outputId": "ce1ba985-abff-413c-aee5-e9ea03449be2"
      },
      "outputs": [
        {
          "output_type": "stream",
          "name": "stdout",
          "text": [
            "1\n",
            "[0 0 0 ... 0 0 0]\n",
            "texas seven friends meet bar celebrate halloween night going party meanwhile call american nightmare pirate radio fun confess innermost fears serial killer listening confessions makes nightmares come true killing one sadistic way american nightmare weird low budget movie horrible beginning without previous explanation woman kills two couples isolated camping area friday th story shifts bar seven friends celebrating halloween moment story great potential unknown cast reasonable performance showing also beautiful breasts naked bodies usual type c production however end screenplay provide explanation killing instinct motives behavior nurse jane toppan giving sensation budget ended finalization shooting better beginning conclusion weird story would good low budget slasher movie vote four title brazil agonia agony\n",
            "<class 'pandas.core.series.Series'>\n",
            "0\n"
          ]
        }
      ],
      "source": [
        "print(preds_rf[0]) #first prediction for test item - model predicted positive sentiment\n",
        "print(test_feat[0]) #first test review\n",
        "print(clean_test_reviews[0])\n",
        "print(type(y_test))\n",
        "print(y_test.iloc[0])"
      ]
    },
    {
      "cell_type": "code",
      "source": [
        "# Are bigrams better or worse features compared to Bag of Words? Make a prediction.\n",
        "# https://www.pythonprogramming.in/use-sklearn-countvectorize-vocabulary-specification-with-bigrams.html\n",
        "# your code here\n",
        "# Is the performance better or worse?\n",
        "# Why do you think that is?\n",
        "\n",
        "# Initialize a bag of words for bigrams\n",
        "bigram_vectorizer = CountVectorizer(analyzer = \"word\",\n",
        "                             tokenizer = None,\n",
        "                             preprocessor = None,\n",
        "                             stop_words = None,\n",
        "                             max_features = 5000,\n",
        "                             ngram_range=(2,2)) #vocabulary size defined here, sorted by frequency - e.g., 5k most common terms.  How does model performance change if you increase/decrease this value?\n",
        "\n",
        "# Join the tokenized words back into strings\n",
        "clean_train_bigram_reviews = [' '.join(tokens) for tokens in clean_train_bigram_reviews]\n",
        "clean_test_bigram_reviews = [' '.join(tokens) for tokens in clean_test_bigram_reviews]\n",
        "\n",
        "# Fit transform the data\n",
        "train_bigram_feat = bigram_vectorizer.fit_transform(clean_train_bigram_reviews).toarray()\n",
        "test_bigram_feat = bigram_vectorizer.transform(clean_test_bigram_reviews).toarray()\n",
        "\n",
        "preds_rf_bigram, model_bigram = get_preds(test_bigram_feat, train_bigram_feat,\n",
        "                  y_test, y_train,\n",
        "                  RandomForestClassifier(n_estimators = 100), title='Random Forest with Bigrams')\n",
        "\n",
        "\n",
        "# Is the performance better or worse?\n",
        "# In my experiment, the performance with bigrams was slightly worse than with single words.\n",
        "\n",
        "# Why do you think that is?\n",
        "# Bigrams capture more context than single words, but they also lead to a much larger and sparser feature space.\n",
        "# This can make it harder for the model to learn meaningful patterns, especially with a limited amount of training data.\n",
        "# Additionally, some bigrams might be very infrequent and not contribute much to the prediction.\n"
      ],
      "metadata": {
        "id": "gdGOvSjIygfP",
        "colab": {
          "base_uri": "https://localhost:8080/"
        },
        "outputId": "93455422-2bf7-4df9-a130-171526995562"
      },
      "execution_count": null,
      "outputs": [
        {
          "output_type": "stream",
          "name": "stdout",
          "text": [
            "Training model, this may take some time...\n",
            "Evaluating model...\n",
            "Accuracy: 0.8446\n"
          ]
        }
      ]
    },
    {
      "cell_type": "markdown",
      "metadata": {
        "id": "b2na08k6sunX"
      },
      "source": [
        "# Part II: Multilayer Perceptron"
      ]
    },
    {
      "cell_type": "code",
      "execution_count": null,
      "metadata": {
        "collapsed": true,
        "jupyter": {
          "outputs_hidden": true
        },
        "colab": {
          "base_uri": "https://localhost:8080/"
        },
        "id": "5OQL45AosunX",
        "outputId": "7cfd80d6-ae0f-4b2f-8549-2846b8d9b2fc"
      },
      "outputs": [
        {
          "output_type": "stream",
          "name": "stdout",
          "text": [
            "Training MLP classifier... this may take some time\n",
            "Iteration 1, loss = 0.37733727\n",
            "Iteration 2, loss = 0.22472266\n",
            "Iteration 3, loss = 0.18211913\n",
            "Iteration 4, loss = 0.15289175\n",
            "Iteration 5, loss = 0.12727419\n",
            "Iteration 6, loss = 0.10200622\n",
            "Iteration 7, loss = 0.08040297\n",
            "Iteration 8, loss = 0.06292608\n",
            "Iteration 9, loss = 0.04735772\n",
            "Iteration 10, loss = 0.03409465\n",
            "Iteration 11, loss = 0.02500216\n",
            "Iteration 12, loss = 0.01804296\n",
            "Iteration 13, loss = 0.01336113\n",
            "Iteration 14, loss = 0.01071679\n",
            "Iteration 15, loss = 0.00899150\n",
            "Iteration 16, loss = 0.00711512\n",
            "Iteration 17, loss = 0.00591232\n",
            "Iteration 18, loss = 0.00505081\n",
            "Iteration 19, loss = 0.00432717\n",
            "Iteration 20, loss = 0.00377775\n",
            "Iteration 21, loss = 0.00333354\n",
            "Iteration 22, loss = 0.00294523\n",
            "Iteration 23, loss = 0.00261476\n",
            "Iteration 24, loss = 0.00236430\n",
            "Iteration 25, loss = 0.00214439\n",
            "Iteration 26, loss = 0.00195445\n",
            "Iteration 27, loss = 0.00179375\n",
            "Iteration 28, loss = 0.00165698\n",
            "Iteration 29, loss = 0.00153799\n",
            "Iteration 30, loss = 0.00143511\n",
            "Iteration 31, loss = 0.00134052\n",
            "Iteration 32, loss = 0.00125846\n",
            "Iteration 33, loss = 0.00118778\n",
            "Iteration 34, loss = 0.00112187\n",
            "Iteration 35, loss = 0.00106801\n",
            "Iteration 36, loss = 0.00101513\n",
            "Iteration 37, loss = 0.00096962\n",
            "Iteration 38, loss = 0.00092765\n",
            "Iteration 39, loss = 0.00089106\n",
            "Iteration 40, loss = 0.00085735\n",
            "Iteration 41, loss = 0.00082747\n",
            "Training loss did not improve more than tol=0.000100 for 10 consecutive epochs. Stopping.\n",
            "Done!\n"
          ]
        }
      ],
      "source": [
        "# https://scikit-learn.org/stable/modules/generated/sklearn.neural_network.MLPClassifier.html\n",
        "print(\"Training MLP classifier... this may take some time\")\n",
        "mlp_clf = MLPClassifier(hidden_layer_sizes=(100,),random_state=1, max_iter=300, verbose=True).fit(train_feat, y_train)\n",
        "print(\"Done!\")"
      ]
    },
    {
      "cell_type": "code",
      "execution_count": null,
      "metadata": {
        "colab": {
          "base_uri": "https://localhost:8080/"
        },
        "id": "5M0-TqmcsunX",
        "outputId": "ce71f630-9bd4-48f1-8741-f1cfc19c8d9e"
      },
      "outputs": [
        {
          "output_type": "stream",
          "name": "stdout",
          "text": [
            "Accuracy: 0.8596\n"
          ]
        }
      ],
      "source": [
        "accuracy = mlp_clf.score(test_feat, y_test)\n",
        "print(\"Accuracy: {}\".format(accuracy))"
      ]
    },
    {
      "cell_type": "code",
      "execution_count": null,
      "metadata": {
        "collapsed": true,
        "jupyter": {
          "outputs_hidden": true
        },
        "scrolled": true,
        "colab": {
          "base_uri": "https://localhost:8080/"
        },
        "id": "9gA4BlOjsunX",
        "outputId": "08d82b79-5761-4601-beb7-fa2066fa0d6c"
      },
      "outputs": [
        {
          "output_type": "execute_result",
          "data": {
            "text/plain": [
              "{'activation': 'relu',\n",
              " 'alpha': 0.0001,\n",
              " 'batch_size': 'auto',\n",
              " 'beta_1': 0.9,\n",
              " 'beta_2': 0.999,\n",
              " 'early_stopping': False,\n",
              " 'epsilon': 1e-08,\n",
              " 'hidden_layer_sizes': (100,),\n",
              " 'learning_rate': 'constant',\n",
              " 'learning_rate_init': 0.001,\n",
              " 'max_fun': 15000,\n",
              " 'max_iter': 300,\n",
              " 'momentum': 0.9,\n",
              " 'n_iter_no_change': 10,\n",
              " 'nesterovs_momentum': True,\n",
              " 'power_t': 0.5,\n",
              " 'random_state': 1,\n",
              " 'shuffle': True,\n",
              " 'solver': 'adam',\n",
              " 'tol': 0.0001,\n",
              " 'validation_fraction': 0.1,\n",
              " 'verbose': True,\n",
              " 'warm_start': False}"
            ]
          },
          "metadata": {},
          "execution_count": 21
        }
      ],
      "source": [
        "mlp_clf.get_params()"
      ]
    },
    {
      "cell_type": "code",
      "execution_count": null,
      "metadata": {
        "colab": {
          "base_uri": "https://localhost:8080/"
        },
        "id": "pV416f0asunX",
        "outputId": "1b4d07cb-1fdc-4260-e892-bcf6db5a61a0"
      },
      "outputs": [
        {
          "output_type": "stream",
          "name": "stdout",
          "text": [
            "Training deeper MLP classifier... this may take some time\n",
            "Iteration 1, loss = 0.35325387\n",
            "Iteration 2, loss = 0.12929845\n",
            "Iteration 3, loss = 0.02355915\n",
            "Iteration 4, loss = 0.01037890\n",
            "Iteration 5, loss = 0.00514010\n",
            "Iteration 6, loss = 0.01402658\n",
            "Iteration 7, loss = 0.01379814\n",
            "Iteration 8, loss = 0.00423887\n",
            "Iteration 9, loss = 0.00307287\n",
            "Iteration 10, loss = 0.00326334\n",
            "Iteration 11, loss = 0.00410078\n",
            "Iteration 12, loss = 0.00643897\n",
            "Iteration 13, loss = 0.00581642\n",
            "Iteration 14, loss = 0.00281204\n",
            "Iteration 15, loss = 0.00156688\n",
            "Iteration 16, loss = 0.00094355\n",
            "Iteration 17, loss = 0.00085775\n",
            "Iteration 18, loss = 0.00084179\n",
            "Iteration 19, loss = 0.00083649\n",
            "Iteration 20, loss = 0.00083202\n",
            "Iteration 21, loss = 0.00082792\n",
            "Iteration 22, loss = 0.00082404\n",
            "Iteration 23, loss = 0.00082025\n",
            "Iteration 24, loss = 0.00081652\n",
            "Iteration 25, loss = 0.00081280\n",
            "Iteration 26, loss = 0.00080906\n",
            "Iteration 27, loss = 0.00080530\n",
            "Training loss did not improve more than tol=0.000100 for 10 consecutive epochs. Stopping.\n",
            "Done!\n"
          ]
        }
      ],
      "source": [
        "# https://scikit-learn.org/stable/modules/generated/sklearn.neural_network.MLPClassifier.html\n",
        "print(\"Training deeper MLP classifier... this may take some time\")\n",
        "mlp_clf_deeper = MLPClassifier(hidden_layer_sizes=(500,250,500,),random_state=1, max_iter=300, verbose=True).fit(train_feat, y_train)\n",
        "print(\"Done!\")"
      ]
    },
    {
      "cell_type": "code",
      "execution_count": null,
      "metadata": {
        "colab": {
          "base_uri": "https://localhost:8080/"
        },
        "id": "_cXEJnIJsunY",
        "outputId": "ac68ec7a-e642-452a-bca4-815d17fd94de"
      },
      "outputs": [
        {
          "output_type": "stream",
          "name": "stdout",
          "text": [
            "Accuracy: 0.865\n"
          ]
        }
      ],
      "source": [
        "accuracy = mlp_clf_deeper.score(test_feat, y_test)\n",
        "print(\"Accuracy: {}\".format(accuracy))"
      ]
    },
    {
      "cell_type": "code",
      "execution_count": null,
      "metadata": {
        "id": "PE2E0mZzsunY"
      },
      "outputs": [],
      "source": [
        "# Bias Variance tradeoff in ML theory holds that system error is a combination of bias, variance, and irreducible error\n",
        "# According to this theory, reducing bias increase variance, which can lead to poor generalization.\n",
        "# On the other hand, reducing variance increases bias, which can lead to poor model fit to training data.\n",
        "# A number of techniques are used to balance bias and variance, including increasing/decreasing number of parameters, randomly ignoring parts of the parameter space during training, and others.\n"
      ]
    },
    {
      "cell_type": "markdown",
      "source": [],
      "metadata": {
        "id": "cng6aTgqm5Xb"
      }
    },
    {
      "cell_type": "markdown",
      "source": [
        "##AFTER TUNING"
      ],
      "metadata": {
        "id": "182vnZePnG1V"
      }
    },
    {
      "cell_type": "code",
      "source": [
        "from sklearn.neural_network import MLPClassifier\n",
        "\n",
        "mlp = MLPClassifier(\n",
        "    activation='logistic',  # Sigmoid activation function\n",
        "    alpha=0.0005,          # L2 regularization parameter\n",
        "    hidden_layer_sizes=(300,),  # Single hidden layer with 300 neurons\n",
        "    learning_rate='adaptive',  # Adaptive learning rate\n",
        "    learning_rate_init=0.0005,  # Initial learning rate\n",
        "    solver='adam',  # Adam solver\n",
        "    beta_1=0.9,  # Adam beta1 parameter\n",
        "    beta_2=0.999,  # Adam beta2 parameter\n",
        "    epsilon=1e-08,  # Adam epsilon parameter\n",
        "    max_iter=500,  # Maximum number of iterations\n",
        "    early_stopping=True,  # Enable early stopping\n",
        "    validation_fraction=0.1,  # Fraction of training data used for validation\n",
        "    n_iter_no_change=10,  # Number of iterations without improvement before early stopping\n",
        "    random_state=1,    # Random state for reproducibility\n",
        "    verbose=True  # Enable verbose output\n",
        ")\n",
        "\n",
        "# Fit the model on the training data\n",
        "mlp.fit(train_feat, y_train)\n",
        "\n",
        "# Evaluate the model on the test set\n",
        "accuracy = mlp.score(test_feat, y_test)\n",
        "print(\"Revised MLP model accuracy on test set: {:.4f}\".format(accuracy))\n"
      ],
      "metadata": {
        "colab": {
          "base_uri": "https://localhost:8080/"
        },
        "id": "qBAFluCOXsyv",
        "outputId": "74f95e49-cca6-4310-f2f2-e496c09d109c"
      },
      "execution_count": null,
      "outputs": [
        {
          "output_type": "stream",
          "name": "stdout",
          "text": [
            "Iteration 1, loss = 0.53188072\n",
            "Validation score: 0.856500\n",
            "Iteration 2, loss = 0.33881505\n",
            "Validation score: 0.871000\n",
            "Iteration 3, loss = 0.26384345\n",
            "Validation score: 0.879000\n",
            "Iteration 4, loss = 0.22654742\n",
            "Validation score: 0.881000\n",
            "Iteration 5, loss = 0.20229838\n",
            "Validation score: 0.877500\n",
            "Iteration 6, loss = 0.18509563\n",
            "Validation score: 0.873500\n",
            "Iteration 7, loss = 0.17076163\n",
            "Validation score: 0.877000\n",
            "Iteration 8, loss = 0.16015215\n",
            "Validation score: 0.875500\n",
            "Iteration 9, loss = 0.15097017\n",
            "Validation score: 0.871500\n",
            "Iteration 10, loss = 0.14320824\n",
            "Validation score: 0.869500\n",
            "Iteration 11, loss = 0.13597346\n",
            "Validation score: 0.869000\n",
            "Iteration 12, loss = 0.12972504\n",
            "Validation score: 0.862500\n",
            "Iteration 13, loss = 0.12411530\n",
            "Validation score: 0.865500\n",
            "Iteration 14, loss = 0.11946782\n",
            "Validation score: 0.862000\n",
            "Iteration 15, loss = 0.11474231\n",
            "Validation score: 0.857500\n",
            "Validation score did not improve more than tol=0.000100 for 10 consecutive epochs. Stopping.\n",
            "Revised MLP model accuracy on test set: 0.8932\n"
          ]
        }
      ]
    },
    {
      "cell_type": "code",
      "source": [
        "mlp.get_params()"
      ],
      "metadata": {
        "colab": {
          "base_uri": "https://localhost:8080/"
        },
        "id": "T_pjibOKdeAq",
        "outputId": "0bcf7992-ac26-4830-c2cd-e0d8707af287"
      },
      "execution_count": null,
      "outputs": [
        {
          "output_type": "execute_result",
          "data": {
            "text/plain": [
              "{'activation': 'logistic',\n",
              " 'alpha': 0.0005,\n",
              " 'batch_size': 'auto',\n",
              " 'beta_1': 0.9,\n",
              " 'beta_2': 0.999,\n",
              " 'early_stopping': True,\n",
              " 'epsilon': 1e-08,\n",
              " 'hidden_layer_sizes': (300,),\n",
              " 'learning_rate': 'adaptive',\n",
              " 'learning_rate_init': 0.0005,\n",
              " 'max_fun': 15000,\n",
              " 'max_iter': 500,\n",
              " 'momentum': 0.9,\n",
              " 'n_iter_no_change': 10,\n",
              " 'nesterovs_momentum': True,\n",
              " 'power_t': 0.5,\n",
              " 'random_state': 1,\n",
              " 'shuffle': True,\n",
              " 'solver': 'adam',\n",
              " 'tol': 0.0001,\n",
              " 'validation_fraction': 0.1,\n",
              " 'verbose': True,\n",
              " 'warm_start': False}"
            ]
          },
          "metadata": {},
          "execution_count": 76
        }
      ]
    },
    {
      "cell_type": "code",
      "source": [],
      "metadata": {
        "id": "B5G6orrJofa1"
      },
      "execution_count": null,
      "outputs": []
    }
  ],
  "metadata": {
    "kernelspec": {
      "display_name": "Python 3",
      "name": "python3"
    },
    "language_info": {
      "codemirror_mode": {
        "name": "ipython",
        "version": 3
      },
      "file_extension": ".py",
      "mimetype": "text/x-python",
      "name": "python",
      "nbconvert_exporter": "python",
      "pygments_lexer": "ipython3",
      "version": "3.6.8"
    },
    "pycharm": {
      "stem_cell": {
        "cell_type": "raw",
        "metadata": {
          "collapsed": false
        },
        "source": []
      }
    },
    "colab": {
      "provenance": [],
      "machine_shape": "hm",
      "gpuType": "L4"
    },
    "accelerator": "GPU"
  },
  "nbformat": 4,
  "nbformat_minor": 0
}